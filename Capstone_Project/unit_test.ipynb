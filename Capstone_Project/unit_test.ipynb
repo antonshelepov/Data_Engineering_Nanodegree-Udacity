{
 "cells": [
  {
   "cell_type": "markdown",
   "id": "08d14842",
   "metadata": {},
   "source": [
    "#### This notebook provides some unit tests for processed data versus data in the Data Warehouse "
   ]
  },
  {
   "cell_type": "code",
   "execution_count": 1,
   "id": "991bcd3a",
   "metadata": {},
   "outputs": [],
   "source": [
    "# import libraries\n",
    "import pandas as pd\n",
    "import re\n",
    "import numpy as np\n",
    "import psycopg2"
   ]
  },
  {
   "cell_type": "code",
   "execution_count": 2,
   "id": "2ef5d28c",
   "metadata": {},
   "outputs": [],
   "source": [
    "def main_1(query):\n",
    "    \"\"\"\n",
    "    - establishes connection to postgres\n",
    "    \n",
    "    - sends files to ETL\n",
    "    \"\"\"\n",
    "    conn = psycopg2.connect(\"host=127.0.0.1 dbname=capstone user=postgres password=postgres port=5433\")\n",
    "    conn.set_session(autocommit=True)\n",
    "    cur = conn.cursor()\n",
    "    \n",
    "    cur.execute(query)\n",
    "    record = cur.fetchall()[0]\n",
    "    \n",
    "    colnames = [desc[0] for desc in cur.description]\n",
    "    \n",
    "    res = pd.DataFrame([record], columns=colnames, index=[0])\n",
    "\n",
    "    conn.close()\n",
    "    \n",
    "    return res"
   ]
  },
  {
   "cell_type": "markdown",
   "id": "ee4cebd2",
   "metadata": {},
   "source": [
    "#### QUALITY CHECK 1"
   ]
  },
  {
   "cell_type": "code",
   "execution_count": 3,
   "id": "e8b16d0e",
   "metadata": {},
   "outputs": [],
   "source": [
    "# read processed data\n",
    "raw_df_ccodes = pd.read_csv('./output/df_ccodes.csv', converters={\"country_code\":str,\n",
    "                                                                     \"country_region_code\":str,\n",
    "                                                                     \"country_sub_region_code\":str})"
   ]
  },
  {
   "cell_type": "code",
   "execution_count": 4,
   "id": "5314712f",
   "metadata": {},
   "outputs": [],
   "source": [
    "# make a copy\n",
    "df_ccodes = raw_df_ccodes.copy()"
   ]
  },
  {
   "cell_type": "code",
   "execution_count": 5,
   "id": "5030a4eb",
   "metadata": {},
   "outputs": [
    {
     "data": {
      "text/html": [
       "<div>\n",
       "<style scoped>\n",
       "    .dataframe tbody tr th:only-of-type {\n",
       "        vertical-align: middle;\n",
       "    }\n",
       "\n",
       "    .dataframe tbody tr th {\n",
       "        vertical-align: top;\n",
       "    }\n",
       "\n",
       "    .dataframe thead th {\n",
       "        text-align: right;\n",
       "    }\n",
       "</style>\n",
       "<table border=\"1\" class=\"dataframe\">\n",
       "  <thead>\n",
       "    <tr style=\"text-align: right;\">\n",
       "      <th></th>\n",
       "      <th>i94_country_code</th>\n",
       "      <th>country_name</th>\n",
       "      <th>country_alpha_2</th>\n",
       "      <th>country_alpha_3</th>\n",
       "      <th>country_code</th>\n",
       "      <th>country_iso_3166_2</th>\n",
       "      <th>country_region</th>\n",
       "      <th>country_sub_region</th>\n",
       "      <th>country_region_code</th>\n",
       "      <th>country_sub_region_code</th>\n",
       "    </tr>\n",
       "  </thead>\n",
       "  <tbody>\n",
       "    <tr>\n",
       "      <th>0</th>\n",
       "      <td>236</td>\n",
       "      <td>Afghanistan</td>\n",
       "      <td>AF</td>\n",
       "      <td>AFG</td>\n",
       "      <td>004</td>\n",
       "      <td>ISO 3166-2:AF</td>\n",
       "      <td>Asia</td>\n",
       "      <td>Southern Asia</td>\n",
       "      <td>142</td>\n",
       "      <td>034</td>\n",
       "    </tr>\n",
       "    <tr>\n",
       "      <th>1</th>\n",
       "      <td>101</td>\n",
       "      <td>Albania</td>\n",
       "      <td>AL</td>\n",
       "      <td>ALB</td>\n",
       "      <td>008</td>\n",
       "      <td>ISO 3166-2:AL</td>\n",
       "      <td>Europe</td>\n",
       "      <td>Southern Europe</td>\n",
       "      <td>150</td>\n",
       "      <td>039</td>\n",
       "    </tr>\n",
       "  </tbody>\n",
       "</table>\n",
       "</div>"
      ],
      "text/plain": [
       "   i94_country_code country_name country_alpha_2 country_alpha_3 country_code  \\\n",
       "0               236  Afghanistan              AF             AFG          004   \n",
       "1               101      Albania              AL             ALB          008   \n",
       "\n",
       "  country_iso_3166_2 country_region country_sub_region country_region_code  \\\n",
       "0      ISO 3166-2:AF           Asia      Southern Asia                 142   \n",
       "1      ISO 3166-2:AL         Europe    Southern Europe                 150   \n",
       "\n",
       "  country_sub_region_code  \n",
       "0                     034  \n",
       "1                     039  "
      ]
     },
     "execution_count": 5,
     "metadata": {},
     "output_type": "execute_result"
    }
   ],
   "source": [
    "df_ccodes.head(2)"
   ]
  },
  {
   "cell_type": "markdown",
   "id": "f1a69864",
   "metadata": {},
   "source": [
    "#### quality check 1\n",
    "multiple values must be uploaded in the write format (```astype(str)```):\n",
    "df_ccodes contains information about countries, such as country_code. Together with country_region_code, and country_sub_region_code these values start with zeros.\n",
    "\n",
    "This check will be executed as follows:\n",
    "* loc item country_name == 'Afghanistan' from df_ccodes\n",
    "* execute an SQL query to find row with the same value as country_name\n",
    "* validate correctness by comparing two rows"
   ]
  },
  {
   "cell_type": "code",
   "execution_count": 6,
   "id": "1b88e3c4",
   "metadata": {},
   "outputs": [],
   "source": [
    "record_processed = df_ccodes[df_ccodes.country_name == 'Afghanistan']"
   ]
  },
  {
   "cell_type": "code",
   "execution_count": 7,
   "id": "57754b49",
   "metadata": {},
   "outputs": [
    {
     "data": {
      "text/html": [
       "<div>\n",
       "<style scoped>\n",
       "    .dataframe tbody tr th:only-of-type {\n",
       "        vertical-align: middle;\n",
       "    }\n",
       "\n",
       "    .dataframe tbody tr th {\n",
       "        vertical-align: top;\n",
       "    }\n",
       "\n",
       "    .dataframe thead th {\n",
       "        text-align: right;\n",
       "    }\n",
       "</style>\n",
       "<table border=\"1\" class=\"dataframe\">\n",
       "  <thead>\n",
       "    <tr style=\"text-align: right;\">\n",
       "      <th></th>\n",
       "      <th>i94_country_code</th>\n",
       "      <th>country_name</th>\n",
       "      <th>country_alpha_2</th>\n",
       "      <th>country_alpha_3</th>\n",
       "      <th>country_code</th>\n",
       "      <th>country_iso_3166_2</th>\n",
       "      <th>country_region</th>\n",
       "      <th>country_sub_region</th>\n",
       "      <th>country_region_code</th>\n",
       "      <th>country_sub_region_code</th>\n",
       "    </tr>\n",
       "  </thead>\n",
       "  <tbody>\n",
       "    <tr>\n",
       "      <th>0</th>\n",
       "      <td>236</td>\n",
       "      <td>Afghanistan</td>\n",
       "      <td>AF</td>\n",
       "      <td>AFG</td>\n",
       "      <td>004</td>\n",
       "      <td>ISO 3166-2:AF</td>\n",
       "      <td>Asia</td>\n",
       "      <td>Southern Asia</td>\n",
       "      <td>142</td>\n",
       "      <td>034</td>\n",
       "    </tr>\n",
       "  </tbody>\n",
       "</table>\n",
       "</div>"
      ],
      "text/plain": [
       "   i94_country_code country_name country_alpha_2 country_alpha_3 country_code  \\\n",
       "0               236  Afghanistan              AF             AFG          004   \n",
       "\n",
       "  country_iso_3166_2 country_region country_sub_region country_region_code  \\\n",
       "0      ISO 3166-2:AF           Asia      Southern Asia                 142   \n",
       "\n",
       "  country_sub_region_code  \n",
       "0                     034  "
      ]
     },
     "execution_count": 7,
     "metadata": {},
     "output_type": "execute_result"
    }
   ],
   "source": [
    "record_processed"
   ]
  },
  {
   "cell_type": "code",
   "execution_count": 8,
   "id": "fa3288c9",
   "metadata": {},
   "outputs": [],
   "source": [
    "query_ccodes = f\"SELECT * FROM ccodes WHERE ccodes.country_name = 'Afghanistan'\""
   ]
  },
  {
   "cell_type": "code",
   "execution_count": 9,
   "id": "21b89e6f",
   "metadata": {},
   "outputs": [],
   "source": [
    "record_postgres = main_1(query_ccodes)"
   ]
  },
  {
   "cell_type": "code",
   "execution_count": 10,
   "id": "bd236a76",
   "metadata": {},
   "outputs": [
    {
     "data": {
      "text/html": [
       "<div>\n",
       "<style scoped>\n",
       "    .dataframe tbody tr th:only-of-type {\n",
       "        vertical-align: middle;\n",
       "    }\n",
       "\n",
       "    .dataframe tbody tr th {\n",
       "        vertical-align: top;\n",
       "    }\n",
       "\n",
       "    .dataframe thead th {\n",
       "        text-align: right;\n",
       "    }\n",
       "</style>\n",
       "<table border=\"1\" class=\"dataframe\">\n",
       "  <thead>\n",
       "    <tr style=\"text-align: right;\">\n",
       "      <th></th>\n",
       "      <th>i94_country_code</th>\n",
       "      <th>country_name</th>\n",
       "      <th>country_alpha_2</th>\n",
       "      <th>country_alpha_3</th>\n",
       "      <th>country_code</th>\n",
       "      <th>country_iso_3166_2</th>\n",
       "      <th>country_region</th>\n",
       "      <th>country_sub_region</th>\n",
       "      <th>country_region_code</th>\n",
       "      <th>country_sub_region_code</th>\n",
       "    </tr>\n",
       "  </thead>\n",
       "  <tbody>\n",
       "    <tr>\n",
       "      <th>0</th>\n",
       "      <td>236</td>\n",
       "      <td>Afghanistan</td>\n",
       "      <td>AF</td>\n",
       "      <td>AFG</td>\n",
       "      <td>004</td>\n",
       "      <td>ISO 3166-2:AF</td>\n",
       "      <td>Asia</td>\n",
       "      <td>Southern Asia</td>\n",
       "      <td>142</td>\n",
       "      <td>034</td>\n",
       "    </tr>\n",
       "  </tbody>\n",
       "</table>\n",
       "</div>"
      ],
      "text/plain": [
       "   i94_country_code country_name country_alpha_2 country_alpha_3 country_code  \\\n",
       "0               236  Afghanistan              AF             AFG          004   \n",
       "\n",
       "  country_iso_3166_2 country_region country_sub_region country_region_code  \\\n",
       "0      ISO 3166-2:AF           Asia      Southern Asia                 142   \n",
       "\n",
       "  country_sub_region_code  \n",
       "0                     034  "
      ]
     },
     "execution_count": 10,
     "metadata": {},
     "output_type": "execute_result"
    }
   ],
   "source": [
    "record_postgres"
   ]
  },
  {
   "cell_type": "markdown",
   "id": "256836e0",
   "metadata": {},
   "source": [
    "#### both processed data (.csv) and Data Warehouse records are identical"
   ]
  },
  {
   "cell_type": "code",
   "execution_count": 11,
   "id": "c417e076",
   "metadata": {},
   "outputs": [
    {
     "name": "stdout",
     "output_type": "stream",
     "text": [
      "True <]-- records are equal\n"
     ]
    }
   ],
   "source": [
    "print(f'{record_processed.equals(record_postgres)} <]-- records are equal')"
   ]
  },
  {
   "cell_type": "markdown",
   "id": "6222ac5b",
   "metadata": {},
   "source": [
    "#### QUALITY CHECK 2"
   ]
  },
  {
   "cell_type": "code",
   "execution_count": 12,
   "id": "befaa7a5",
   "metadata": {},
   "outputs": [],
   "source": [
    "import glob\n",
    "files = glob.glob('./output_test/*')"
   ]
  },
  {
   "cell_type": "code",
   "execution_count": 13,
   "id": "df47a33a",
   "metadata": {},
   "outputs": [],
   "source": [
    "df_processed = pd.read_csv(files[0], compression='gzip')"
   ]
  },
  {
   "cell_type": "code",
   "execution_count": 14,
   "id": "34127581",
   "metadata": {},
   "outputs": [
    {
     "data": {
      "text/html": [
       "<div>\n",
       "<style scoped>\n",
       "    .dataframe tbody tr th:only-of-type {\n",
       "        vertical-align: middle;\n",
       "    }\n",
       "\n",
       "    .dataframe tbody tr th {\n",
       "        vertical-align: top;\n",
       "    }\n",
       "\n",
       "    .dataframe thead th {\n",
       "        text-align: right;\n",
       "    }\n",
       "</style>\n",
       "<table border=\"1\" class=\"dataframe\">\n",
       "  <thead>\n",
       "    <tr style=\"text-align: right;\">\n",
       "      <th></th>\n",
       "      <th>CoC</th>\n",
       "      <th>CoR</th>\n",
       "      <th>PoE</th>\n",
       "      <th>state_landing</th>\n",
       "      <th>age</th>\n",
       "      <th>visapost</th>\n",
       "      <th>occup</th>\n",
       "      <th>year_birth</th>\n",
       "      <th>gender</th>\n",
       "      <th>airline_used</th>\n",
       "      <th>num_flight</th>\n",
       "      <th>visatype</th>\n",
       "      <th>dt_arrival</th>\n",
       "      <th>dt_departure</th>\n",
       "      <th>month</th>\n",
       "    </tr>\n",
       "  </thead>\n",
       "  <tbody>\n",
       "    <tr>\n",
       "      <th>0</th>\n",
       "      <td>101</td>\n",
       "      <td>101</td>\n",
       "      <td>WAS</td>\n",
       "      <td>MI</td>\n",
       "      <td>55</td>\n",
       "      <td>NaN</td>\n",
       "      <td>NaN</td>\n",
       "      <td>1961</td>\n",
       "      <td>M</td>\n",
       "      <td>OS</td>\n",
       "      <td>93</td>\n",
       "      <td>B2</td>\n",
       "      <td>2016-04-01</td>\n",
       "      <td>2016-08-25</td>\n",
       "      <td>4</td>\n",
       "    </tr>\n",
       "    <tr>\n",
       "      <th>1</th>\n",
       "      <td>101</td>\n",
       "      <td>101</td>\n",
       "      <td>BOS</td>\n",
       "      <td>MA</td>\n",
       "      <td>58</td>\n",
       "      <td>TIA</td>\n",
       "      <td>NaN</td>\n",
       "      <td>1958</td>\n",
       "      <td>M</td>\n",
       "      <td>LH</td>\n",
       "      <td>00422</td>\n",
       "      <td>B1</td>\n",
       "      <td>2016-04-01</td>\n",
       "      <td>2016-04-05</td>\n",
       "      <td>4</td>\n",
       "    </tr>\n",
       "  </tbody>\n",
       "</table>\n",
       "</div>"
      ],
      "text/plain": [
       "   CoC  CoR  PoE state_landing  age visapost occup  year_birth gender  \\\n",
       "0  101  101  WAS            MI   55      NaN   NaN        1961      M   \n",
       "1  101  101  BOS            MA   58      TIA   NaN        1958      M   \n",
       "\n",
       "  airline_used num_flight visatype  dt_arrival dt_departure  month  \n",
       "0           OS         93       B2  2016-04-01   2016-08-25      4  \n",
       "1           LH      00422       B1  2016-04-01   2016-04-05      4  "
      ]
     },
     "execution_count": 14,
     "metadata": {},
     "output_type": "execute_result"
    }
   ],
   "source": [
    "df_processed.head(2)"
   ]
  },
  {
   "cell_type": "markdown",
   "id": "cb7253d9",
   "metadata": {},
   "source": [
    "#### quality check 2\n",
    "values from num_flight must be uploaded in the write format (```astype(str)```):\n",
    "If upload was done correctly a simple query will give the same result\n",
    "\n",
    "This check will be executed as follows:\n",
    "1. compare formats\n",
    "* loc item PoE == 'BOS' from df_processed\n",
    "* execute an SQL query to find row with the same value as PoE\n",
    "* validate correctness by comparing two rows\n",
    "\n",
    "2. simple query results\n",
    "* ```value_counts()``` will be applied to the column PoE\n",
    "* value for MIA will be extracted as test_value\n",
    "* query will be executed in order to count MIA PoE records in the Data Warehouse as tested_value\n",
    "* both values will be compared"
   ]
  },
  {
   "cell_type": "code",
   "execution_count": 15,
   "id": "6bc88fb3",
   "metadata": {},
   "outputs": [
    {
     "data": {
      "text/plain": [
       "NYC    22578\n",
       "MIA    16302\n",
       "LOS    14640\n",
       "ORL     9617\n",
       "Name: PoE, dtype: int64"
      ]
     },
     "execution_count": 15,
     "metadata": {},
     "output_type": "execute_result"
    }
   ],
   "source": [
    "df_processed.PoE.value_counts().head(4)"
   ]
  },
  {
   "cell_type": "code",
   "execution_count": 16,
   "id": "5d7896b2",
   "metadata": {},
   "outputs": [],
   "source": [
    "test_value = df_processed.PoE.value_counts()[1]"
   ]
  },
  {
   "cell_type": "code",
   "execution_count": 17,
   "id": "e3232a7d",
   "metadata": {},
   "outputs": [
    {
     "data": {
      "text/plain": [
       "16302"
      ]
     },
     "execution_count": 17,
     "metadata": {},
     "output_type": "execute_result"
    }
   ],
   "source": [
    "test_value"
   ]
  },
  {
   "cell_type": "code",
   "execution_count": 18,
   "id": "1195fb4d",
   "metadata": {},
   "outputs": [],
   "source": [
    "def main_2(query):\n",
    "    \"\"\"\n",
    "    - establishes connection to postgres\n",
    "    \n",
    "    - sends files to ETL\n",
    "    \"\"\"\n",
    "    conn = psycopg2.connect(\"host=127.0.0.1 dbname=capstone user=postgres password=postgres port=5433\")\n",
    "    conn.set_session(autocommit=True)\n",
    "    cur = conn.cursor()\n",
    "    \n",
    "    cur.execute(query)\n",
    "    record = cur.fetchall()[0]\n",
    "    \n",
    "    conn.close()\n",
    "    \n",
    "    return record"
   ]
  },
  {
   "cell_type": "code",
   "execution_count": 19,
   "id": "798ef8e1",
   "metadata": {},
   "outputs": [],
   "source": [
    "query_processed = f\"SELECT count(poe) FROM immigrants WHERE poe = 'MIA';\""
   ]
  },
  {
   "cell_type": "code",
   "execution_count": 20,
   "id": "c09e094a",
   "metadata": {},
   "outputs": [],
   "source": [
    "tested_value = main_2(query_processed)[0]"
   ]
  },
  {
   "cell_type": "code",
   "execution_count": 21,
   "id": "162e55cf",
   "metadata": {},
   "outputs": [
    {
     "data": {
      "text/plain": [
       "True"
      ]
     },
     "execution_count": 21,
     "metadata": {},
     "output_type": "execute_result"
    }
   ],
   "source": [
    "## both values are equal\n",
    "test_value == tested_value"
   ]
  },
  {
   "cell_type": "code",
   "execution_count": null,
   "id": "bb091bfa",
   "metadata": {},
   "outputs": [],
   "source": []
  }
 ],
 "metadata": {
  "kernelspec": {
   "display_name": "Python 3",
   "language": "python",
   "name": "python3"
  },
  "language_info": {
   "codemirror_mode": {
    "name": "ipython",
    "version": 3
   },
   "file_extension": ".py",
   "mimetype": "text/x-python",
   "name": "python",
   "nbconvert_exporter": "python",
   "pygments_lexer": "ipython3",
   "version": "3.8.10"
  }
 },
 "nbformat": 4,
 "nbformat_minor": 5
}
