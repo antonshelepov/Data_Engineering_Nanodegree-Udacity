{
 "cells": [
  {
   "cell_type": "markdown",
   "metadata": {},
   "source": [
    "# Project Title\n",
    "### Data Engineering Capstone Project\n",
    "\n",
    "#### Project Summary\n",
    "An international beverage production company called \"A sweet thing\" is interested in increasing their sales by entering new markets.  Present in more than 50 countries it sees the greatest potential in North America, the last continent the company couldn't take a step in, until now.\n",
    "\n",
    "The idea behind the project is to equip stakeholders (from a few different departments) with necessary statistical knowledge in order to help them make more thorough decisions.\n",
    "\n",
    "Stakeholders are primarily interested in airports (location, passenger capacity) and cities (location, population density, share of female population) around them.\n",
    "\n",
    "The goal of this project in, on the one hand, to provide the company with valuable insights from pre-defined data sets, and, on the other hand, to further solidify data-driven decision making  \n",
    "\n",
    "The project follows the follow steps:\n",
    "* Step 1: Scope the Project and Gather Data\n",
    "* Step 2: Explore and Assess the Data\n",
    "* Step 3: Define the Data Model\n",
    "* Step 4: Run ETL to Model the Data\n",
    "* Step 5: Complete Project Write Up"
   ]
  },
  {
   "cell_type": "code",
   "execution_count": 80,
   "metadata": {},
   "outputs": [],
   "source": [
    "# Do all imports and installs here\n",
    "import pandas as pd\n",
    "import numpy as np\n",
    "import re\n",
    "\n",
    "# define pandas options needed to explore data mor efficient\n",
    "pd.options.display.max_columns = None\n",
    "pd.options.display.max_rows = 100\n",
    "pd.options.display.max_colwidth = 200"
   ]
  },
  {
   "cell_type": "markdown",
   "metadata": {},
   "source": [
    "### Step 1: Scope the Project and Gather Data\n",
    "\n",
    "#### Scope \n",
    "This project's main goal is to deliver data about immigration to US, so that stakeholders of the company I work for as a data engineer can analyze it and make data-based decisions. Stakeholders not only are interested in airports and nearby cities the US visitors choose to travel to, but also about the demographics of this cities.\n",
    "\n",
    "In order to accomplish goals set a great amount of data was parsed. Next block holds files, which were chosen for this project.\n",
    "Each file provides information on a narrow field, which combined deliver a greater picture of the US immigration activities for 2016.\n",
    "\n",
    "Pandas library is used to analyze and exctract valuable information from all .csv files. Firstly, I will explore each file content, so that I can decide, what columns are important. After that "
   ]
  },
  {
   "cell_type": "markdown",
   "metadata": {},
   "source": [
    "#### Data Read-Ins"
   ]
  },
  {
   "cell_type": "code",
   "execution_count": 4,
   "metadata": {},
   "outputs": [],
   "source": [
    "# a sample of the main data set \n",
    "fname_immi = 'immigration_data_sample.csv'\n",
    "# a foreigner can only visit US if a visa is issued\n",
    "fname_visatype = 'visatype.csv'\n",
    "# airport codes and cities\n",
    "fname_ccodes = 'country_codes.csv'\n",
    "# airport codes and cities\n",
    "fname_airports = 'airport-codes_csv.csv'\n",
    "# data on US international airports (not every airport is a Point-of-Entry)\n",
    "fname_international = 'international_airports_US.csv'\n",
    "# data on US population by city and state\n",
    "fname_demographics = 'us-cities-demographics.csv'\n",
    "# another dataset holding data about cities\n",
    "fname_uszips = 'uszips.csv'\n",
    "# world temperature\n",
    "fname_temper = 'worldTempByCity.csv'"
   ]
  },
  {
   "cell_type": "code",
   "execution_count": null,
   "metadata": {},
   "outputs": [],
   "source": [
    "df_visatype = pd.read_csv(fname_visatype,delimiter='|')"
   ]
  },
  {
   "cell_type": "code",
   "execution_count": null,
   "metadata": {},
   "outputs": [],
   "source": [
    "df_ccodes = pd.read_csv(fname_ccodes)"
   ]
  },
  {
   "cell_type": "code",
   "execution_count": null,
   "metadata": {},
   "outputs": [],
   "source": [
    "df_airports = pd.read_csv(fname_airports)"
   ]
  },
  {
   "cell_type": "code",
   "execution_count": null,
   "metadata": {},
   "outputs": [],
   "source": [
    "df_inter_US = pd.read_csv(fname_international)"
   ]
  },
  {
   "cell_type": "code",
   "execution_count": null,
   "metadata": {},
   "outputs": [],
   "source": [
    "df_demographics = pd.read_csv(fname_demographics, delimiter=\";\")"
   ]
  },
  {
   "cell_type": "code",
   "execution_count": null,
   "metadata": {},
   "outputs": [],
   "source": [
    "df_zips = pd.read_csv(fname_uszips)"
   ]
  },
  {
   "cell_type": "markdown",
   "metadata": {},
   "source": [
    "### Step 2: Explore and Assess the Data\n",
    "#### Explore the Data \n",
    "This step included reads and exploration of provided and additional datasets gathered by me. TODOs, as well as issues, are included for each dataset "
   ]
  },
  {
   "cell_type": "markdown",
   "metadata": {},
   "source": [
    "#### I94_SAS_Labels_Descriptions.SAS"
   ]
  },
  {
   "cell_type": "markdown",
   "metadata": {},
   "source": [
    "This file contains labels and description about values from immigration datasets.\n",
    "#### TODOs\n",
    "* extract Port-of-Entry labels\n",
    "* extract Country-of-Citizenship labels\n",
    "* extract State codes\n",
    "\n",
    "#### Issues\n",
    "* data in this file is messy: lots of invalid values"
   ]
  },
  {
   "cell_type": "code",
   "execution_count": 73,
   "metadata": {},
   "outputs": [],
   "source": [
    "# Get port locations from SAS text file\n",
    "with open(\"input/I94_SAS_Labels_Descriptions.SAS\") as f:\n",
    "    content = f.readlines()"
   ]
  },
  {
   "cell_type": "code",
   "execution_count": 75,
   "metadata": {},
   "outputs": [],
   "source": [
    "def get_I94port(ports):\n",
    "    \"\"\"This method \n",
    "    \n",
    "    Params:\n",
    "    \n",
    "    Returns:\n",
    "    \"\"\"\n",
    "    ports_strip = [p.strip() for p in ports]\n",
    "    ports_known = [port for port in ports_strip if 'No PORT Code' not in port and 'Collapsed' not in port]\n",
    "    ports_cleaned = [port.replace('\\t','') for port in ports_known]\n",
    "    ports_results = []\n",
    "    for port in ports_cleaned:\n",
    "        match = re.search(\"\"\"\\'([A-Z0-9]{3})\\'\\S*=\\S*\\'([A-Z\\(\\)\\.\\s\\/-]*),\\s?([A-Z]{2})(\\s\\(BPS\\)|\\s#ARPT|\\s*)\\'\"\"\", port)\n",
    "        if match:\n",
    "            code, city, state = match.group(1), match.group(2), match.group(3).strip()\n",
    "            ports_results.append((code, city, state))\n",
    "        else:\n",
    "            print(f'Could not match port of entry: {port}')\n",
    "    df = pd.DataFrame(ports_results, columns=['I94_port_code', 'I94_port_city', 'I94_port_state'])\n",
    "    return df"
   ]
  },
  {
   "cell_type": "code",
   "execution_count": 76,
   "metadata": {},
   "outputs": [],
   "source": [
    "def get_I94cit(cit_codes):\n",
    "    \"\"\"This method \n",
    "    \n",
    "    Params:\n",
    "    \n",
    "    Returns:\n",
    "    \"\"\"\n",
    "    cit_codes_strip = [c.strip() for c in cit_codes]\n",
    "    cit_codes_valid = [c for c in cit_codes_strip if 'No Country Code' not in c \n",
    "                                                 and 'INVALID:' not in c \n",
    "                                                 and '(should not show)' not in c]\n",
    "    cit_codes_cleaned = [c.replace('\\t','') for c in cit_codes_valid]\n",
    "    cit_results = []\n",
    "    for c in cit_codes_cleaned:\n",
    "        match = re.search(\"\"\"(\\d{3})\\s?=\\s*\\'(.*)\\'\"\"\", c)\n",
    "        if match:\n",
    "            cit_results.append((match.group(1), match.group(2)))\n",
    "    #cit_codes_json = json.dumps(dict(cit_results))\n",
    "    df = pd.DataFrame(cit_results, columns=['I94_country_code', 'I94_country'])\n",
    "    return df"
   ]
  },
  {
   "cell_type": "code",
   "execution_count": 77,
   "metadata": {},
   "outputs": [],
   "source": [
    "def get_I94addr(addr_states):\n",
    "    \"\"\"This method \n",
    "    \n",
    "    Params:\n",
    "    \n",
    "    Returns:\n",
    "    \"\"\"\n",
    "    addr_states_strip = [a.strip() for a in addr_states]\n",
    "    addr_states_cleaned = [a.replace('\\t','') for a in addr_states_strip]\n",
    "    addr_results = []\n",
    "    for a in addr_states_cleaned:\n",
    "        match = re.match(\"\"\"\\'([A-Z]{2})\\'=\\'([A-Z\\.\\s]*)\\'\"\"\", a)\n",
    "        if match:\n",
    "            addr_results.append((match.group(1), match.group(2)))\n",
    "    df = pd.DataFrame(addr_results, columns=['I94_state_code', 'I94_state'])\n",
    "    return df"
   ]
  },
  {
   "cell_type": "code",
   "execution_count": 78,
   "metadata": {},
   "outputs": [],
   "source": [
    "# define lines for particular labels\n",
    "ports = content[302:962]\n",
    "cit_codes = content[10:298]\n",
    "addr_states = content[982:1036]"
   ]
  },
  {
   "cell_type": "code",
   "execution_count": 81,
   "metadata": {},
   "outputs": [
    {
     "name": "stdout",
     "output_type": "stream",
     "text": [
      "Could not match port of entry: 'MAP'='MARIPOSA AZ           '\n",
      "Could not match port of entry: 'BLT'='PACIFIC, HWY. STATION, CA '\n",
      "Could not match port of entry: 'WSB'='WARROAD INTL, SPB, MN'\n",
      "Could not match port of entry: 'SAI'='SAIPAN, SPN           '\n",
      "Could not match port of entry: 'DER'='DERBY LINE, VT (I-91) '\n",
      "Could not match port of entry: 'DLV'='DERBY LINE, VT (RT. 5)'\n",
      "Could not match port of entry: 'SWB'='SWANTON, VT (BP - SECTOR HQ)'\n",
      "Could not match port of entry: 'BLI'='BELLINGHAM, WASHINGTON #INTL'\n",
      "Could not match port of entry: 'XXX'='NOT REPORTED/UNKNOWN  '\n",
      "Could not match port of entry: '888'='UNIDENTIFED AIR / SEAPORT'\n",
      "Could not match port of entry: 'UNK'='UNKNOWN POE           '\n",
      "Could not match port of entry: 'CLG'='CALGARY, CANADA       '\n",
      "Could not match port of entry: 'EDA'='EDMONTON, CANADA      '\n",
      "Could not match port of entry: 'YHC'='HAKAI PASS, CANADA'\n",
      "Could not match port of entry: 'HAL'='Halifax, NS, Canada   '\n",
      "Could not match port of entry: 'MON'='MONTREAL, CANADA      '\n",
      "Could not match port of entry: 'OTT'='OTTAWA, CANADA        '\n",
      "Could not match port of entry: 'YXE'='SASKATOON, CANADA'\n",
      "Could not match port of entry: 'TOR'='TORONTO, CANADA       '\n",
      "Could not match port of entry: 'VCV'='VANCOUVER, CANADA     '\n",
      "Could not match port of entry: 'VIC'='VICTORIA, CANADA      '\n",
      "Could not match port of entry: 'WIN'='WINNIPEG, CANADA      '\n",
      "Could not match port of entry: 'AMS'='AMSTERDAM-SCHIPHOL, NETHERLANDS'\n",
      "Could not match port of entry: 'ARB'='ARUBA, NETH ANTILLES  '\n",
      "Could not match port of entry: 'BAN'='BANKOK, THAILAND      '\n",
      "Could not match port of entry: 'BEI'='BEICA #ARPT, ETHIOPIA'\n",
      "Could not match port of entry: 'PEK'='BEIJING CAPITAL INTL, PRC'\n",
      "Could not match port of entry: 'BDA'='KINDLEY FIELD, BERMUDA'\n",
      "Could not match port of entry: 'BOG'='BOGOTA, EL DORADO #ARPT, COLOMBIA'\n",
      "Could not match port of entry: 'EZE'='BUENOS AIRES, MINISTRO PIST, ARGENTINA'\n",
      "Could not match port of entry: 'CUN'='CANCUN, MEXICO'\n",
      "Could not match port of entry: 'CRQ'='CARAVELAS, BA #ARPT, BRAZIL'\n",
      "Could not match port of entry: 'MVD'='CARRASCO, URUGUAY'\n",
      "Could not match port of entry: 'DUB'='DUBLIN, IRELAND       '\n",
      "Could not match port of entry: 'FOU'='FOUGAMOU #ARPT, GABON'\n",
      "Could not match port of entry: 'FBA'='FREEPORT, BAHAMAS      '\n",
      "Could not match port of entry: 'MTY'='GEN M. ESCOBEDO, Monterrey, MX'\n",
      "Could not match port of entry: 'GCM'='GRAND CAYMAN, CAYMAN ISLAND'\n",
      "Could not match port of entry: 'GDL'='GUADALAJARA, MIGUEL HIDAL, MX'\n",
      "Could not match port of entry: 'HAM'='HAMILTON, BERMUDA     '\n",
      "Could not match port of entry: 'ICN'='INCHON, SEOUL KOREA'\n",
      "Could not match port of entry: 'IWA'='INVALID - IWAKUNI, JAPAN'\n",
      "Could not match port of entry: 'CND'='KOGALNICEANU, ROMANIA'\n",
      "Could not match port of entry: 'LAH'='LABUHA ARPT, INDONESIA'\n",
      "Could not match port of entry: 'DUR'='LOUIS BOTHA, SOUTH AFRICA'\n",
      "Could not match port of entry: 'MAL'='MANGOLE ARPT, INDONESIA'\n",
      "Could not match port of entry: 'MDE'='MEDELLIN, COLOMBIA'\n",
      "Could not match port of entry: 'MEX'='JUAREZ INTL, MEXICO CITY, MX'\n",
      "Could not match port of entry: 'LHR'='MIDDLESEX, ENGLAND'\n",
      "Could not match port of entry: 'NBO'='NAIROBI, KENYA        '\n",
      "Could not match port of entry: 'NAS'='NASSAU, BAHAMAS       '\n",
      "Could not match port of entry: 'NCA'='NORTH CAICOS, TURK & CAIMAN'\n",
      "Could not match port of entry: 'PTY'='OMAR TORRIJOS, PANAMA'\n",
      "Could not match port of entry: 'SPV'='PAPUA, NEW GUINEA'\n",
      "Could not match port of entry: 'UIO'='QUITO (MARISCAL SUCR), ECUADOR'\n",
      "Could not match port of entry: 'RIT'='ROME, ITALY           '\n",
      "Could not match port of entry: 'SNO'='SAKON NAKHON #ARPT, THAILAND'\n",
      "Could not match port of entry: 'SLP'='SAN LUIS POTOSI #ARPT, MEXICO'\n",
      "Could not match port of entry: 'SAN'='SAN SALVADOR, EL SALVADOR'\n",
      "Could not match port of entry: 'SRO'='SANTANA RAMOS #ARPT, COLOMBIA'\n",
      "Could not match port of entry: 'GRU'='GUARULHOS INTL, SAO PAULO, BRAZIL'\n",
      "Could not match port of entry: 'SHA'='SHANNON, IRELAND      '\n",
      "Could not match port of entry: 'HIL'='SHILLAVO, ETHIOPIA'\n",
      "Could not match port of entry: 'TOK'='TOROKINA #ARPT, PAPUA, NEW GUINEA'\n",
      "Could not match port of entry: 'VER'='VERACRUZ, MEXICO'\n",
      "Could not match port of entry: 'LGW'='WEST SUSSEX, ENGLAND  '\n",
      "Could not match port of entry: 'ZZZ'='MEXICO Land (Banco de Mexico) '\n",
      "Could not match port of entry: 'MAA'='Abu Dhabi'\n"
     ]
    }
   ],
   "source": [
    "I94_ports = get_I94port(ports)\n",
    "I94_cit_codes = get_I94cit(cit_codes)\n",
    "I94_addr_states = get_I94addr(addr_states)"
   ]
  },
  {
   "cell_type": "code",
   "execution_count": 82,
   "metadata": {},
   "outputs": [
    {
     "data": {
      "text/html": [
       "<div>\n",
       "<style scoped>\n",
       "    .dataframe tbody tr th:only-of-type {\n",
       "        vertical-align: middle;\n",
       "    }\n",
       "\n",
       "    .dataframe tbody tr th {\n",
       "        vertical-align: top;\n",
       "    }\n",
       "\n",
       "    .dataframe thead th {\n",
       "        text-align: right;\n",
       "    }\n",
       "</style>\n",
       "<table border=\"1\" class=\"dataframe\">\n",
       "  <thead>\n",
       "    <tr style=\"text-align: right;\">\n",
       "      <th></th>\n",
       "      <th>I94_country_code</th>\n",
       "      <th>I94_country</th>\n",
       "    </tr>\n",
       "  </thead>\n",
       "  <tbody>\n",
       "    <tr>\n",
       "      <th>0</th>\n",
       "      <td>236</td>\n",
       "      <td>AFGHANISTAN</td>\n",
       "    </tr>\n",
       "    <tr>\n",
       "      <th>1</th>\n",
       "      <td>101</td>\n",
       "      <td>ALBANIA</td>\n",
       "    </tr>\n",
       "    <tr>\n",
       "      <th>2</th>\n",
       "      <td>316</td>\n",
       "      <td>ALGERIA</td>\n",
       "    </tr>\n",
       "    <tr>\n",
       "      <th>3</th>\n",
       "      <td>102</td>\n",
       "      <td>ANDORRA</td>\n",
       "    </tr>\n",
       "    <tr>\n",
       "      <th>4</th>\n",
       "      <td>324</td>\n",
       "      <td>ANGOLA</td>\n",
       "    </tr>\n",
       "  </tbody>\n",
       "</table>\n",
       "</div>"
      ],
      "text/plain": [
       "  I94_country_code  I94_country\n",
       "0              236  AFGHANISTAN\n",
       "1              101      ALBANIA\n",
       "2              316      ALGERIA\n",
       "3              102      ANDORRA\n",
       "4              324       ANGOLA"
      ]
     },
     "execution_count": 82,
     "metadata": {},
     "output_type": "execute_result"
    }
   ],
   "source": [
    "I94_cit_codes.head()"
   ]
  },
  {
   "cell_type": "code",
   "execution_count": 83,
   "metadata": {},
   "outputs": [
    {
     "data": {
      "text/html": [
       "<div>\n",
       "<style scoped>\n",
       "    .dataframe tbody tr th:only-of-type {\n",
       "        vertical-align: middle;\n",
       "    }\n",
       "\n",
       "    .dataframe tbody tr th {\n",
       "        vertical-align: top;\n",
       "    }\n",
       "\n",
       "    .dataframe thead th {\n",
       "        text-align: right;\n",
       "    }\n",
       "</style>\n",
       "<table border=\"1\" class=\"dataframe\">\n",
       "  <thead>\n",
       "    <tr style=\"text-align: right;\">\n",
       "      <th></th>\n",
       "      <th>I94_port_code</th>\n",
       "      <th>I94_port_city</th>\n",
       "      <th>I94_port_state</th>\n",
       "    </tr>\n",
       "  </thead>\n",
       "  <tbody>\n",
       "    <tr>\n",
       "      <th>509</th>\n",
       "      <td>HMO</td>\n",
       "      <td>GEN PESQUEIRA GARCIA</td>\n",
       "      <td>MX</td>\n",
       "    </tr>\n",
       "  </tbody>\n",
       "</table>\n",
       "</div>"
      ],
      "text/plain": [
       "    I94_port_code         I94_port_city I94_port_state\n",
       "509           HMO  GEN PESQUEIRA GARCIA             MX"
      ]
     },
     "execution_count": 83,
     "metadata": {},
     "output_type": "execute_result"
    }
   ],
   "source": [
    "I94_ports[I94_ports.I94_port_state == 'MX']"
   ]
  },
  {
   "cell_type": "code",
   "execution_count": 84,
   "metadata": {},
   "outputs": [],
   "source": [
    "I94_ports.drop(I94_ports.index[509],inplace=True)\n",
    "I94_ports.reset_index(inplace=True)"
   ]
  },
  {
   "cell_type": "code",
   "execution_count": 86,
   "metadata": {},
   "outputs": [
    {
     "name": "stdout",
     "output_type": "stream",
     "text": [
      "The dataframe holds 522 US Point-of-Entry\n"
     ]
    }
   ],
   "source": [
    "print(f\"\"\"The dataframe holds {len(I94_ports)} US Point-of-Entry\"\"\")"
   ]
  },
  {
   "cell_type": "code",
   "execution_count": 87,
   "metadata": {},
   "outputs": [
    {
     "data": {
      "text/html": [
       "<div>\n",
       "<style scoped>\n",
       "    .dataframe tbody tr th:only-of-type {\n",
       "        vertical-align: middle;\n",
       "    }\n",
       "\n",
       "    .dataframe tbody tr th {\n",
       "        vertical-align: top;\n",
       "    }\n",
       "\n",
       "    .dataframe thead th {\n",
       "        text-align: right;\n",
       "    }\n",
       "</style>\n",
       "<table border=\"1\" class=\"dataframe\">\n",
       "  <thead>\n",
       "    <tr style=\"text-align: right;\">\n",
       "      <th></th>\n",
       "      <th>index</th>\n",
       "      <th>I94_port_code</th>\n",
       "      <th>I94_port_city</th>\n",
       "      <th>I94_port_state</th>\n",
       "    </tr>\n",
       "  </thead>\n",
       "  <tbody>\n",
       "    <tr>\n",
       "      <th>0</th>\n",
       "      <td>0</td>\n",
       "      <td>ALC</td>\n",
       "      <td>ALCAN</td>\n",
       "      <td>AK</td>\n",
       "    </tr>\n",
       "    <tr>\n",
       "      <th>1</th>\n",
       "      <td>1</td>\n",
       "      <td>ATW</td>\n",
       "      <td>APPLETON</td>\n",
       "      <td>WI</td>\n",
       "    </tr>\n",
       "    <tr>\n",
       "      <th>2</th>\n",
       "      <td>2</td>\n",
       "      <td>ANC</td>\n",
       "      <td>ANCHORAGE</td>\n",
       "      <td>AK</td>\n",
       "    </tr>\n",
       "    <tr>\n",
       "      <th>3</th>\n",
       "      <td>3</td>\n",
       "      <td>BAR</td>\n",
       "      <td>BAKER AAF - BAKER ISLAND</td>\n",
       "      <td>AK</td>\n",
       "    </tr>\n",
       "    <tr>\n",
       "      <th>4</th>\n",
       "      <td>4</td>\n",
       "      <td>DAC</td>\n",
       "      <td>DALTONS CACHE</td>\n",
       "      <td>AK</td>\n",
       "    </tr>\n",
       "  </tbody>\n",
       "</table>\n",
       "</div>"
      ],
      "text/plain": [
       "   index I94_port_code             I94_port_city I94_port_state\n",
       "0      0           ALC                     ALCAN             AK\n",
       "1      1           ATW                  APPLETON             WI\n",
       "2      2           ANC                 ANCHORAGE             AK\n",
       "3      3           BAR  BAKER AAF - BAKER ISLAND             AK\n",
       "4      4           DAC             DALTONS CACHE             AK"
      ]
     },
     "execution_count": 87,
     "metadata": {},
     "output_type": "execute_result"
    }
   ],
   "source": [
    "I94_ports.head()"
   ]
  },
  {
   "cell_type": "code",
   "execution_count": 88,
   "metadata": {},
   "outputs": [
    {
     "data": {
      "text/html": [
       "<div>\n",
       "<style scoped>\n",
       "    .dataframe tbody tr th:only-of-type {\n",
       "        vertical-align: middle;\n",
       "    }\n",
       "\n",
       "    .dataframe tbody tr th {\n",
       "        vertical-align: top;\n",
       "    }\n",
       "\n",
       "    .dataframe thead th {\n",
       "        text-align: right;\n",
       "    }\n",
       "</style>\n",
       "<table border=\"1\" class=\"dataframe\">\n",
       "  <thead>\n",
       "    <tr style=\"text-align: right;\">\n",
       "      <th></th>\n",
       "      <th>I94_country_code</th>\n",
       "      <th>I94_country</th>\n",
       "    </tr>\n",
       "  </thead>\n",
       "  <tbody>\n",
       "    <tr>\n",
       "      <th>0</th>\n",
       "      <td>236</td>\n",
       "      <td>AFGHANISTAN</td>\n",
       "    </tr>\n",
       "    <tr>\n",
       "      <th>1</th>\n",
       "      <td>101</td>\n",
       "      <td>ALBANIA</td>\n",
       "    </tr>\n",
       "  </tbody>\n",
       "</table>\n",
       "</div>"
      ],
      "text/plain": [
       "  I94_country_code  I94_country\n",
       "0              236  AFGHANISTAN\n",
       "1              101      ALBANIA"
      ]
     },
     "execution_count": 88,
     "metadata": {},
     "output_type": "execute_result"
    }
   ],
   "source": [
    "I94_cit_codes.head(2)"
   ]
  },
  {
   "cell_type": "code",
   "execution_count": 90,
   "metadata": {},
   "outputs": [
    {
     "name": "stdout",
     "output_type": "stream",
     "text": [
      "Country codes for 235 countries are provided\n"
     ]
    }
   ],
   "source": [
    "print(f\"\"\"Country codes for {len(I94_cit_codes)} countries are provided\"\"\")"
   ]
  },
  {
   "cell_type": "markdown",
   "metadata": {},
   "source": [
    "#### I94_ports and international_airports_US.csv"
   ]
  },
  {
   "cell_type": "markdown",
   "metadata": {},
   "source": [
    "#### TODOs\n",
    "* get airport capacity, extract it from a string, transform it to integer\n",
    "\n",
    "#### Issues\n",
    "* airport capacity ('Passanger_Role')"
   ]
  },
  {
   "cell_type": "code",
   "execution_count": 91,
   "metadata": {},
   "outputs": [],
   "source": [
    "raw_inter_airports = pd.read_csv('input/international_airports_US.csv')\n",
    "df_inter_airports = raw_inter_airports.copy()"
   ]
  },
  {
   "cell_type": "code",
   "execution_count": 92,
   "metadata": {},
   "outputs": [
    {
     "name": "stdout",
     "output_type": "stream",
     "text": [
      "<class 'pandas.core.frame.DataFrame'>\n",
      "RangeIndex: 117 entries, 0 to 116\n",
      "Data columns (total 6 columns):\n",
      " #   Column           Non-Null Count  Dtype \n",
      "---  ------           --------------  ----- \n",
      " 0   Unnamed: 0       117 non-null    int64 \n",
      " 1   Location         117 non-null    object\n",
      " 2   Airport          117 non-null    object\n",
      " 3   IATA_Code        117 non-null    object\n",
      " 4   Passenger_Role   117 non-null    object\n",
      " 5   2018_passengers  117 non-null    object\n",
      "dtypes: int64(1), object(5)\n",
      "memory usage: 5.6+ KB\n"
     ]
    }
   ],
   "source": [
    "df_inter_airports.info()"
   ]
  },
  {
   "cell_type": "code",
   "execution_count": 93,
   "metadata": {},
   "outputs": [
    {
     "name": "stdout",
     "output_type": "stream",
     "text": [
      "<class 'pandas.core.frame.DataFrame'>\n",
      "RangeIndex: 522 entries, 0 to 521\n",
      "Data columns (total 4 columns):\n",
      " #   Column          Non-Null Count  Dtype \n",
      "---  ------          --------------  ----- \n",
      " 0   index           522 non-null    int64 \n",
      " 1   I94_port_code   522 non-null    object\n",
      " 2   I94_port_city   522 non-null    object\n",
      " 3   I94_port_state  522 non-null    object\n",
      "dtypes: int64(1), object(3)\n",
      "memory usage: 16.4+ KB\n"
     ]
    }
   ],
   "source": [
    "I94_ports.info()"
   ]
  },
  {
   "cell_type": "code",
   "execution_count": 94,
   "metadata": {},
   "outputs": [
    {
     "data": {
      "text/html": [
       "<div>\n",
       "<style scoped>\n",
       "    .dataframe tbody tr th:only-of-type {\n",
       "        vertical-align: middle;\n",
       "    }\n",
       "\n",
       "    .dataframe tbody tr th {\n",
       "        vertical-align: top;\n",
       "    }\n",
       "\n",
       "    .dataframe thead th {\n",
       "        text-align: right;\n",
       "    }\n",
       "</style>\n",
       "<table border=\"1\" class=\"dataframe\">\n",
       "  <thead>\n",
       "    <tr style=\"text-align: right;\">\n",
       "      <th></th>\n",
       "      <th>Unnamed: 0</th>\n",
       "      <th>Location</th>\n",
       "      <th>Airport</th>\n",
       "      <th>IATA_Code</th>\n",
       "      <th>Passenger_Role</th>\n",
       "      <th>2018_passengers</th>\n",
       "    </tr>\n",
       "  </thead>\n",
       "  <tbody>\n",
       "    <tr>\n",
       "      <th>0</th>\n",
       "      <td>0</td>\n",
       "      <td>Akron</td>\n",
       "      <td>Akron Executive Airport</td>\n",
       "      <td>AKC</td>\n",
       "      <td>Non-Hub/Reliever</td>\n",
       "      <td>No Commercial Service</td>\n",
       "    </tr>\n",
       "    <tr>\n",
       "      <th>1</th>\n",
       "      <td>1</td>\n",
       "      <td>Albany</td>\n",
       "      <td>Albany International Airport</td>\n",
       "      <td>ALB</td>\n",
       "      <td>Small</td>\n",
       "      <td>2,848,000 [2]</td>\n",
       "    </tr>\n",
       "  </tbody>\n",
       "</table>\n",
       "</div>"
      ],
      "text/plain": [
       "   Unnamed: 0 Location                       Airport IATA_Code  \\\n",
       "0           0    Akron       Akron Executive Airport       AKC   \n",
       "1           1   Albany  Albany International Airport       ALB   \n",
       "\n",
       "     Passenger_Role        2018_passengers  \n",
       "0  Non-Hub/Reliever  No Commercial Service  \n",
       "1             Small          2,848,000 [2]  "
      ]
     },
     "execution_count": 94,
     "metadata": {},
     "output_type": "execute_result"
    }
   ],
   "source": [
    "df_inter_airports.head(2)"
   ]
  },
  {
   "cell_type": "code",
   "execution_count": 95,
   "metadata": {},
   "outputs": [],
   "source": [
    "def get_count(self):\n",
    "    \"\"\"This method\n",
    "    \n",
    "    Params:\n",
    "    \n",
    "    Returns:\n",
    "    \"\"\"\n",
    "    if 'No' in self or 'TBA' in self or 'Unknown' in self or 'Service' in self:\n",
    "        return 0\n",
    "    else:\n",
    "        try:\n",
    "            split = self.split('[')\n",
    "        except ValueError:\n",
    "            pass\n",
    "        else:\n",
    "            count = int(split[0].replace(',',''))\n",
    "            return count"
   ]
  },
  {
   "cell_type": "code",
   "execution_count": 96,
   "metadata": {},
   "outputs": [],
   "source": [
    "## get passengers count were defined\n",
    "df_inter_airports[\"count_passengers\"] = df_inter_airports[\"2018_passengers\"].apply(get_count)"
   ]
  },
  {
   "cell_type": "code",
   "execution_count": 97,
   "metadata": {},
   "outputs": [
    {
     "data": {
      "text/html": [
       "<div>\n",
       "<style scoped>\n",
       "    .dataframe tbody tr th:only-of-type {\n",
       "        vertical-align: middle;\n",
       "    }\n",
       "\n",
       "    .dataframe tbody tr th {\n",
       "        vertical-align: top;\n",
       "    }\n",
       "\n",
       "    .dataframe thead th {\n",
       "        text-align: right;\n",
       "    }\n",
       "</style>\n",
       "<table border=\"1\" class=\"dataframe\">\n",
       "  <thead>\n",
       "    <tr style=\"text-align: right;\">\n",
       "      <th></th>\n",
       "      <th>Unnamed: 0</th>\n",
       "      <th>Location</th>\n",
       "      <th>Airport</th>\n",
       "      <th>IATA_Code</th>\n",
       "      <th>Passenger_Role</th>\n",
       "      <th>2018_passengers</th>\n",
       "      <th>count_passengers</th>\n",
       "    </tr>\n",
       "  </thead>\n",
       "  <tbody>\n",
       "    <tr>\n",
       "      <th>0</th>\n",
       "      <td>0</td>\n",
       "      <td>Akron</td>\n",
       "      <td>Akron Executive Airport</td>\n",
       "      <td>AKC</td>\n",
       "      <td>Non-Hub/Reliever</td>\n",
       "      <td>No Commercial Service</td>\n",
       "      <td>0</td>\n",
       "    </tr>\n",
       "    <tr>\n",
       "      <th>1</th>\n",
       "      <td>1</td>\n",
       "      <td>Albany</td>\n",
       "      <td>Albany International Airport</td>\n",
       "      <td>ALB</td>\n",
       "      <td>Small</td>\n",
       "      <td>2,848,000 [2]</td>\n",
       "      <td>2848000</td>\n",
       "    </tr>\n",
       "    <tr>\n",
       "      <th>2</th>\n",
       "      <td>2</td>\n",
       "      <td>Albuquerque</td>\n",
       "      <td>Albuquerque International Sunport</td>\n",
       "      <td>ABQ</td>\n",
       "      <td>Medium</td>\n",
       "      <td>5,258,775 [3]</td>\n",
       "      <td>5258775</td>\n",
       "    </tr>\n",
       "    <tr>\n",
       "      <th>3</th>\n",
       "      <td>3</td>\n",
       "      <td>Anchorage</td>\n",
       "      <td>Ted Stevens Anchorage International Airport</td>\n",
       "      <td>ANC</td>\n",
       "      <td>Medium</td>\n",
       "      <td>5,176,371[4]</td>\n",
       "      <td>5176371</td>\n",
       "    </tr>\n",
       "    <tr>\n",
       "      <th>4</th>\n",
       "      <td>4</td>\n",
       "      <td>Appleton</td>\n",
       "      <td>Appleton International Airport</td>\n",
       "      <td>ATW</td>\n",
       "      <td>Small</td>\n",
       "      <td>717,757 [5]</td>\n",
       "      <td>717757</td>\n",
       "    </tr>\n",
       "  </tbody>\n",
       "</table>\n",
       "</div>"
      ],
      "text/plain": [
       "   Unnamed: 0     Location                                      Airport  \\\n",
       "0           0        Akron                      Akron Executive Airport   \n",
       "1           1       Albany                 Albany International Airport   \n",
       "2           2  Albuquerque            Albuquerque International Sunport   \n",
       "3           3    Anchorage  Ted Stevens Anchorage International Airport   \n",
       "4           4     Appleton               Appleton International Airport   \n",
       "\n",
       "  IATA_Code    Passenger_Role        2018_passengers  count_passengers  \n",
       "0       AKC  Non-Hub/Reliever  No Commercial Service                 0  \n",
       "1       ALB             Small          2,848,000 [2]           2848000  \n",
       "2       ABQ            Medium          5,258,775 [3]           5258775  \n",
       "3       ANC            Medium           5,176,371[4]           5176371  \n",
       "4       ATW             Small            717,757 [5]            717757  "
      ]
     },
     "execution_count": 97,
     "metadata": {},
     "output_type": "execute_result"
    }
   ],
   "source": [
    "df_inter_airports.head(5)"
   ]
  },
  {
   "cell_type": "code",
   "execution_count": 98,
   "metadata": {},
   "outputs": [],
   "source": [
    "df_inter_airports[\"Location_lower\"] = df_inter_airports.Location.apply(lambda x: x.lower())"
   ]
  },
  {
   "cell_type": "code",
   "execution_count": 99,
   "metadata": {},
   "outputs": [
    {
     "data": {
      "text/html": [
       "<div>\n",
       "<style scoped>\n",
       "    .dataframe tbody tr th:only-of-type {\n",
       "        vertical-align: middle;\n",
       "    }\n",
       "\n",
       "    .dataframe tbody tr th {\n",
       "        vertical-align: top;\n",
       "    }\n",
       "\n",
       "    .dataframe thead th {\n",
       "        text-align: right;\n",
       "    }\n",
       "</style>\n",
       "<table border=\"1\" class=\"dataframe\">\n",
       "  <thead>\n",
       "    <tr style=\"text-align: right;\">\n",
       "      <th></th>\n",
       "      <th>index</th>\n",
       "      <th>I94_port_code</th>\n",
       "      <th>I94_port_city</th>\n",
       "      <th>I94_port_state</th>\n",
       "    </tr>\n",
       "  </thead>\n",
       "  <tbody>\n",
       "    <tr>\n",
       "      <th>0</th>\n",
       "      <td>0</td>\n",
       "      <td>ALC</td>\n",
       "      <td>ALCAN</td>\n",
       "      <td>AK</td>\n",
       "    </tr>\n",
       "    <tr>\n",
       "      <th>1</th>\n",
       "      <td>1</td>\n",
       "      <td>ATW</td>\n",
       "      <td>APPLETON</td>\n",
       "      <td>WI</td>\n",
       "    </tr>\n",
       "  </tbody>\n",
       "</table>\n",
       "</div>"
      ],
      "text/plain": [
       "   index I94_port_code I94_port_city I94_port_state\n",
       "0      0           ALC         ALCAN             AK\n",
       "1      1           ATW      APPLETON             WI"
      ]
     },
     "execution_count": 99,
     "metadata": {},
     "output_type": "execute_result"
    }
   ],
   "source": [
    "I94_ports.head(2)"
   ]
  },
  {
   "cell_type": "code",
   "execution_count": 100,
   "metadata": {},
   "outputs": [],
   "source": [
    "I94_ports[\"I94_port_city_lower\"] = I94_ports[\"I94_port_city\"].apply(lambda x: x.lower())"
   ]
  },
  {
   "cell_type": "code",
   "execution_count": 101,
   "metadata": {},
   "outputs": [],
   "source": [
    "df_inter_merged = df_inter_airports.merge(I94_ports, how='left', left_on='Location_lower', right_on='I94_port_city_lower')"
   ]
  },
  {
   "cell_type": "code",
   "execution_count": 102,
   "metadata": {},
   "outputs": [
    {
     "data": {
      "text/html": [
       "<div>\n",
       "<style scoped>\n",
       "    .dataframe tbody tr th:only-of-type {\n",
       "        vertical-align: middle;\n",
       "    }\n",
       "\n",
       "    .dataframe tbody tr th {\n",
       "        vertical-align: top;\n",
       "    }\n",
       "\n",
       "    .dataframe thead th {\n",
       "        text-align: right;\n",
       "    }\n",
       "</style>\n",
       "<table border=\"1\" class=\"dataframe\">\n",
       "  <thead>\n",
       "    <tr style=\"text-align: right;\">\n",
       "      <th></th>\n",
       "      <th>Unnamed: 0</th>\n",
       "      <th>Location</th>\n",
       "      <th>Airport</th>\n",
       "      <th>IATA_Code</th>\n",
       "      <th>Passenger_Role</th>\n",
       "      <th>2018_passengers</th>\n",
       "      <th>count_passengers</th>\n",
       "      <th>Location_lower</th>\n",
       "      <th>index</th>\n",
       "      <th>I94_port_code</th>\n",
       "      <th>I94_port_city</th>\n",
       "      <th>I94_port_state</th>\n",
       "      <th>I94_port_city_lower</th>\n",
       "    </tr>\n",
       "  </thead>\n",
       "  <tbody>\n",
       "    <tr>\n",
       "      <th>0</th>\n",
       "      <td>0</td>\n",
       "      <td>Akron</td>\n",
       "      <td>Akron Executive Airport</td>\n",
       "      <td>AKC</td>\n",
       "      <td>Non-Hub/Reliever</td>\n",
       "      <td>No Commercial Service</td>\n",
       "      <td>0</td>\n",
       "      <td>akron</td>\n",
       "      <td>338.0</td>\n",
       "      <td>AKR</td>\n",
       "      <td>AKRON</td>\n",
       "      <td>OH</td>\n",
       "      <td>akron</td>\n",
       "    </tr>\n",
       "    <tr>\n",
       "      <th>1</th>\n",
       "      <td>0</td>\n",
       "      <td>Akron</td>\n",
       "      <td>Akron Executive Airport</td>\n",
       "      <td>AKC</td>\n",
       "      <td>Non-Hub/Reliever</td>\n",
       "      <td>No Commercial Service</td>\n",
       "      <td>0</td>\n",
       "      <td>akron</td>\n",
       "      <td>514.0</td>\n",
       "      <td>CAK</td>\n",
       "      <td>AKRON</td>\n",
       "      <td>OH</td>\n",
       "      <td>akron</td>\n",
       "    </tr>\n",
       "    <tr>\n",
       "      <th>2</th>\n",
       "      <td>1</td>\n",
       "      <td>Albany</td>\n",
       "      <td>Albany International Airport</td>\n",
       "      <td>ALB</td>\n",
       "      <td>Small</td>\n",
       "      <td>2,848,000 [2]</td>\n",
       "      <td>2848000</td>\n",
       "      <td>albany</td>\n",
       "      <td>308.0</td>\n",
       "      <td>ALB</td>\n",
       "      <td>ALBANY</td>\n",
       "      <td>NY</td>\n",
       "      <td>albany</td>\n",
       "    </tr>\n",
       "  </tbody>\n",
       "</table>\n",
       "</div>"
      ],
      "text/plain": [
       "   Unnamed: 0 Location                       Airport IATA_Code  \\\n",
       "0           0    Akron       Akron Executive Airport       AKC   \n",
       "1           0    Akron       Akron Executive Airport       AKC   \n",
       "2           1   Albany  Albany International Airport       ALB   \n",
       "\n",
       "     Passenger_Role        2018_passengers  count_passengers Location_lower  \\\n",
       "0  Non-Hub/Reliever  No Commercial Service                 0          akron   \n",
       "1  Non-Hub/Reliever  No Commercial Service                 0          akron   \n",
       "2             Small          2,848,000 [2]           2848000         albany   \n",
       "\n",
       "   index I94_port_code I94_port_city I94_port_state I94_port_city_lower  \n",
       "0  338.0           AKR         AKRON             OH               akron  \n",
       "1  514.0           CAK         AKRON             OH               akron  \n",
       "2  308.0           ALB        ALBANY             NY              albany  "
      ]
     },
     "execution_count": 102,
     "metadata": {},
     "output_type": "execute_result"
    }
   ],
   "source": [
    "df_inter_merged.head(3)"
   ]
  },
  {
   "cell_type": "code",
   "execution_count": 104,
   "metadata": {},
   "outputs": [
    {
     "data": {
      "text/html": [
       "<div>\n",
       "<style scoped>\n",
       "    .dataframe tbody tr th:only-of-type {\n",
       "        vertical-align: middle;\n",
       "    }\n",
       "\n",
       "    .dataframe tbody tr th {\n",
       "        vertical-align: top;\n",
       "    }\n",
       "\n",
       "    .dataframe thead th {\n",
       "        text-align: right;\n",
       "    }\n",
       "</style>\n",
       "<table border=\"1\" class=\"dataframe\">\n",
       "  <thead>\n",
       "    <tr style=\"text-align: right;\">\n",
       "      <th></th>\n",
       "      <th>Unnamed: 0</th>\n",
       "      <th>Location</th>\n",
       "      <th>Airport</th>\n",
       "      <th>IATA_Code</th>\n",
       "      <th>Passenger_Role</th>\n",
       "      <th>2018_passengers</th>\n",
       "      <th>count_passengers</th>\n",
       "      <th>Location_lower</th>\n",
       "      <th>index</th>\n",
       "      <th>I94_port_code</th>\n",
       "      <th>I94_port_city</th>\n",
       "      <th>I94_port_state</th>\n",
       "      <th>I94_port_city_lower</th>\n",
       "    </tr>\n",
       "  </thead>\n",
       "  <tbody>\n",
       "    <tr>\n",
       "      <th>25</th>\n",
       "      <td>23</td>\n",
       "      <td>Dayton</td>\n",
       "      <td>Dayton International Airport</td>\n",
       "      <td>DAY</td>\n",
       "      <td>Small</td>\n",
       "      <td>905558</td>\n",
       "      <td>905558</td>\n",
       "      <td>dayton</td>\n",
       "      <td>NaN</td>\n",
       "      <td>NaN</td>\n",
       "      <td>NaN</td>\n",
       "      <td>NaN</td>\n",
       "      <td>NaN</td>\n",
       "    </tr>\n",
       "    <tr>\n",
       "      <th>37</th>\n",
       "      <td>35</td>\n",
       "      <td>Greensboro</td>\n",
       "      <td>Piedmont Triad International Airport</td>\n",
       "      <td>GSO</td>\n",
       "      <td>Small</td>\n",
       "      <td>1,859,588[23]</td>\n",
       "      <td>1859588</td>\n",
       "      <td>greensboro</td>\n",
       "      <td>NaN</td>\n",
       "      <td>NaN</td>\n",
       "      <td>NaN</td>\n",
       "      <td>NaN</td>\n",
       "      <td>NaN</td>\n",
       "    </tr>\n",
       "  </tbody>\n",
       "</table>\n",
       "</div>"
      ],
      "text/plain": [
       "    Unnamed: 0    Location                               Airport IATA_Code  \\\n",
       "25          23      Dayton          Dayton International Airport       DAY   \n",
       "37          35  Greensboro  Piedmont Triad International Airport       GSO   \n",
       "\n",
       "   Passenger_Role 2018_passengers  count_passengers Location_lower  index  \\\n",
       "25          Small          905558            905558         dayton    NaN   \n",
       "37          Small   1,859,588[23]           1859588     greensboro    NaN   \n",
       "\n",
       "   I94_port_code I94_port_city I94_port_state I94_port_city_lower  \n",
       "25           NaN           NaN            NaN                 NaN  \n",
       "37           NaN           NaN            NaN                 NaN  "
      ]
     },
     "execution_count": 104,
     "metadata": {},
     "output_type": "execute_result"
    }
   ],
   "source": [
    "## Airports that could not be matched\n",
    "df_inter_merged[df_inter_merged.I94_port_city.isna()].head(2)"
   ]
  },
  {
   "cell_type": "code",
   "execution_count": 105,
   "metadata": {},
   "outputs": [],
   "source": [
    "df_inter_merged_final = df_inter_merged[df_inter_merged.I94_port_city.notna()]"
   ]
  },
  {
   "cell_type": "code",
   "execution_count": 106,
   "metadata": {},
   "outputs": [],
   "source": [
    "df_inter_merged_final = df_inter_merged_final[[\"Location\", \"Airport\", \"IATA_Code\", \"Passenger_Role\", \"count_passengers\", \"I94_port_code\", \"I94_port_city\", \"I94_port_state\"]]"
   ]
  },
  {
   "cell_type": "code",
   "execution_count": 107,
   "metadata": {},
   "outputs": [
    {
     "data": {
      "text/plain": [
       "array(['Non-Hub/Reliever', 'Small', 'Medium', 'Large', 'Non-Hub',\n",
       "       'Reliever'], dtype=object)"
      ]
     },
     "execution_count": 107,
     "metadata": {},
     "output_type": "execute_result"
    }
   ],
   "source": [
    "df_inter_merged_final.Passenger_Role.unique()"
   ]
  },
  {
   "cell_type": "code",
   "execution_count": 108,
   "metadata": {},
   "outputs": [],
   "source": [
    "df_inter_merged_final = df_inter_merged_final[(df_inter_merged_final.Passenger_Role != \"Non-Hub/Reliever\") & \n",
    "                                             (df_inter_merged_final.Passenger_Role != \"Non-Hub\") &\n",
    "                                             (df_inter_merged_final.Passenger_Role != \"Reliever\")]"
   ]
  },
  {
   "cell_type": "code",
   "execution_count": 109,
   "metadata": {},
   "outputs": [
    {
     "name": "stdout",
     "output_type": "stream",
     "text": [
      "<class 'pandas.core.frame.DataFrame'>\n",
      "Int64Index: 97 entries, 2 to 127\n",
      "Data columns (total 8 columns):\n",
      " #   Column            Non-Null Count  Dtype \n",
      "---  ------            --------------  ----- \n",
      " 0   Location          97 non-null     object\n",
      " 1   Airport           97 non-null     object\n",
      " 2   IATA_Code         97 non-null     object\n",
      " 3   Passenger_Role    97 non-null     object\n",
      " 4   count_passengers  97 non-null     int64 \n",
      " 5   I94_port_code     97 non-null     object\n",
      " 6   I94_port_city     97 non-null     object\n",
      " 7   I94_port_state    97 non-null     object\n",
      "dtypes: int64(1), object(7)\n",
      "memory usage: 6.8+ KB\n"
     ]
    }
   ],
   "source": [
    "df_inter_merged_final.info()"
   ]
  },
  {
   "cell_type": "markdown",
   "metadata": {},
   "source": [
    "#### df_inter_merged_final + airport_codes.csv"
   ]
  },
  {
   "cell_type": "markdown",
   "metadata": {},
   "source": [
    "#### IATA code is essential for a commercial airport, as the code will be put on baggage while check-ins.\n",
    "#### Based on this fact and stakeholder specifications, further filtering steps will be applied:\n",
    "* ```iso_country``` == 'US'\n",
    "* ```iata_code``` != Null\n",
    "* ```type``` == 'medium_airport' & 'large_airport'\n",
    "\n",
    "Large (18,500,000+ Annual Passengers)\n",
    "\n",
    "Medium (3,500,000 - 18,499,999 Annual Passengers)\n",
    "\n",
    "Small ( < 3,500,000 Annual Passengers)"
   ]
  },
  {
   "cell_type": "code",
   "execution_count": 110,
   "metadata": {},
   "outputs": [],
   "source": [
    "raw_airports = pd.read_csv('input/airport-codes_csv.csv')\n",
    "df_airports = raw_airports.copy()"
   ]
  },
  {
   "cell_type": "code",
   "execution_count": 113,
   "metadata": {},
   "outputs": [
    {
     "name": "stdout",
     "output_type": "stream",
     "text": [
      "<class 'pandas.core.frame.DataFrame'>\n",
      "Int64Index: 22757 entries, 0 to 54896\n",
      "Data columns (total 15 columns):\n",
      " #   Column        Non-Null Count  Dtype  \n",
      "---  ------        --------------  -----  \n",
      " 0   ident         22757 non-null  object \n",
      " 1   type          22757 non-null  object \n",
      " 2   name          22757 non-null  object \n",
      " 3   elevation_ft  22518 non-null  float64\n",
      " 4   continent     1 non-null      object \n",
      " 5   iso_country   22757 non-null  object \n",
      " 6   iso_region    22757 non-null  object \n",
      " 7   municipality  22655 non-null  object \n",
      " 8   gps_code      20984 non-null  object \n",
      " 9   iata_code     2019 non-null   object \n",
      " 10  local_code    21236 non-null  object \n",
      " 11  coordinates   22757 non-null  object \n",
      " 12  state         22757 non-null  object \n",
      " 13  latitude      22757 non-null  object \n",
      " 14  longitude     22757 non-null  object \n",
      "dtypes: float64(1), object(14)\n",
      "memory usage: 2.8+ MB\n"
     ]
    }
   ],
   "source": [
    "df_airports.info()"
   ]
  },
  {
   "cell_type": "code",
   "execution_count": 111,
   "metadata": {},
   "outputs": [
    {
     "data": {
      "text/html": [
       "<div>\n",
       "<style scoped>\n",
       "    .dataframe tbody tr th:only-of-type {\n",
       "        vertical-align: middle;\n",
       "    }\n",
       "\n",
       "    .dataframe tbody tr th {\n",
       "        vertical-align: top;\n",
       "    }\n",
       "\n",
       "    .dataframe thead th {\n",
       "        text-align: right;\n",
       "    }\n",
       "</style>\n",
       "<table border=\"1\" class=\"dataframe\">\n",
       "  <thead>\n",
       "    <tr style=\"text-align: right;\">\n",
       "      <th></th>\n",
       "      <th>ident</th>\n",
       "      <th>type</th>\n",
       "      <th>name</th>\n",
       "      <th>elevation_ft</th>\n",
       "      <th>continent</th>\n",
       "      <th>iso_country</th>\n",
       "      <th>iso_region</th>\n",
       "      <th>municipality</th>\n",
       "      <th>gps_code</th>\n",
       "      <th>iata_code</th>\n",
       "      <th>local_code</th>\n",
       "      <th>coordinates</th>\n",
       "    </tr>\n",
       "  </thead>\n",
       "  <tbody>\n",
       "    <tr>\n",
       "      <th>0</th>\n",
       "      <td>00A</td>\n",
       "      <td>heliport</td>\n",
       "      <td>Total Rf Heliport</td>\n",
       "      <td>11.0</td>\n",
       "      <td>NaN</td>\n",
       "      <td>US</td>\n",
       "      <td>US-PA</td>\n",
       "      <td>Bensalem</td>\n",
       "      <td>00A</td>\n",
       "      <td>NaN</td>\n",
       "      <td>00A</td>\n",
       "      <td>-74.93360137939453, 40.07080078125</td>\n",
       "    </tr>\n",
       "    <tr>\n",
       "      <th>1</th>\n",
       "      <td>00AA</td>\n",
       "      <td>small_airport</td>\n",
       "      <td>Aero B Ranch Airport</td>\n",
       "      <td>3435.0</td>\n",
       "      <td>NaN</td>\n",
       "      <td>US</td>\n",
       "      <td>US-KS</td>\n",
       "      <td>Leoti</td>\n",
       "      <td>00AA</td>\n",
       "      <td>NaN</td>\n",
       "      <td>00AA</td>\n",
       "      <td>-101.473911, 38.704022</td>\n",
       "    </tr>\n",
       "  </tbody>\n",
       "</table>\n",
       "</div>"
      ],
      "text/plain": [
       "  ident           type                  name  elevation_ft continent  \\\n",
       "0   00A       heliport     Total Rf Heliport          11.0       NaN   \n",
       "1  00AA  small_airport  Aero B Ranch Airport        3435.0       NaN   \n",
       "\n",
       "  iso_country iso_region municipality gps_code iata_code local_code  \\\n",
       "0          US      US-PA     Bensalem      00A       NaN        00A   \n",
       "1          US      US-KS        Leoti     00AA       NaN       00AA   \n",
       "\n",
       "                          coordinates  \n",
       "0  -74.93360137939453, 40.07080078125  \n",
       "1              -101.473911, 38.704022  "
      ]
     },
     "execution_count": 111,
     "metadata": {},
     "output_type": "execute_result"
    }
   ],
   "source": [
    "df_airports.head(2)"
   ]
  },
  {
   "cell_type": "code",
   "execution_count": 112,
   "metadata": {},
   "outputs": [],
   "source": [
    "## clean data\n",
    "## issue: as under iso_country there are NaN I could not map the dataframes without some crunching\n",
    "df_airports = df_airports[df_airports.iso_country == 'US']\n",
    "df_airports['state'] = df_airports.iso_region.apply(lambda x: re.match(r'US-(.*)',str(x)).group(1) if x else x)\n",
    "df_airports['latitude'] = df_airports.coordinates.str.split(\", \",expand=True)[0]\n",
    "df_airports['longitude'] = df_airports.coordinates.str.split(\", \",expand=True)[1]"
   ]
  },
  {
   "cell_type": "code",
   "execution_count": 114,
   "metadata": {},
   "outputs": [],
   "source": [
    "df_inter_final = df_inter_merged_final.merge(df_airports, how='left', left_on='IATA_Code', right_on='iata_code')"
   ]
  },
  {
   "cell_type": "code",
   "execution_count": 115,
   "metadata": {},
   "outputs": [
    {
     "data": {
      "text/html": [
       "<div>\n",
       "<style scoped>\n",
       "    .dataframe tbody tr th:only-of-type {\n",
       "        vertical-align: middle;\n",
       "    }\n",
       "\n",
       "    .dataframe tbody tr th {\n",
       "        vertical-align: top;\n",
       "    }\n",
       "\n",
       "    .dataframe thead th {\n",
       "        text-align: right;\n",
       "    }\n",
       "</style>\n",
       "<table border=\"1\" class=\"dataframe\">\n",
       "  <thead>\n",
       "    <tr style=\"text-align: right;\">\n",
       "      <th></th>\n",
       "      <th>Location</th>\n",
       "      <th>Airport</th>\n",
       "      <th>IATA_Code</th>\n",
       "      <th>Passenger_Role</th>\n",
       "      <th>count_passengers</th>\n",
       "      <th>I94_port_code</th>\n",
       "      <th>I94_port_city</th>\n",
       "      <th>I94_port_state</th>\n",
       "      <th>ident</th>\n",
       "      <th>type</th>\n",
       "      <th>name</th>\n",
       "      <th>elevation_ft</th>\n",
       "      <th>continent</th>\n",
       "      <th>iso_country</th>\n",
       "      <th>iso_region</th>\n",
       "      <th>municipality</th>\n",
       "      <th>gps_code</th>\n",
       "      <th>iata_code</th>\n",
       "      <th>local_code</th>\n",
       "      <th>coordinates</th>\n",
       "      <th>state</th>\n",
       "      <th>latitude</th>\n",
       "      <th>longitude</th>\n",
       "    </tr>\n",
       "  </thead>\n",
       "  <tbody>\n",
       "    <tr>\n",
       "      <th>69</th>\n",
       "      <td>Portland</td>\n",
       "      <td>Portland International Jetport</td>\n",
       "      <td>PWM</td>\n",
       "      <td>Small</td>\n",
       "      <td>2134430</td>\n",
       "      <td>POM</td>\n",
       "      <td>PORTLAND</td>\n",
       "      <td>ME</td>\n",
       "      <td>KPWM</td>\n",
       "      <td>large_airport</td>\n",
       "      <td>Portland International Jetport Airport</td>\n",
       "      <td>76.0</td>\n",
       "      <td>NaN</td>\n",
       "      <td>US</td>\n",
       "      <td>US-ME</td>\n",
       "      <td>Portland</td>\n",
       "      <td>KPWM</td>\n",
       "      <td>PWM</td>\n",
       "      <td>PWM</td>\n",
       "      <td>-70.30930328, 43.64619827</td>\n",
       "      <td>ME</td>\n",
       "      <td>-70.30930328</td>\n",
       "      <td>43.64619827</td>\n",
       "    </tr>\n",
       "    <tr>\n",
       "      <th>70</th>\n",
       "      <td>Portland</td>\n",
       "      <td>Portland International Jetport</td>\n",
       "      <td>PWM</td>\n",
       "      <td>Small</td>\n",
       "      <td>2134430</td>\n",
       "      <td>POO</td>\n",
       "      <td>PORTLAND</td>\n",
       "      <td>OR</td>\n",
       "      <td>KPWM</td>\n",
       "      <td>large_airport</td>\n",
       "      <td>Portland International Jetport Airport</td>\n",
       "      <td>76.0</td>\n",
       "      <td>NaN</td>\n",
       "      <td>US</td>\n",
       "      <td>US-ME</td>\n",
       "      <td>Portland</td>\n",
       "      <td>KPWM</td>\n",
       "      <td>PWM</td>\n",
       "      <td>PWM</td>\n",
       "      <td>-70.30930328, 43.64619827</td>\n",
       "      <td>ME</td>\n",
       "      <td>-70.30930328</td>\n",
       "      <td>43.64619827</td>\n",
       "    </tr>\n",
       "    <tr>\n",
       "      <th>71</th>\n",
       "      <td>Portland</td>\n",
       "      <td>Portland International Airport</td>\n",
       "      <td>PDX</td>\n",
       "      <td>Large</td>\n",
       "      <td>19882788</td>\n",
       "      <td>POM</td>\n",
       "      <td>PORTLAND</td>\n",
       "      <td>ME</td>\n",
       "      <td>KPDX</td>\n",
       "      <td>large_airport</td>\n",
       "      <td>Portland International Airport</td>\n",
       "      <td>31.0</td>\n",
       "      <td>NaN</td>\n",
       "      <td>US</td>\n",
       "      <td>US-OR</td>\n",
       "      <td>Portland</td>\n",
       "      <td>KPDX</td>\n",
       "      <td>PDX</td>\n",
       "      <td>PDX</td>\n",
       "      <td>-122.5979996, 45.58869934</td>\n",
       "      <td>OR</td>\n",
       "      <td>-122.5979996</td>\n",
       "      <td>45.58869934</td>\n",
       "    </tr>\n",
       "    <tr>\n",
       "      <th>72</th>\n",
       "      <td>Portland</td>\n",
       "      <td>Portland International Airport</td>\n",
       "      <td>PDX</td>\n",
       "      <td>Large</td>\n",
       "      <td>19882788</td>\n",
       "      <td>POO</td>\n",
       "      <td>PORTLAND</td>\n",
       "      <td>OR</td>\n",
       "      <td>KPDX</td>\n",
       "      <td>large_airport</td>\n",
       "      <td>Portland International Airport</td>\n",
       "      <td>31.0</td>\n",
       "      <td>NaN</td>\n",
       "      <td>US</td>\n",
       "      <td>US-OR</td>\n",
       "      <td>Portland</td>\n",
       "      <td>KPDX</td>\n",
       "      <td>PDX</td>\n",
       "      <td>PDX</td>\n",
       "      <td>-122.5979996, 45.58869934</td>\n",
       "      <td>OR</td>\n",
       "      <td>-122.5979996</td>\n",
       "      <td>45.58869934</td>\n",
       "    </tr>\n",
       "  </tbody>\n",
       "</table>\n",
       "</div>"
      ],
      "text/plain": [
       "    Location                         Airport IATA_Code Passenger_Role  \\\n",
       "69  Portland  Portland International Jetport       PWM          Small   \n",
       "70  Portland  Portland International Jetport       PWM          Small   \n",
       "71  Portland  Portland International Airport       PDX          Large   \n",
       "72  Portland  Portland International Airport       PDX          Large   \n",
       "\n",
       "    count_passengers I94_port_code I94_port_city I94_port_state ident  \\\n",
       "69           2134430           POM      PORTLAND             ME  KPWM   \n",
       "70           2134430           POO      PORTLAND             OR  KPWM   \n",
       "71          19882788           POM      PORTLAND             ME  KPDX   \n",
       "72          19882788           POO      PORTLAND             OR  KPDX   \n",
       "\n",
       "             type                                    name  elevation_ft  \\\n",
       "69  large_airport  Portland International Jetport Airport          76.0   \n",
       "70  large_airport  Portland International Jetport Airport          76.0   \n",
       "71  large_airport          Portland International Airport          31.0   \n",
       "72  large_airport          Portland International Airport          31.0   \n",
       "\n",
       "   continent iso_country iso_region municipality gps_code iata_code  \\\n",
       "69       NaN          US      US-ME     Portland     KPWM       PWM   \n",
       "70       NaN          US      US-ME     Portland     KPWM       PWM   \n",
       "71       NaN          US      US-OR     Portland     KPDX       PDX   \n",
       "72       NaN          US      US-OR     Portland     KPDX       PDX   \n",
       "\n",
       "   local_code                coordinates state      latitude    longitude  \n",
       "69        PWM  -70.30930328, 43.64619827    ME  -70.30930328  43.64619827  \n",
       "70        PWM  -70.30930328, 43.64619827    ME  -70.30930328  43.64619827  \n",
       "71        PDX  -122.5979996, 45.58869934    OR  -122.5979996  45.58869934  \n",
       "72        PDX  -122.5979996, 45.58869934    OR  -122.5979996  45.58869934  "
      ]
     },
     "execution_count": 115,
     "metadata": {},
     "output_type": "execute_result"
    }
   ],
   "source": [
    "df_inter_final[df_inter_final.Location == 'Portland']"
   ]
  },
  {
   "cell_type": "code",
   "execution_count": 116,
   "metadata": {},
   "outputs": [],
   "source": [
    "drop_cols_inter = [\"type\", \"name\", \"continent\", \"coordinates\"]\n",
    "df_inter_final.drop(drop_cols_inter, inplace = True, axis = 1)"
   ]
  },
  {
   "cell_type": "code",
   "execution_count": 117,
   "metadata": {},
   "outputs": [
    {
     "data": {
      "text/html": [
       "<div>\n",
       "<style scoped>\n",
       "    .dataframe tbody tr th:only-of-type {\n",
       "        vertical-align: middle;\n",
       "    }\n",
       "\n",
       "    .dataframe tbody tr th {\n",
       "        vertical-align: top;\n",
       "    }\n",
       "\n",
       "    .dataframe thead th {\n",
       "        text-align: right;\n",
       "    }\n",
       "</style>\n",
       "<table border=\"1\" class=\"dataframe\">\n",
       "  <thead>\n",
       "    <tr style=\"text-align: right;\">\n",
       "      <th></th>\n",
       "      <th>Location</th>\n",
       "      <th>Airport</th>\n",
       "      <th>IATA_Code</th>\n",
       "      <th>Passenger_Role</th>\n",
       "      <th>count_passengers</th>\n",
       "      <th>I94_port_code</th>\n",
       "      <th>I94_port_city</th>\n",
       "      <th>I94_port_state</th>\n",
       "      <th>ident</th>\n",
       "      <th>elevation_ft</th>\n",
       "      <th>iso_country</th>\n",
       "      <th>iso_region</th>\n",
       "      <th>municipality</th>\n",
       "      <th>gps_code</th>\n",
       "      <th>iata_code</th>\n",
       "      <th>local_code</th>\n",
       "      <th>state</th>\n",
       "      <th>latitude</th>\n",
       "      <th>longitude</th>\n",
       "    </tr>\n",
       "  </thead>\n",
       "  <tbody>\n",
       "    <tr>\n",
       "      <th>0</th>\n",
       "      <td>Albany</td>\n",
       "      <td>Albany International Airport</td>\n",
       "      <td>ALB</td>\n",
       "      <td>Small</td>\n",
       "      <td>2848000</td>\n",
       "      <td>ALB</td>\n",
       "      <td>ALBANY</td>\n",
       "      <td>NY</td>\n",
       "      <td>KALB</td>\n",
       "      <td>285.0</td>\n",
       "      <td>US</td>\n",
       "      <td>US-NY</td>\n",
       "      <td>Albany</td>\n",
       "      <td>KALB</td>\n",
       "      <td>ALB</td>\n",
       "      <td>ALB</td>\n",
       "      <td>NY</td>\n",
       "      <td>-73.80169677734375</td>\n",
       "      <td>42.74829864501953</td>\n",
       "    </tr>\n",
       "    <tr>\n",
       "      <th>1</th>\n",
       "      <td>Albuquerque</td>\n",
       "      <td>Albuquerque International Sunport</td>\n",
       "      <td>ABQ</td>\n",
       "      <td>Medium</td>\n",
       "      <td>5258775</td>\n",
       "      <td>ABQ</td>\n",
       "      <td>ALBUQUERQUE</td>\n",
       "      <td>NM</td>\n",
       "      <td>KABQ</td>\n",
       "      <td>5355.0</td>\n",
       "      <td>US</td>\n",
       "      <td>US-NM</td>\n",
       "      <td>Albuquerque</td>\n",
       "      <td>KABQ</td>\n",
       "      <td>ABQ</td>\n",
       "      <td>ABQ</td>\n",
       "      <td>NM</td>\n",
       "      <td>-106.609001</td>\n",
       "      <td>35.040199</td>\n",
       "    </tr>\n",
       "  </tbody>\n",
       "</table>\n",
       "</div>"
      ],
      "text/plain": [
       "      Location                            Airport IATA_Code Passenger_Role  \\\n",
       "0       Albany       Albany International Airport       ALB          Small   \n",
       "1  Albuquerque  Albuquerque International Sunport       ABQ         Medium   \n",
       "\n",
       "   count_passengers I94_port_code I94_port_city I94_port_state ident  \\\n",
       "0           2848000           ALB        ALBANY             NY  KALB   \n",
       "1           5258775           ABQ   ALBUQUERQUE             NM  KABQ   \n",
       "\n",
       "   elevation_ft iso_country iso_region municipality gps_code iata_code  \\\n",
       "0         285.0          US      US-NY       Albany     KALB       ALB   \n",
       "1        5355.0          US      US-NM  Albuquerque     KABQ       ABQ   \n",
       "\n",
       "  local_code state            latitude          longitude  \n",
       "0        ALB    NY  -73.80169677734375  42.74829864501953  \n",
       "1        ABQ    NM         -106.609001          35.040199  "
      ]
     },
     "execution_count": 117,
     "metadata": {},
     "output_type": "execute_result"
    }
   ],
   "source": [
    "df_inter_final.head(2)"
   ]
  },
  {
   "cell_type": "code",
   "execution_count": 118,
   "metadata": {},
   "outputs": [],
   "source": [
    "df_inter_final = df_inter_final[[\"Location\", \"Airport\", \"IATA_Code\", \"Passenger_Role\", \"count_passengers\", \"I94_port_code\", \"I94_port_state\", \"elevation_ft\", \"iso_country\", \"municipality\", \"gps_code\", \"latitude\", \"longitude\"]].copy()\n",
    "    # rename columns\n",
    "df_inter_final.rename(columns={\"Location\":\"city_name\",\n",
    "                                   \"Airport\":\"airport_name\",\n",
    "                                   \"IATA_Code\":\"iata_code\",\n",
    "                                   \"Passenger_Role\":\"airport_size\",\n",
    "                                   \"count_passengers\":\"passenger_count\",\n",
    "                                   \"latitude\":\"lat\",\n",
    "                                   \"longitude\":\"lng\"}, inplace=True)"
   ]
  },
  {
   "cell_type": "code",
   "execution_count": 119,
   "metadata": {},
   "outputs": [
    {
     "data": {
      "text/html": [
       "<div>\n",
       "<style scoped>\n",
       "    .dataframe tbody tr th:only-of-type {\n",
       "        vertical-align: middle;\n",
       "    }\n",
       "\n",
       "    .dataframe tbody tr th {\n",
       "        vertical-align: top;\n",
       "    }\n",
       "\n",
       "    .dataframe thead th {\n",
       "        text-align: right;\n",
       "    }\n",
       "</style>\n",
       "<table border=\"1\" class=\"dataframe\">\n",
       "  <thead>\n",
       "    <tr style=\"text-align: right;\">\n",
       "      <th></th>\n",
       "      <th>city_name</th>\n",
       "      <th>airport_name</th>\n",
       "      <th>iata_code</th>\n",
       "      <th>airport_size</th>\n",
       "      <th>passenger_count</th>\n",
       "      <th>I94_port_code</th>\n",
       "      <th>I94_port_state</th>\n",
       "      <th>elevation_ft</th>\n",
       "      <th>iso_country</th>\n",
       "      <th>municipality</th>\n",
       "      <th>gps_code</th>\n",
       "      <th>lat</th>\n",
       "      <th>lng</th>\n",
       "    </tr>\n",
       "  </thead>\n",
       "  <tbody>\n",
       "    <tr>\n",
       "      <th>0</th>\n",
       "      <td>Albany</td>\n",
       "      <td>Albany International Airport</td>\n",
       "      <td>ALB</td>\n",
       "      <td>Small</td>\n",
       "      <td>2848000</td>\n",
       "      <td>ALB</td>\n",
       "      <td>NY</td>\n",
       "      <td>285.0</td>\n",
       "      <td>US</td>\n",
       "      <td>Albany</td>\n",
       "      <td>KALB</td>\n",
       "      <td>-73.80169677734375</td>\n",
       "      <td>42.74829864501953</td>\n",
       "    </tr>\n",
       "    <tr>\n",
       "      <th>1</th>\n",
       "      <td>Albuquerque</td>\n",
       "      <td>Albuquerque International Sunport</td>\n",
       "      <td>ABQ</td>\n",
       "      <td>Medium</td>\n",
       "      <td>5258775</td>\n",
       "      <td>ABQ</td>\n",
       "      <td>NM</td>\n",
       "      <td>5355.0</td>\n",
       "      <td>US</td>\n",
       "      <td>Albuquerque</td>\n",
       "      <td>KABQ</td>\n",
       "      <td>-106.609001</td>\n",
       "      <td>35.040199</td>\n",
       "    </tr>\n",
       "  </tbody>\n",
       "</table>\n",
       "</div>"
      ],
      "text/plain": [
       "     city_name                       airport_name iata_code airport_size  \\\n",
       "0       Albany       Albany International Airport       ALB        Small   \n",
       "1  Albuquerque  Albuquerque International Sunport       ABQ       Medium   \n",
       "\n",
       "   passenger_count I94_port_code I94_port_state  elevation_ft iso_country  \\\n",
       "0          2848000           ALB             NY         285.0          US   \n",
       "1          5258775           ABQ             NM        5355.0          US   \n",
       "\n",
       "  municipality gps_code                 lat                lng  \n",
       "0       Albany     KALB  -73.80169677734375  42.74829864501953  \n",
       "1  Albuquerque     KABQ         -106.609001          35.040199  "
      ]
     },
     "execution_count": 119,
     "metadata": {},
     "output_type": "execute_result"
    }
   ],
   "source": [
    "df_inter_final.head(2)"
   ]
  },
  {
   "cell_type": "markdown",
   "metadata": {},
   "source": [
    "#### World Temperature Data by City"
   ]
  },
  {
   "cell_type": "markdown",
   "metadata": {},
   "source": [
    "#### #TODOs for df_temper:\n",
    "* filter by ```Country``` == 'United States'\n",
    "* convert dt to datetime\n",
    "* drop columns: AverageTemperatureUncertainty\n",
    "\n",
    "#### Issues \n",
    "* Missing temperatures will be removed for the filtered data set\n",
    "* AverageTemperature will be rounded to a whole degree\n",
    "* Latitude, Longitude will be set to float, 'N' and 'E' removed ()\n",
    "* Duplicated values will be removed"
   ]
  },
  {
   "cell_type": "code",
   "execution_count": 5,
   "metadata": {},
   "outputs": [],
   "source": [
    "df_temper = pd.read_csv(fname_temper)"
   ]
  },
  {
   "cell_type": "code",
   "execution_count": 6,
   "metadata": {},
   "outputs": [
    {
     "data": {
      "text/plain": [
       "(8599212, 7)"
      ]
     },
     "execution_count": 6,
     "metadata": {},
     "output_type": "execute_result"
    }
   ],
   "source": [
    "df_temper.shape"
   ]
  },
  {
   "cell_type": "code",
   "execution_count": 7,
   "metadata": {},
   "outputs": [
    {
     "name": "stdout",
     "output_type": "stream",
     "text": [
      "<class 'pandas.core.frame.DataFrame'>\n",
      "RangeIndex: 8599212 entries, 0 to 8599211\n",
      "Data columns (total 7 columns):\n",
      " #   Column                         Dtype  \n",
      "---  ------                         -----  \n",
      " 0   dt                             object \n",
      " 1   AverageTemperature             float64\n",
      " 2   AverageTemperatureUncertainty  float64\n",
      " 3   City                           object \n",
      " 4   Country                        object \n",
      " 5   Latitude                       object \n",
      " 6   Longitude                      object \n",
      "dtypes: float64(2), object(5)\n",
      "memory usage: 459.2+ MB\n"
     ]
    }
   ],
   "source": [
    "df_temper.info()"
   ]
  },
  {
   "cell_type": "code",
   "execution_count": 8,
   "metadata": {},
   "outputs": [
    {
     "data": {
      "text/html": [
       "<div>\n",
       "<style scoped>\n",
       "    .dataframe tbody tr th:only-of-type {\n",
       "        vertical-align: middle;\n",
       "    }\n",
       "\n",
       "    .dataframe tbody tr th {\n",
       "        vertical-align: top;\n",
       "    }\n",
       "\n",
       "    .dataframe thead th {\n",
       "        text-align: right;\n",
       "    }\n",
       "</style>\n",
       "<table border=\"1\" class=\"dataframe\">\n",
       "  <thead>\n",
       "    <tr style=\"text-align: right;\">\n",
       "      <th></th>\n",
       "      <th>dt</th>\n",
       "      <th>AverageTemperature</th>\n",
       "      <th>AverageTemperatureUncertainty</th>\n",
       "      <th>City</th>\n",
       "      <th>Country</th>\n",
       "      <th>Latitude</th>\n",
       "      <th>Longitude</th>\n",
       "    </tr>\n",
       "  </thead>\n",
       "  <tbody>\n",
       "    <tr>\n",
       "      <th>8599208</th>\n",
       "      <td>2013-06-01</td>\n",
       "      <td>15.043</td>\n",
       "      <td>0.261</td>\n",
       "      <td>Zwolle</td>\n",
       "      <td>Netherlands</td>\n",
       "      <td>52.24N</td>\n",
       "      <td>5.26E</td>\n",
       "    </tr>\n",
       "    <tr>\n",
       "      <th>8599209</th>\n",
       "      <td>2013-07-01</td>\n",
       "      <td>18.775</td>\n",
       "      <td>0.193</td>\n",
       "      <td>Zwolle</td>\n",
       "      <td>Netherlands</td>\n",
       "      <td>52.24N</td>\n",
       "      <td>5.26E</td>\n",
       "    </tr>\n",
       "    <tr>\n",
       "      <th>8599210</th>\n",
       "      <td>2013-08-01</td>\n",
       "      <td>18.025</td>\n",
       "      <td>0.298</td>\n",
       "      <td>Zwolle</td>\n",
       "      <td>Netherlands</td>\n",
       "      <td>52.24N</td>\n",
       "      <td>5.26E</td>\n",
       "    </tr>\n",
       "    <tr>\n",
       "      <th>8599211</th>\n",
       "      <td>2013-09-01</td>\n",
       "      <td>NaN</td>\n",
       "      <td>NaN</td>\n",
       "      <td>Zwolle</td>\n",
       "      <td>Netherlands</td>\n",
       "      <td>52.24N</td>\n",
       "      <td>5.26E</td>\n",
       "    </tr>\n",
       "  </tbody>\n",
       "</table>\n",
       "</div>"
      ],
      "text/plain": [
       "                 dt  AverageTemperature  AverageTemperatureUncertainty  \\\n",
       "8599208  2013-06-01              15.043                          0.261   \n",
       "8599209  2013-07-01              18.775                          0.193   \n",
       "8599210  2013-08-01              18.025                          0.298   \n",
       "8599211  2013-09-01                 NaN                            NaN   \n",
       "\n",
       "           City      Country Latitude Longitude  \n",
       "8599208  Zwolle  Netherlands   52.24N     5.26E  \n",
       "8599209  Zwolle  Netherlands   52.24N     5.26E  \n",
       "8599210  Zwolle  Netherlands   52.24N     5.26E  \n",
       "8599211  Zwolle  Netherlands   52.24N     5.26E  "
      ]
     },
     "execution_count": 8,
     "metadata": {},
     "output_type": "execute_result"
    }
   ],
   "source": [
    "df_temper.tail(4)"
   ]
  },
  {
   "cell_type": "code",
   "execution_count": 9,
   "metadata": {},
   "outputs": [
    {
     "data": {
      "text/plain": [
       "array(['Denmark', 'Turkey', 'Kazakhstan', 'China', 'Spain', 'Germany',\n",
       "       'Nigeria', 'Iran', 'Russia', 'Canada', \"Côte D'Ivoire\",\n",
       "       'United Kingdom', 'Saudi Arabia', 'Japan', 'United States',\n",
       "       'India', 'Benin', 'United Arab Emirates', 'Mexico', 'Venezuela',\n",
       "       'Ghana', 'Ethiopia', 'Australia', 'Yemen', 'Indonesia', 'Morocco',\n",
       "       'Pakistan', 'France', 'Libya', 'Burma', 'Brazil', 'South Africa',\n",
       "       'Syria', 'Egypt', 'Algeria', 'Netherlands', 'Malaysia', 'Portugal',\n",
       "       'Ecuador', 'Italy', 'Uzbekistan', 'Philippines', 'Madagascar',\n",
       "       'Chile', 'Belgium', 'El Salvador', 'Romania', 'Peru', 'Colombia',\n",
       "       'Tanzania', 'Tunisia', 'Turkmenistan', 'Israel', 'Eritrea',\n",
       "       'Paraguay', 'Greece', 'New Zealand', 'Vietnam', 'Cameroon', 'Iraq',\n",
       "       'Afghanistan', 'Argentina', 'Azerbaijan', 'Moldova', 'Mali',\n",
       "       'Congo (Democratic Republic Of The)', 'Thailand',\n",
       "       'Central African Republic', 'Bosnia And Herzegovina', 'Bangladesh',\n",
       "       'Switzerland', 'Equatorial Guinea', 'Cuba', 'Lebanon',\n",
       "       'Mozambique', 'Serbia', 'Angola', 'Somalia', 'Norway', 'Nepal',\n",
       "       'Poland', 'Ukraine', 'Guinea Bissau', 'Malawi', 'Burkina Faso',\n",
       "       'Slovakia', 'Congo', 'Belarus', 'Gambia', 'Czech Republic',\n",
       "       'Hungary', 'Burundi', 'Zimbabwe', 'Bulgaria', 'Haiti',\n",
       "       'Puerto Rico', 'Sri Lanka', 'Nicaragua', 'Zambia', 'Honduras',\n",
       "       'Taiwan', 'Bolivia', 'Guinea', 'Ireland', 'Senegal', 'Latvia',\n",
       "       'Qatar', 'Albania', 'Tajikistan', 'Kenya', 'Guatemala', 'Finland',\n",
       "       'Sierra Leone', 'Sweden', 'Botswana', 'Guyana', 'Austria',\n",
       "       'Uganda', 'Armenia', 'Dominican Republic', 'Jordan', 'Djibouti',\n",
       "       'Sudan', 'Lithuania', 'Rwanda', 'Jamaica', 'Togo', 'Macedonia',\n",
       "       'Cyprus', 'Gabon', 'Slovenia', 'Bahrain', 'Swaziland', 'Niger',\n",
       "       'Lesotho', 'Liberia', 'Uruguay', 'Chad', 'Bahamas', 'Mauritania',\n",
       "       'Panama', 'Suriname', 'Cambodia', 'Montenegro', 'Mauritius',\n",
       "       'Papua New Guinea', 'Iceland', 'Croatia', 'Reunion', 'Oman',\n",
       "       'Costa Rica', 'South Korea', 'Hong Kong', 'Singapore', 'Estonia',\n",
       "       'Georgia', 'Mongolia', 'Laos', 'Namibia'], dtype=object)"
      ]
     },
     "execution_count": 9,
     "metadata": {},
     "output_type": "execute_result"
    }
   ],
   "source": [
    "## get unique values from column Country in order to find US\n",
    "df_temper.Country.unique()"
   ]
  },
  {
   "cell_type": "code",
   "execution_count": 15,
   "metadata": {},
   "outputs": [
    {
     "name": "stdout",
     "output_type": "stream",
     "text": [
      "'Number of rows when filtered for United States 687289\n"
     ]
    }
   ],
   "source": [
    "print(f\"\"\"'Number of rows when filtered for United States {len(df_temper[df_temper.Country == 'United States'])}\"\"\")"
   ]
  },
  {
   "cell_type": "code",
   "execution_count": 16,
   "metadata": {},
   "outputs": [],
   "source": [
    "df_temper_USA = df_temper[df_temper.Country == 'United States']\n",
    "df_temper['dt'] = pd.to_datetime(df_temper.dt)"
   ]
  },
  {
   "cell_type": "code",
   "execution_count": 17,
   "metadata": {},
   "outputs": [
    {
     "data": {
      "text/plain": [
       "(687289, 7)"
      ]
     },
     "execution_count": 17,
     "metadata": {},
     "output_type": "execute_result"
    }
   ],
   "source": [
    "df_temper_USA.shape"
   ]
  },
  {
   "cell_type": "code",
   "execution_count": 18,
   "metadata": {},
   "outputs": [],
   "source": [
    "# removind missing temperatures\n",
    "df_temper_USA_mod = df_temper_USA[~((df_temper_USA.AverageTemperature.isnull()) & \n",
    "                                    (df_temper_USA.AverageTemperatureUncertainty.isnull()))]"
   ]
  },
  {
   "cell_type": "code",
   "execution_count": 28,
   "metadata": {},
   "outputs": [
    {
     "name": "stdout",
     "output_type": "stream",
     "text": [
      "The dataset holds temperature information about 248 US cities\n"
     ]
    }
   ],
   "source": [
    "# number of cities\n",
    "print(f\"\"\"The dataset holds temperature information about {len(df_temper_USA_mod.City.unique())} US cities\"\"\")"
   ]
  },
  {
   "cell_type": "code",
   "execution_count": 29,
   "metadata": {},
   "outputs": [
    {
     "data": {
      "text/html": [
       "<div>\n",
       "<style scoped>\n",
       "    .dataframe tbody tr th:only-of-type {\n",
       "        vertical-align: middle;\n",
       "    }\n",
       "\n",
       "    .dataframe tbody tr th {\n",
       "        vertical-align: top;\n",
       "    }\n",
       "\n",
       "    .dataframe thead th {\n",
       "        text-align: right;\n",
       "    }\n",
       "</style>\n",
       "<table border=\"1\" class=\"dataframe\">\n",
       "  <thead>\n",
       "    <tr style=\"text-align: right;\">\n",
       "      <th></th>\n",
       "      <th>dt</th>\n",
       "      <th>AverageTemperature</th>\n",
       "      <th>AverageTemperatureUncertainty</th>\n",
       "      <th>City</th>\n",
       "      <th>Country</th>\n",
       "      <th>Latitude</th>\n",
       "      <th>Longitude</th>\n",
       "    </tr>\n",
       "  </thead>\n",
       "  <tbody>\n",
       "    <tr>\n",
       "      <th>404275</th>\n",
       "      <td>1820-01-01</td>\n",
       "      <td>-3.022</td>\n",
       "      <td>7.662</td>\n",
       "      <td>Arlington</td>\n",
       "      <td>United States</td>\n",
       "      <td>39.38N</td>\n",
       "      <td>76.99W</td>\n",
       "    </tr>\n",
       "    <tr>\n",
       "      <th>404276</th>\n",
       "      <td>1820-02-01</td>\n",
       "      <td>3.338</td>\n",
       "      <td>3.696</td>\n",
       "      <td>Arlington</td>\n",
       "      <td>United States</td>\n",
       "      <td>39.38N</td>\n",
       "      <td>76.99W</td>\n",
       "    </tr>\n",
       "    <tr>\n",
       "      <th>404277</th>\n",
       "      <td>1820-03-01</td>\n",
       "      <td>5.489</td>\n",
       "      <td>3.148</td>\n",
       "      <td>Arlington</td>\n",
       "      <td>United States</td>\n",
       "      <td>39.38N</td>\n",
       "      <td>76.99W</td>\n",
       "    </tr>\n",
       "    <tr>\n",
       "      <th>404278</th>\n",
       "      <td>1820-04-01</td>\n",
       "      <td>12.226</td>\n",
       "      <td>1.456</td>\n",
       "      <td>Arlington</td>\n",
       "      <td>United States</td>\n",
       "      <td>39.38N</td>\n",
       "      <td>76.99W</td>\n",
       "    </tr>\n",
       "    <tr>\n",
       "      <th>404279</th>\n",
       "      <td>1820-05-01</td>\n",
       "      <td>16.335</td>\n",
       "      <td>1.818</td>\n",
       "      <td>Arlington</td>\n",
       "      <td>United States</td>\n",
       "      <td>39.38N</td>\n",
       "      <td>76.99W</td>\n",
       "    </tr>\n",
       "    <tr>\n",
       "      <th>...</th>\n",
       "      <td>...</td>\n",
       "      <td>...</td>\n",
       "      <td>...</td>\n",
       "      <td>...</td>\n",
       "      <td>...</td>\n",
       "      <td>...</td>\n",
       "      <td>...</td>\n",
       "    </tr>\n",
       "    <tr>\n",
       "      <th>7148658</th>\n",
       "      <td>2013-05-01</td>\n",
       "      <td>14.309</td>\n",
       "      <td>0.331</td>\n",
       "      <td>Springfield</td>\n",
       "      <td>United States</td>\n",
       "      <td>42.59N</td>\n",
       "      <td>72.00W</td>\n",
       "    </tr>\n",
       "    <tr>\n",
       "      <th>7148659</th>\n",
       "      <td>2013-06-01</td>\n",
       "      <td>19.313</td>\n",
       "      <td>0.353</td>\n",
       "      <td>Springfield</td>\n",
       "      <td>United States</td>\n",
       "      <td>42.59N</td>\n",
       "      <td>72.00W</td>\n",
       "    </tr>\n",
       "    <tr>\n",
       "      <th>7148660</th>\n",
       "      <td>2013-07-01</td>\n",
       "      <td>23.629</td>\n",
       "      <td>0.447</td>\n",
       "      <td>Springfield</td>\n",
       "      <td>United States</td>\n",
       "      <td>42.59N</td>\n",
       "      <td>72.00W</td>\n",
       "    </tr>\n",
       "    <tr>\n",
       "      <th>7148661</th>\n",
       "      <td>2013-08-01</td>\n",
       "      <td>19.579</td>\n",
       "      <td>0.336</td>\n",
       "      <td>Springfield</td>\n",
       "      <td>United States</td>\n",
       "      <td>42.59N</td>\n",
       "      <td>72.00W</td>\n",
       "    </tr>\n",
       "    <tr>\n",
       "      <th>7148662</th>\n",
       "      <td>2013-09-01</td>\n",
       "      <td>15.883</td>\n",
       "      <td>1.368</td>\n",
       "      <td>Springfield</td>\n",
       "      <td>United States</td>\n",
       "      <td>42.59N</td>\n",
       "      <td>72.00W</td>\n",
       "    </tr>\n",
       "  </tbody>\n",
       "</table>\n",
       "<p>21875 rows × 7 columns</p>\n",
       "</div>"
      ],
      "text/plain": [
       "                 dt  AverageTemperature  AverageTemperatureUncertainty  \\\n",
       "404275   1820-01-01              -3.022                          7.662   \n",
       "404276   1820-02-01               3.338                          3.696   \n",
       "404277   1820-03-01               5.489                          3.148   \n",
       "404278   1820-04-01              12.226                          1.456   \n",
       "404279   1820-05-01              16.335                          1.818   \n",
       "...             ...                 ...                            ...   \n",
       "7148658  2013-05-01              14.309                          0.331   \n",
       "7148659  2013-06-01              19.313                          0.353   \n",
       "7148660  2013-07-01              23.629                          0.447   \n",
       "7148661  2013-08-01              19.579                          0.336   \n",
       "7148662  2013-09-01              15.883                          1.368   \n",
       "\n",
       "                City        Country Latitude Longitude  \n",
       "404275     Arlington  United States   39.38N    76.99W  \n",
       "404276     Arlington  United States   39.38N    76.99W  \n",
       "404277     Arlington  United States   39.38N    76.99W  \n",
       "404278     Arlington  United States   39.38N    76.99W  \n",
       "404279     Arlington  United States   39.38N    76.99W  \n",
       "...              ...            ...      ...       ...  \n",
       "7148658  Springfield  United States   42.59N    72.00W  \n",
       "7148659  Springfield  United States   42.59N    72.00W  \n",
       "7148660  Springfield  United States   42.59N    72.00W  \n",
       "7148661  Springfield  United States   42.59N    72.00W  \n",
       "7148662  Springfield  United States   42.59N    72.00W  \n",
       "\n",
       "[21875 rows x 7 columns]"
      ]
     },
     "execution_count": 29,
     "metadata": {},
     "output_type": "execute_result"
    }
   ],
   "source": [
    "# finding duplicates\n",
    "df_temper_USA_mod[df_temper_USA_mod.duplicated(subset=['dt','City'])]"
   ]
  },
  {
   "cell_type": "code",
   "execution_count": 30,
   "metadata": {},
   "outputs": [],
   "source": [
    "df_temper_USA_dropdup = df_temper_USA_mod.drop_duplicates(subset=['dt','City','Country'],keep='first')"
   ]
  },
  {
   "cell_type": "code",
   "execution_count": 32,
   "metadata": {},
   "outputs": [
    {
     "name": "stdout",
     "output_type": "stream",
     "text": [
      "Percentage of values missing by column AverageTemperature and duplicates when filtered for US: 1%\n"
     ]
    }
   ],
   "source": [
    "print(f\"\"\"Percentage of values missing by column AverageTemperature and duplicates when filtered for US: {\"{0:.0f}%\".format(df_temper_USA_dropdup.shape[0] / df_temper_USA.shape[0])}\"\"\")"
   ]
  },
  {
   "cell_type": "code",
   "execution_count": 31,
   "metadata": {},
   "outputs": [
    {
     "data": {
      "text/plain": [
       "(639649, 7)"
      ]
     },
     "execution_count": 31,
     "metadata": {},
     "output_type": "execute_result"
    }
   ],
   "source": [
    "df_temper_USA_dropdup.shape"
   ]
  },
  {
   "cell_type": "code",
   "execution_count": 33,
   "metadata": {},
   "outputs": [
    {
     "name": "stderr",
     "output_type": "stream",
     "text": [
      "<ipython-input-33-850389067d70>:2: SettingWithCopyWarning: \n",
      "A value is trying to be set on a copy of a slice from a DataFrame.\n",
      "Try using .loc[row_indexer,col_indexer] = value instead\n",
      "\n",
      "See the caveats in the documentation: https://pandas.pydata.org/pandas-docs/stable/user_guide/indexing.html#returning-a-view-versus-a-copy\n",
      "  df_temper_USA_dropdup['AverageTemperature'] = df_temper_USA_dropdup['AverageTemperature'].round(decimals=1)\n"
     ]
    }
   ],
   "source": [
    "# Rounding temperature to decimals=1\n",
    "df_temper_USA_dropdup['AverageTemperature'] = df_temper_USA_dropdup['AverageTemperature'].round(decimals=1)"
   ]
  },
  {
   "cell_type": "code",
   "execution_count": 34,
   "metadata": {},
   "outputs": [
    {
     "data": {
      "text/html": [
       "<div>\n",
       "<style scoped>\n",
       "    .dataframe tbody tr th:only-of-type {\n",
       "        vertical-align: middle;\n",
       "    }\n",
       "\n",
       "    .dataframe tbody tr th {\n",
       "        vertical-align: top;\n",
       "    }\n",
       "\n",
       "    .dataframe thead th {\n",
       "        text-align: right;\n",
       "    }\n",
       "</style>\n",
       "<table border=\"1\" class=\"dataframe\">\n",
       "  <thead>\n",
       "    <tr style=\"text-align: right;\">\n",
       "      <th></th>\n",
       "      <th>dt</th>\n",
       "      <th>AverageTemperature</th>\n",
       "      <th>AverageTemperatureUncertainty</th>\n",
       "      <th>City</th>\n",
       "      <th>Country</th>\n",
       "      <th>Latitude</th>\n",
       "      <th>Longitude</th>\n",
       "    </tr>\n",
       "  </thead>\n",
       "  <tbody>\n",
       "    <tr>\n",
       "      <th>47555</th>\n",
       "      <td>1820-01-01</td>\n",
       "      <td>2.1</td>\n",
       "      <td>3.217</td>\n",
       "      <td>Abilene</td>\n",
       "      <td>United States</td>\n",
       "      <td>32.95N</td>\n",
       "      <td>100.53W</td>\n",
       "    </tr>\n",
       "    <tr>\n",
       "      <th>47556</th>\n",
       "      <td>1820-02-01</td>\n",
       "      <td>6.9</td>\n",
       "      <td>2.853</td>\n",
       "      <td>Abilene</td>\n",
       "      <td>United States</td>\n",
       "      <td>32.95N</td>\n",
       "      <td>100.53W</td>\n",
       "    </tr>\n",
       "    <tr>\n",
       "      <th>47557</th>\n",
       "      <td>1820-03-01</td>\n",
       "      <td>10.8</td>\n",
       "      <td>2.395</td>\n",
       "      <td>Abilene</td>\n",
       "      <td>United States</td>\n",
       "      <td>32.95N</td>\n",
       "      <td>100.53W</td>\n",
       "    </tr>\n",
       "    <tr>\n",
       "      <th>47558</th>\n",
       "      <td>1820-04-01</td>\n",
       "      <td>18.0</td>\n",
       "      <td>2.202</td>\n",
       "      <td>Abilene</td>\n",
       "      <td>United States</td>\n",
       "      <td>32.95N</td>\n",
       "      <td>100.53W</td>\n",
       "    </tr>\n",
       "    <tr>\n",
       "      <th>47559</th>\n",
       "      <td>1820-05-01</td>\n",
       "      <td>21.8</td>\n",
       "      <td>2.036</td>\n",
       "      <td>Abilene</td>\n",
       "      <td>United States</td>\n",
       "      <td>32.95N</td>\n",
       "      <td>100.53W</td>\n",
       "    </tr>\n",
       "  </tbody>\n",
       "</table>\n",
       "</div>"
      ],
      "text/plain": [
       "               dt  AverageTemperature  AverageTemperatureUncertainty     City  \\\n",
       "47555  1820-01-01                 2.1                          3.217  Abilene   \n",
       "47556  1820-02-01                 6.9                          2.853  Abilene   \n",
       "47557  1820-03-01                10.8                          2.395  Abilene   \n",
       "47558  1820-04-01                18.0                          2.202  Abilene   \n",
       "47559  1820-05-01                21.8                          2.036  Abilene   \n",
       "\n",
       "             Country Latitude Longitude  \n",
       "47555  United States   32.95N   100.53W  \n",
       "47556  United States   32.95N   100.53W  \n",
       "47557  United States   32.95N   100.53W  \n",
       "47558  United States   32.95N   100.53W  \n",
       "47559  United States   32.95N   100.53W  "
      ]
     },
     "execution_count": 34,
     "metadata": {},
     "output_type": "execute_result"
    }
   ],
   "source": [
    "df_temper_USA_dropdup.head()"
   ]
  },
  {
   "cell_type": "code",
   "execution_count": 35,
   "metadata": {},
   "outputs": [],
   "source": [
    "### Min/Max Dates\n",
    "dates = (df_temper_USA_dropdup.assign(dt=df_temper_USA_dropdup['dt'])\n",
    "       .groupby(['City'])['dt'].agg([('earliest' , 'min'), ('latest', 'max')])\n",
    "       .add_prefix('Date_'))\n",
    "dates = dates.reset_index()"
   ]
  },
  {
   "cell_type": "code",
   "execution_count": 36,
   "metadata": {},
   "outputs": [
    {
     "data": {
      "text/plain": [
       "array(['2013-09-01', '2013-08-01'], dtype=object)"
      ]
     },
     "execution_count": 36,
     "metadata": {},
     "output_type": "execute_result"
    }
   ],
   "source": [
    "dates.Date_latest.unique()"
   ]
  },
  {
   "cell_type": "code",
   "execution_count": 37,
   "metadata": {},
   "outputs": [
    {
     "data": {
      "text/plain": [
       "array(['1820-01-01', '1743-11-01', '1849-01-01', '1828-01-01',\n",
       "       '1758-03-01', '1823-01-01', '1835-01-01', '1775-04-01',\n",
       "       '1825-05-01', '1768-09-01', '1821-11-01'], dtype=object)"
      ]
     },
     "execution_count": 37,
     "metadata": {},
     "output_type": "execute_result"
    }
   ],
   "source": [
    "dates.Date_earliest.unique()"
   ]
  },
  {
   "cell_type": "code",
   "execution_count": 38,
   "metadata": {},
   "outputs": [
    {
     "data": {
      "text/html": [
       "<div>\n",
       "<style scoped>\n",
       "    .dataframe tbody tr th:only-of-type {\n",
       "        vertical-align: middle;\n",
       "    }\n",
       "\n",
       "    .dataframe tbody tr th {\n",
       "        vertical-align: top;\n",
       "    }\n",
       "\n",
       "    .dataframe thead th {\n",
       "        text-align: right;\n",
       "    }\n",
       "</style>\n",
       "<table border=\"1\" class=\"dataframe\">\n",
       "  <thead>\n",
       "    <tr style=\"text-align: right;\">\n",
       "      <th></th>\n",
       "      <th>City</th>\n",
       "      <th>Date_earliest</th>\n",
       "      <th>Date_latest</th>\n",
       "    </tr>\n",
       "  </thead>\n",
       "  <tbody>\n",
       "    <tr>\n",
       "      <th>0</th>\n",
       "      <td>Abilene</td>\n",
       "      <td>1820-01-01</td>\n",
       "      <td>2013-09-01</td>\n",
       "    </tr>\n",
       "    <tr>\n",
       "      <th>1</th>\n",
       "      <td>Akron</td>\n",
       "      <td>1743-11-01</td>\n",
       "      <td>2013-09-01</td>\n",
       "    </tr>\n",
       "    <tr>\n",
       "      <th>2</th>\n",
       "      <td>Albuquerque</td>\n",
       "      <td>1820-01-01</td>\n",
       "      <td>2013-09-01</td>\n",
       "    </tr>\n",
       "    <tr>\n",
       "      <th>3</th>\n",
       "      <td>Alexandria</td>\n",
       "      <td>1743-11-01</td>\n",
       "      <td>2013-09-01</td>\n",
       "    </tr>\n",
       "    <tr>\n",
       "      <th>4</th>\n",
       "      <td>Allentown</td>\n",
       "      <td>1743-11-01</td>\n",
       "      <td>2013-09-01</td>\n",
       "    </tr>\n",
       "  </tbody>\n",
       "</table>\n",
       "</div>"
      ],
      "text/plain": [
       "          City Date_earliest Date_latest\n",
       "0      Abilene    1820-01-01  2013-09-01\n",
       "1        Akron    1743-11-01  2013-09-01\n",
       "2  Albuquerque    1820-01-01  2013-09-01\n",
       "3   Alexandria    1743-11-01  2013-09-01\n",
       "4    Allentown    1743-11-01  2013-09-01"
      ]
     },
     "execution_count": 38,
     "metadata": {},
     "output_type": "execute_result"
    }
   ],
   "source": [
    "dates.head()"
   ]
  },
  {
   "cell_type": "markdown",
   "metadata": {},
   "source": [
    "#### Issues World temperature data\n",
    "\n",
    "* Date_first column has 11 different dates\n",
    "* Date_latest column has only two different values dates, separated by a day\n",
    "* Date_latest goes only till 2013, whereas I94 Immigration Data is from 2016. \n",
    "\n",
    "As temperature is not main priority of the project, as it was not issued as critical by stakeholders while planning, not further considerations, or cleaning steps will be taken.\n",
    "\n",
    "Temperature data will not be taken for final model"
   ]
  },
  {
   "cell_type": "markdown",
   "metadata": {},
   "source": [
    "#### I94 Immigration Data Sample\n",
    "\n",
    "#### TODOs\n",
    "* stakeholders are only interested in Air as mode of transportation. Thereafter, ```i94mode``` only 1.0 will be taken from here \n",
    "* further columns hold no value for further analysis and will be removed: cicid, i94res, count, entdepa, entdepd, entdepu, insnum\n",
    "* the company's main product is aimed at females first. Thereafter the gender will be filtered for male and female only in order to calculate female share on immigrants by country\n",
    "\n",
    "#### Issues\n",
    "* no such ```visatype``` as GMT. Records with this value will be removed\n",
    "* no information given on columns ```entdepa```, ```entdepd```, ```entdepu```. As the records from this columns are of no particular value for further analysis, they will be removed"
   ]
  },
  {
   "cell_type": "code",
   "execution_count": 39,
   "metadata": {},
   "outputs": [],
   "source": [
    "df_immi = pd.read_csv(fname_immi)"
   ]
  },
  {
   "cell_type": "code",
   "execution_count": 40,
   "metadata": {},
   "outputs": [
    {
     "data": {
      "text/html": [
       "<div>\n",
       "<style scoped>\n",
       "    .dataframe tbody tr th:only-of-type {\n",
       "        vertical-align: middle;\n",
       "    }\n",
       "\n",
       "    .dataframe tbody tr th {\n",
       "        vertical-align: top;\n",
       "    }\n",
       "\n",
       "    .dataframe thead th {\n",
       "        text-align: right;\n",
       "    }\n",
       "</style>\n",
       "<table border=\"1\" class=\"dataframe\">\n",
       "  <thead>\n",
       "    <tr style=\"text-align: right;\">\n",
       "      <th></th>\n",
       "      <th>Unnamed: 0</th>\n",
       "      <th>cicid</th>\n",
       "      <th>i94yr</th>\n",
       "      <th>i94mon</th>\n",
       "      <th>i94cit</th>\n",
       "      <th>i94res</th>\n",
       "      <th>i94port</th>\n",
       "      <th>arrdate</th>\n",
       "      <th>i94mode</th>\n",
       "      <th>i94addr</th>\n",
       "      <th>depdate</th>\n",
       "      <th>i94bir</th>\n",
       "      <th>i94visa</th>\n",
       "      <th>count</th>\n",
       "      <th>dtadfile</th>\n",
       "      <th>visapost</th>\n",
       "      <th>occup</th>\n",
       "      <th>entdepa</th>\n",
       "      <th>entdepd</th>\n",
       "      <th>entdepu</th>\n",
       "      <th>matflag</th>\n",
       "      <th>biryear</th>\n",
       "      <th>dtaddto</th>\n",
       "      <th>gender</th>\n",
       "      <th>insnum</th>\n",
       "      <th>airline</th>\n",
       "      <th>admnum</th>\n",
       "      <th>fltno</th>\n",
       "      <th>visatype</th>\n",
       "    </tr>\n",
       "  </thead>\n",
       "  <tbody>\n",
       "    <tr>\n",
       "      <th>0</th>\n",
       "      <td>2027561</td>\n",
       "      <td>4084316.0</td>\n",
       "      <td>2016.0</td>\n",
       "      <td>4.0</td>\n",
       "      <td>209.0</td>\n",
       "      <td>209.0</td>\n",
       "      <td>HHW</td>\n",
       "      <td>20566.0</td>\n",
       "      <td>1.0</td>\n",
       "      <td>HI</td>\n",
       "      <td>20573.0</td>\n",
       "      <td>61.0</td>\n",
       "      <td>2.0</td>\n",
       "      <td>1.0</td>\n",
       "      <td>20160422</td>\n",
       "      <td>NaN</td>\n",
       "      <td>NaN</td>\n",
       "      <td>G</td>\n",
       "      <td>O</td>\n",
       "      <td>NaN</td>\n",
       "      <td>M</td>\n",
       "      <td>1955.0</td>\n",
       "      <td>07202016</td>\n",
       "      <td>F</td>\n",
       "      <td>NaN</td>\n",
       "      <td>JL</td>\n",
       "      <td>5.658267e+10</td>\n",
       "      <td>00782</td>\n",
       "      <td>WT</td>\n",
       "    </tr>\n",
       "    <tr>\n",
       "      <th>1</th>\n",
       "      <td>2171295</td>\n",
       "      <td>4422636.0</td>\n",
       "      <td>2016.0</td>\n",
       "      <td>4.0</td>\n",
       "      <td>582.0</td>\n",
       "      <td>582.0</td>\n",
       "      <td>MCA</td>\n",
       "      <td>20567.0</td>\n",
       "      <td>1.0</td>\n",
       "      <td>TX</td>\n",
       "      <td>20568.0</td>\n",
       "      <td>26.0</td>\n",
       "      <td>2.0</td>\n",
       "      <td>1.0</td>\n",
       "      <td>20160423</td>\n",
       "      <td>MTR</td>\n",
       "      <td>NaN</td>\n",
       "      <td>G</td>\n",
       "      <td>R</td>\n",
       "      <td>NaN</td>\n",
       "      <td>M</td>\n",
       "      <td>1990.0</td>\n",
       "      <td>10222016</td>\n",
       "      <td>M</td>\n",
       "      <td>NaN</td>\n",
       "      <td>*GA</td>\n",
       "      <td>9.436200e+10</td>\n",
       "      <td>XBLNG</td>\n",
       "      <td>B2</td>\n",
       "    </tr>\n",
       "    <tr>\n",
       "      <th>2</th>\n",
       "      <td>589494</td>\n",
       "      <td>1195600.0</td>\n",
       "      <td>2016.0</td>\n",
       "      <td>4.0</td>\n",
       "      <td>148.0</td>\n",
       "      <td>112.0</td>\n",
       "      <td>OGG</td>\n",
       "      <td>20551.0</td>\n",
       "      <td>1.0</td>\n",
       "      <td>FL</td>\n",
       "      <td>20571.0</td>\n",
       "      <td>76.0</td>\n",
       "      <td>2.0</td>\n",
       "      <td>1.0</td>\n",
       "      <td>20160407</td>\n",
       "      <td>NaN</td>\n",
       "      <td>NaN</td>\n",
       "      <td>G</td>\n",
       "      <td>O</td>\n",
       "      <td>NaN</td>\n",
       "      <td>M</td>\n",
       "      <td>1940.0</td>\n",
       "      <td>07052016</td>\n",
       "      <td>M</td>\n",
       "      <td>NaN</td>\n",
       "      <td>LH</td>\n",
       "      <td>5.578047e+10</td>\n",
       "      <td>00464</td>\n",
       "      <td>WT</td>\n",
       "    </tr>\n",
       "    <tr>\n",
       "      <th>3</th>\n",
       "      <td>2631158</td>\n",
       "      <td>5291768.0</td>\n",
       "      <td>2016.0</td>\n",
       "      <td>4.0</td>\n",
       "      <td>297.0</td>\n",
       "      <td>297.0</td>\n",
       "      <td>LOS</td>\n",
       "      <td>20572.0</td>\n",
       "      <td>1.0</td>\n",
       "      <td>CA</td>\n",
       "      <td>20581.0</td>\n",
       "      <td>25.0</td>\n",
       "      <td>2.0</td>\n",
       "      <td>1.0</td>\n",
       "      <td>20160428</td>\n",
       "      <td>DOH</td>\n",
       "      <td>NaN</td>\n",
       "      <td>G</td>\n",
       "      <td>O</td>\n",
       "      <td>NaN</td>\n",
       "      <td>M</td>\n",
       "      <td>1991.0</td>\n",
       "      <td>10272016</td>\n",
       "      <td>M</td>\n",
       "      <td>NaN</td>\n",
       "      <td>QR</td>\n",
       "      <td>9.478970e+10</td>\n",
       "      <td>00739</td>\n",
       "      <td>B2</td>\n",
       "    </tr>\n",
       "    <tr>\n",
       "      <th>4</th>\n",
       "      <td>3032257</td>\n",
       "      <td>985523.0</td>\n",
       "      <td>2016.0</td>\n",
       "      <td>4.0</td>\n",
       "      <td>111.0</td>\n",
       "      <td>111.0</td>\n",
       "      <td>CHM</td>\n",
       "      <td>20550.0</td>\n",
       "      <td>3.0</td>\n",
       "      <td>NY</td>\n",
       "      <td>20553.0</td>\n",
       "      <td>19.0</td>\n",
       "      <td>2.0</td>\n",
       "      <td>1.0</td>\n",
       "      <td>20160406</td>\n",
       "      <td>NaN</td>\n",
       "      <td>NaN</td>\n",
       "      <td>Z</td>\n",
       "      <td>K</td>\n",
       "      <td>NaN</td>\n",
       "      <td>M</td>\n",
       "      <td>1997.0</td>\n",
       "      <td>07042016</td>\n",
       "      <td>F</td>\n",
       "      <td>NaN</td>\n",
       "      <td>NaN</td>\n",
       "      <td>4.232257e+10</td>\n",
       "      <td>LAND</td>\n",
       "      <td>WT</td>\n",
       "    </tr>\n",
       "  </tbody>\n",
       "</table>\n",
       "</div>"
      ],
      "text/plain": [
       "   Unnamed: 0      cicid   i94yr  i94mon  i94cit  i94res i94port  arrdate  \\\n",
       "0     2027561  4084316.0  2016.0     4.0   209.0   209.0     HHW  20566.0   \n",
       "1     2171295  4422636.0  2016.0     4.0   582.0   582.0     MCA  20567.0   \n",
       "2      589494  1195600.0  2016.0     4.0   148.0   112.0     OGG  20551.0   \n",
       "3     2631158  5291768.0  2016.0     4.0   297.0   297.0     LOS  20572.0   \n",
       "4     3032257   985523.0  2016.0     4.0   111.0   111.0     CHM  20550.0   \n",
       "\n",
       "   i94mode i94addr  depdate  i94bir  i94visa  count  dtadfile visapost occup  \\\n",
       "0      1.0      HI  20573.0    61.0      2.0    1.0  20160422      NaN   NaN   \n",
       "1      1.0      TX  20568.0    26.0      2.0    1.0  20160423      MTR   NaN   \n",
       "2      1.0      FL  20571.0    76.0      2.0    1.0  20160407      NaN   NaN   \n",
       "3      1.0      CA  20581.0    25.0      2.0    1.0  20160428      DOH   NaN   \n",
       "4      3.0      NY  20553.0    19.0      2.0    1.0  20160406      NaN   NaN   \n",
       "\n",
       "  entdepa entdepd  entdepu matflag  biryear   dtaddto gender  insnum airline  \\\n",
       "0       G       O      NaN       M   1955.0  07202016      F     NaN      JL   \n",
       "1       G       R      NaN       M   1990.0  10222016      M     NaN     *GA   \n",
       "2       G       O      NaN       M   1940.0  07052016      M     NaN      LH   \n",
       "3       G       O      NaN       M   1991.0  10272016      M     NaN      QR   \n",
       "4       Z       K      NaN       M   1997.0  07042016      F     NaN     NaN   \n",
       "\n",
       "         admnum  fltno visatype  \n",
       "0  5.658267e+10  00782       WT  \n",
       "1  9.436200e+10  XBLNG       B2  \n",
       "2  5.578047e+10  00464       WT  \n",
       "3  9.478970e+10  00739       B2  \n",
       "4  4.232257e+10   LAND       WT  "
      ]
     },
     "execution_count": 40,
     "metadata": {},
     "output_type": "execute_result"
    }
   ],
   "source": [
    "df_immi.head()"
   ]
  },
  {
   "cell_type": "code",
   "execution_count": 41,
   "metadata": {},
   "outputs": [
    {
     "data": {
      "text/plain": [
       "array([209., 582., 148., 297., 111., 577., 245., 113., 131., 116., 438.,\n",
       "       260., 512., 689., 746., 115., 251., 268., 129., 213., 135., 133.,\n",
       "       373., 126., 252., 696., 117., 687., 528., 123., 258., 691., 130.,\n",
       "       107., 103., 694., 254., 574., 368., 575., 586., 734., 514., 273.,\n",
       "       692., 109., 579., 164., 263., 464., 124., 602., 121., 162., 274.,\n",
       "       690., 207., 104., 525., 105., 343., 576., 585., 272., 108., 114.,\n",
       "       140., 180., 526., 603., 332., 513., 516., 218., 204., 296., 201.,\n",
       "       257., 266., 520., 718., 112., 261., 299., 688., 141., 350., 340.])"
      ]
     },
     "execution_count": 41,
     "metadata": {},
     "output_type": "execute_result"
    }
   ],
   "source": [
    "df_immi.i94cit.unique()"
   ]
  },
  {
   "cell_type": "code",
   "execution_count": 42,
   "metadata": {},
   "outputs": [
    {
     "data": {
      "text/html": [
       "<div>\n",
       "<style scoped>\n",
       "    .dataframe tbody tr th:only-of-type {\n",
       "        vertical-align: middle;\n",
       "    }\n",
       "\n",
       "    .dataframe tbody tr th {\n",
       "        vertical-align: top;\n",
       "    }\n",
       "\n",
       "    .dataframe thead th {\n",
       "        text-align: right;\n",
       "    }\n",
       "</style>\n",
       "<table border=\"1\" class=\"dataframe\">\n",
       "  <thead>\n",
       "    <tr style=\"text-align: right;\">\n",
       "      <th></th>\n",
       "      <th>Unnamed: 0</th>\n",
       "      <th>cicid</th>\n",
       "      <th>i94yr</th>\n",
       "      <th>i94mon</th>\n",
       "      <th>i94cit</th>\n",
       "      <th>i94res</th>\n",
       "      <th>arrdate</th>\n",
       "      <th>i94mode</th>\n",
       "      <th>depdate</th>\n",
       "      <th>i94bir</th>\n",
       "      <th>i94visa</th>\n",
       "      <th>count</th>\n",
       "      <th>dtadfile</th>\n",
       "      <th>entdepu</th>\n",
       "      <th>biryear</th>\n",
       "      <th>insnum</th>\n",
       "      <th>admnum</th>\n",
       "    </tr>\n",
       "  </thead>\n",
       "  <tbody>\n",
       "    <tr>\n",
       "      <th>count</th>\n",
       "      <td>1.000000e+03</td>\n",
       "      <td>1.000000e+03</td>\n",
       "      <td>1000.0</td>\n",
       "      <td>1000.0</td>\n",
       "      <td>1000.000000</td>\n",
       "      <td>1000.00000</td>\n",
       "      <td>1000.000000</td>\n",
       "      <td>1000.000000</td>\n",
       "      <td>951.000000</td>\n",
       "      <td>1000.000000</td>\n",
       "      <td>1000.000000</td>\n",
       "      <td>1000.0</td>\n",
       "      <td>1.000000e+03</td>\n",
       "      <td>0.0</td>\n",
       "      <td>1000.000000</td>\n",
       "      <td>35.000000</td>\n",
       "      <td>1.000000e+03</td>\n",
       "    </tr>\n",
       "    <tr>\n",
       "      <th>mean</th>\n",
       "      <td>1.542097e+06</td>\n",
       "      <td>3.040461e+06</td>\n",
       "      <td>2016.0</td>\n",
       "      <td>4.0</td>\n",
       "      <td>302.928000</td>\n",
       "      <td>298.26200</td>\n",
       "      <td>20559.680000</td>\n",
       "      <td>1.078000</td>\n",
       "      <td>20575.037855</td>\n",
       "      <td>42.382000</td>\n",
       "      <td>1.859000</td>\n",
       "      <td>1.0</td>\n",
       "      <td>2.016042e+07</td>\n",
       "      <td>NaN</td>\n",
       "      <td>1973.618000</td>\n",
       "      <td>3826.857143</td>\n",
       "      <td>6.937237e+10</td>\n",
       "    </tr>\n",
       "    <tr>\n",
       "      <th>std</th>\n",
       "      <td>9.152879e+05</td>\n",
       "      <td>1.799818e+06</td>\n",
       "      <td>0.0</td>\n",
       "      <td>0.0</td>\n",
       "      <td>206.485285</td>\n",
       "      <td>202.12039</td>\n",
       "      <td>8.995027</td>\n",
       "      <td>0.485955</td>\n",
       "      <td>24.211234</td>\n",
       "      <td>17.903424</td>\n",
       "      <td>0.386353</td>\n",
       "      <td>0.0</td>\n",
       "      <td>4.951657e+01</td>\n",
       "      <td>NaN</td>\n",
       "      <td>17.903424</td>\n",
       "      <td>221.742583</td>\n",
       "      <td>2.338134e+10</td>\n",
       "    </tr>\n",
       "    <tr>\n",
       "      <th>min</th>\n",
       "      <td>1.092500e+04</td>\n",
       "      <td>1.320800e+04</td>\n",
       "      <td>2016.0</td>\n",
       "      <td>4.0</td>\n",
       "      <td>103.000000</td>\n",
       "      <td>103.00000</td>\n",
       "      <td>20545.000000</td>\n",
       "      <td>1.000000</td>\n",
       "      <td>20547.000000</td>\n",
       "      <td>1.000000</td>\n",
       "      <td>1.000000</td>\n",
       "      <td>1.0</td>\n",
       "      <td>2.016040e+07</td>\n",
       "      <td>NaN</td>\n",
       "      <td>1923.000000</td>\n",
       "      <td>3468.000000</td>\n",
       "      <td>0.000000e+00</td>\n",
       "    </tr>\n",
       "    <tr>\n",
       "      <th>25%</th>\n",
       "      <td>7.214422e+05</td>\n",
       "      <td>1.412170e+06</td>\n",
       "      <td>2016.0</td>\n",
       "      <td>4.0</td>\n",
       "      <td>135.000000</td>\n",
       "      <td>131.00000</td>\n",
       "      <td>20552.000000</td>\n",
       "      <td>1.000000</td>\n",
       "      <td>20561.000000</td>\n",
       "      <td>30.750000</td>\n",
       "      <td>2.000000</td>\n",
       "      <td>1.0</td>\n",
       "      <td>2.016041e+07</td>\n",
       "      <td>NaN</td>\n",
       "      <td>1961.000000</td>\n",
       "      <td>3668.000000</td>\n",
       "      <td>5.599301e+10</td>\n",
       "    </tr>\n",
       "    <tr>\n",
       "      <th>50%</th>\n",
       "      <td>1.494568e+06</td>\n",
       "      <td>2.941176e+06</td>\n",
       "      <td>2016.0</td>\n",
       "      <td>4.0</td>\n",
       "      <td>213.000000</td>\n",
       "      <td>213.00000</td>\n",
       "      <td>20560.000000</td>\n",
       "      <td>1.000000</td>\n",
       "      <td>20570.000000</td>\n",
       "      <td>42.000000</td>\n",
       "      <td>2.000000</td>\n",
       "      <td>1.0</td>\n",
       "      <td>2.016042e+07</td>\n",
       "      <td>NaN</td>\n",
       "      <td>1974.000000</td>\n",
       "      <td>3887.000000</td>\n",
       "      <td>5.931477e+10</td>\n",
       "    </tr>\n",
       "    <tr>\n",
       "      <th>75%</th>\n",
       "      <td>2.360901e+06</td>\n",
       "      <td>4.694151e+06</td>\n",
       "      <td>2016.0</td>\n",
       "      <td>4.0</td>\n",
       "      <td>438.000000</td>\n",
       "      <td>438.00000</td>\n",
       "      <td>20567.250000</td>\n",
       "      <td>1.000000</td>\n",
       "      <td>20580.000000</td>\n",
       "      <td>55.000000</td>\n",
       "      <td>2.000000</td>\n",
       "      <td>1.0</td>\n",
       "      <td>2.016042e+07</td>\n",
       "      <td>NaN</td>\n",
       "      <td>1985.250000</td>\n",
       "      <td>3943.000000</td>\n",
       "      <td>9.343623e+10</td>\n",
       "    </tr>\n",
       "    <tr>\n",
       "      <th>max</th>\n",
       "      <td>3.095749e+06</td>\n",
       "      <td>6.061994e+06</td>\n",
       "      <td>2016.0</td>\n",
       "      <td>4.0</td>\n",
       "      <td>746.000000</td>\n",
       "      <td>696.00000</td>\n",
       "      <td>20574.000000</td>\n",
       "      <td>9.000000</td>\n",
       "      <td>20715.000000</td>\n",
       "      <td>93.000000</td>\n",
       "      <td>3.000000</td>\n",
       "      <td>1.0</td>\n",
       "      <td>2.016080e+07</td>\n",
       "      <td>NaN</td>\n",
       "      <td>2015.000000</td>\n",
       "      <td>4686.000000</td>\n",
       "      <td>9.502151e+10</td>\n",
       "    </tr>\n",
       "  </tbody>\n",
       "</table>\n",
       "</div>"
      ],
      "text/plain": [
       "         Unnamed: 0         cicid   i94yr  i94mon       i94cit      i94res  \\\n",
       "count  1.000000e+03  1.000000e+03  1000.0  1000.0  1000.000000  1000.00000   \n",
       "mean   1.542097e+06  3.040461e+06  2016.0     4.0   302.928000   298.26200   \n",
       "std    9.152879e+05  1.799818e+06     0.0     0.0   206.485285   202.12039   \n",
       "min    1.092500e+04  1.320800e+04  2016.0     4.0   103.000000   103.00000   \n",
       "25%    7.214422e+05  1.412170e+06  2016.0     4.0   135.000000   131.00000   \n",
       "50%    1.494568e+06  2.941176e+06  2016.0     4.0   213.000000   213.00000   \n",
       "75%    2.360901e+06  4.694151e+06  2016.0     4.0   438.000000   438.00000   \n",
       "max    3.095749e+06  6.061994e+06  2016.0     4.0   746.000000   696.00000   \n",
       "\n",
       "            arrdate      i94mode       depdate       i94bir      i94visa  \\\n",
       "count   1000.000000  1000.000000    951.000000  1000.000000  1000.000000   \n",
       "mean   20559.680000     1.078000  20575.037855    42.382000     1.859000   \n",
       "std        8.995027     0.485955     24.211234    17.903424     0.386353   \n",
       "min    20545.000000     1.000000  20547.000000     1.000000     1.000000   \n",
       "25%    20552.000000     1.000000  20561.000000    30.750000     2.000000   \n",
       "50%    20560.000000     1.000000  20570.000000    42.000000     2.000000   \n",
       "75%    20567.250000     1.000000  20580.000000    55.000000     2.000000   \n",
       "max    20574.000000     9.000000  20715.000000    93.000000     3.000000   \n",
       "\n",
       "        count      dtadfile  entdepu      biryear       insnum        admnum  \n",
       "count  1000.0  1.000000e+03      0.0  1000.000000    35.000000  1.000000e+03  \n",
       "mean      1.0  2.016042e+07      NaN  1973.618000  3826.857143  6.937237e+10  \n",
       "std       0.0  4.951657e+01      NaN    17.903424   221.742583  2.338134e+10  \n",
       "min       1.0  2.016040e+07      NaN  1923.000000  3468.000000  0.000000e+00  \n",
       "25%       1.0  2.016041e+07      NaN  1961.000000  3668.000000  5.599301e+10  \n",
       "50%       1.0  2.016042e+07      NaN  1974.000000  3887.000000  5.931477e+10  \n",
       "75%       1.0  2.016042e+07      NaN  1985.250000  3943.000000  9.343623e+10  \n",
       "max       1.0  2.016080e+07      NaN  2015.000000  4686.000000  9.502151e+10  "
      ]
     },
     "execution_count": 42,
     "metadata": {},
     "output_type": "execute_result"
    }
   ],
   "source": [
    "df_immi.describe()"
   ]
  },
  {
   "cell_type": "code",
   "execution_count": 43,
   "metadata": {},
   "outputs": [
    {
     "name": "stdout",
     "output_type": "stream",
     "text": [
      "<class 'pandas.core.frame.DataFrame'>\n",
      "RangeIndex: 1000 entries, 0 to 999\n",
      "Data columns (total 29 columns):\n",
      " #   Column      Non-Null Count  Dtype  \n",
      "---  ------      --------------  -----  \n",
      " 0   Unnamed: 0  1000 non-null   int64  \n",
      " 1   cicid       1000 non-null   float64\n",
      " 2   i94yr       1000 non-null   float64\n",
      " 3   i94mon      1000 non-null   float64\n",
      " 4   i94cit      1000 non-null   float64\n",
      " 5   i94res      1000 non-null   float64\n",
      " 6   i94port     1000 non-null   object \n",
      " 7   arrdate     1000 non-null   float64\n",
      " 8   i94mode     1000 non-null   float64\n",
      " 9   i94addr     941 non-null    object \n",
      " 10  depdate     951 non-null    float64\n",
      " 11  i94bir      1000 non-null   float64\n",
      " 12  i94visa     1000 non-null   float64\n",
      " 13  count       1000 non-null   float64\n",
      " 14  dtadfile    1000 non-null   int64  \n",
      " 15  visapost    382 non-null    object \n",
      " 16  occup       4 non-null      object \n",
      " 17  entdepa     1000 non-null   object \n",
      " 18  entdepd     954 non-null    object \n",
      " 19  entdepu     0 non-null      float64\n",
      " 20  matflag     954 non-null    object \n",
      " 21  biryear     1000 non-null   float64\n",
      " 22  dtaddto     1000 non-null   object \n",
      " 23  gender      859 non-null    object \n",
      " 24  insnum      35 non-null     float64\n",
      " 25  airline     967 non-null    object \n",
      " 26  admnum      1000 non-null   float64\n",
      " 27  fltno       992 non-null    object \n",
      " 28  visatype    1000 non-null   object \n",
      "dtypes: float64(15), int64(2), object(12)\n",
      "memory usage: 226.7+ KB\n"
     ]
    }
   ],
   "source": [
    "df_immi.info()"
   ]
  },
  {
   "cell_type": "code",
   "execution_count": 44,
   "metadata": {},
   "outputs": [
    {
     "data": {
      "text/plain": [
       "array(['WT', 'B2', 'CP', 'B1', 'GMT', 'WB', 'F1', 'E2', 'F2', 'M1'],\n",
       "      dtype=object)"
      ]
     },
     "execution_count": 44,
     "metadata": {},
     "output_type": "execute_result"
    }
   ],
   "source": [
    "df_immi.visatype.unique()"
   ]
  },
  {
   "cell_type": "code",
   "execution_count": 45,
   "metadata": {},
   "outputs": [
    {
     "name": "stdout",
     "output_type": "stream",
     "text": [
      "(618, 29)\n"
     ]
    },
    {
     "data": {
      "text/plain": [
       "MEX    28\n",
       "BNS    21\n",
       "BGT    14\n",
       "SPL    14\n",
       "GUZ    13\n",
       "Name: visapost, dtype: int64"
      ]
     },
     "execution_count": 45,
     "metadata": {},
     "output_type": "execute_result"
    }
   ],
   "source": [
    "# Country where visa was issued\n",
    "print(df_immi[df_immi.visapost.isnull()].shape)\n",
    "df_immi['visapost'].value_counts().head()"
   ]
  },
  {
   "cell_type": "code",
   "execution_count": 46,
   "metadata": {},
   "outputs": [
    {
     "data": {
      "text/plain": [
       "1.0    962\n",
       "3.0     26\n",
       "2.0     10\n",
       "9.0      2\n",
       "Name: i94mode, dtype: int64"
      ]
     },
     "execution_count": 46,
     "metadata": {},
     "output_type": "execute_result"
    }
   ],
   "source": [
    "# everything except '1' will be removed\n",
    "df_immi['i94mode'].value_counts().head()\n",
    "\n",
    "# stakeholders are only interested in Air as mode of transportation. Thereafter, only 1.0 will be taken from here  "
   ]
  },
  {
   "cell_type": "code",
   "execution_count": 47,
   "metadata": {},
   "outputs": [
    {
     "name": "stdout",
     "output_type": "stream",
     "text": [
      "(996, 29)\n"
     ]
    },
    {
     "data": {
      "text/plain": [
       "STU    2\n",
       "OTH    1\n",
       "PHA    1\n",
       "Name: occup, dtype: int64"
      ]
     },
     "execution_count": 47,
     "metadata": {},
     "output_type": "execute_result"
    }
   ],
   "source": [
    "# although the sample only holds four data point in this columns, a greater amount can provide more information\n",
    "# this column will be taken for further analysis\n",
    "print(df_immi[df_immi.occup.isnull()].shape)\n",
    "df_immi['occup'].value_counts().head()"
   ]
  },
  {
   "cell_type": "code",
   "execution_count": 48,
   "metadata": {},
   "outputs": [
    {
     "name": "stdout",
     "output_type": "stream",
     "text": [
      "(0, 29)\n"
     ]
    },
    {
     "data": {
      "text/plain": [
       "34.0    29\n",
       "44.0    27\n",
       "40.0    27\n",
       "35.0    26\n",
       "48.0    25\n",
       "Name: i94bir, dtype: int64"
      ]
     },
     "execution_count": 48,
     "metadata": {},
     "output_type": "execute_result"
    }
   ],
   "source": [
    "# dataset provides visitors age\n",
    "print(df_immi[df_immi.i94bir.isnull()].shape)\n",
    "df_immi['i94bir'].value_counts().head()"
   ]
  },
  {
   "cell_type": "code",
   "execution_count": 49,
   "metadata": {},
   "outputs": [
    {
     "name": "stdout",
     "output_type": "stream",
     "text": [
      "M    954\n",
      "Name: matflag, dtype: int64\n"
     ]
    },
    {
     "data": {
      "text/html": [
       "<div>\n",
       "<style scoped>\n",
       "    .dataframe tbody tr th:only-of-type {\n",
       "        vertical-align: middle;\n",
       "    }\n",
       "\n",
       "    .dataframe tbody tr th {\n",
       "        vertical-align: top;\n",
       "    }\n",
       "\n",
       "    .dataframe thead th {\n",
       "        text-align: right;\n",
       "    }\n",
       "</style>\n",
       "<table border=\"1\" class=\"dataframe\">\n",
       "  <thead>\n",
       "    <tr style=\"text-align: right;\">\n",
       "      <th></th>\n",
       "      <th>Unnamed: 0</th>\n",
       "      <th>cicid</th>\n",
       "      <th>i94yr</th>\n",
       "      <th>i94mon</th>\n",
       "      <th>i94cit</th>\n",
       "      <th>i94res</th>\n",
       "      <th>i94port</th>\n",
       "      <th>arrdate</th>\n",
       "      <th>i94mode</th>\n",
       "      <th>i94addr</th>\n",
       "      <th>depdate</th>\n",
       "      <th>i94bir</th>\n",
       "      <th>i94visa</th>\n",
       "      <th>count</th>\n",
       "      <th>dtadfile</th>\n",
       "      <th>visapost</th>\n",
       "      <th>occup</th>\n",
       "      <th>entdepa</th>\n",
       "      <th>entdepd</th>\n",
       "      <th>entdepu</th>\n",
       "      <th>matflag</th>\n",
       "      <th>biryear</th>\n",
       "      <th>dtaddto</th>\n",
       "      <th>gender</th>\n",
       "      <th>insnum</th>\n",
       "      <th>airline</th>\n",
       "      <th>admnum</th>\n",
       "      <th>fltno</th>\n",
       "      <th>visatype</th>\n",
       "    </tr>\n",
       "  </thead>\n",
       "  <tbody>\n",
       "    <tr>\n",
       "      <th>36</th>\n",
       "      <td>98732</td>\n",
       "      <td>216657.0</td>\n",
       "      <td>2016.0</td>\n",
       "      <td>4.0</td>\n",
       "      <td>696.0</td>\n",
       "      <td>696.0</td>\n",
       "      <td>FTL</td>\n",
       "      <td>20545.0</td>\n",
       "      <td>1.0</td>\n",
       "      <td>FL</td>\n",
       "      <td>NaN</td>\n",
       "      <td>54.0</td>\n",
       "      <td>2.0</td>\n",
       "      <td>1.0</td>\n",
       "      <td>20160401</td>\n",
       "      <td>CRS</td>\n",
       "      <td>NaN</td>\n",
       "      <td>G</td>\n",
       "      <td>NaN</td>\n",
       "      <td>NaN</td>\n",
       "      <td>NaN</td>\n",
       "      <td>1962.0</td>\n",
       "      <td>09302016</td>\n",
       "      <td>F</td>\n",
       "      <td>NaN</td>\n",
       "      <td>2D</td>\n",
       "      <td>9.251311e+10</td>\n",
       "      <td>00406</td>\n",
       "      <td>B2</td>\n",
       "    </tr>\n",
       "    <tr>\n",
       "      <th>79</th>\n",
       "      <td>2937355</td>\n",
       "      <td>5957654.0</td>\n",
       "      <td>2016.0</td>\n",
       "      <td>4.0</td>\n",
       "      <td>254.0</td>\n",
       "      <td>276.0</td>\n",
       "      <td>SAI</td>\n",
       "      <td>20556.0</td>\n",
       "      <td>1.0</td>\n",
       "      <td>GU</td>\n",
       "      <td>NaN</td>\n",
       "      <td>20.0</td>\n",
       "      <td>2.0</td>\n",
       "      <td>1.0</td>\n",
       "      <td>20160610</td>\n",
       "      <td>NaN</td>\n",
       "      <td>NaN</td>\n",
       "      <td>A</td>\n",
       "      <td>NaN</td>\n",
       "      <td>NaN</td>\n",
       "      <td>NaN</td>\n",
       "      <td>1996.0</td>\n",
       "      <td>05262016</td>\n",
       "      <td>M</td>\n",
       "      <td>3993.0</td>\n",
       "      <td>7C</td>\n",
       "      <td>4.511468e+10</td>\n",
       "      <td>03404</td>\n",
       "      <td>GMT</td>\n",
       "    </tr>\n",
       "    <tr>\n",
       "      <th>82</th>\n",
       "      <td>3052309</td>\n",
       "      <td>1435383.0</td>\n",
       "      <td>2016.0</td>\n",
       "      <td>4.0</td>\n",
       "      <td>574.0</td>\n",
       "      <td>206.0</td>\n",
       "      <td>BLA</td>\n",
       "      <td>20552.0</td>\n",
       "      <td>3.0</td>\n",
       "      <td>NE</td>\n",
       "      <td>NaN</td>\n",
       "      <td>61.0</td>\n",
       "      <td>2.0</td>\n",
       "      <td>1.0</td>\n",
       "      <td>20160408</td>\n",
       "      <td>NaN</td>\n",
       "      <td>NaN</td>\n",
       "      <td>Z</td>\n",
       "      <td>NaN</td>\n",
       "      <td>NaN</td>\n",
       "      <td>NaN</td>\n",
       "      <td>1955.0</td>\n",
       "      <td>08082016</td>\n",
       "      <td>F</td>\n",
       "      <td>NaN</td>\n",
       "      <td>NaN</td>\n",
       "      <td>8.773307e+10</td>\n",
       "      <td>01788</td>\n",
       "      <td>B2</td>\n",
       "    </tr>\n",
       "    <tr>\n",
       "      <th>100</th>\n",
       "      <td>899737</td>\n",
       "      <td>1843262.0</td>\n",
       "      <td>2016.0</td>\n",
       "      <td>4.0</td>\n",
       "      <td>245.0</td>\n",
       "      <td>245.0</td>\n",
       "      <td>CHI</td>\n",
       "      <td>20554.0</td>\n",
       "      <td>1.0</td>\n",
       "      <td>IN</td>\n",
       "      <td>NaN</td>\n",
       "      <td>60.0</td>\n",
       "      <td>2.0</td>\n",
       "      <td>1.0</td>\n",
       "      <td>20160410</td>\n",
       "      <td>BEJ</td>\n",
       "      <td>NaN</td>\n",
       "      <td>G</td>\n",
       "      <td>NaN</td>\n",
       "      <td>NaN</td>\n",
       "      <td>NaN</td>\n",
       "      <td>1956.0</td>\n",
       "      <td>10092016</td>\n",
       "      <td>F</td>\n",
       "      <td>NaN</td>\n",
       "      <td>AA</td>\n",
       "      <td>9.319157e+10</td>\n",
       "      <td>00186</td>\n",
       "      <td>B2</td>\n",
       "    </tr>\n",
       "    <tr>\n",
       "      <th>106</th>\n",
       "      <td>2068019</td>\n",
       "      <td>4231176.0</td>\n",
       "      <td>2016.0</td>\n",
       "      <td>4.0</td>\n",
       "      <td>586.0</td>\n",
       "      <td>586.0</td>\n",
       "      <td>NYC</td>\n",
       "      <td>20566.0</td>\n",
       "      <td>1.0</td>\n",
       "      <td>NJ</td>\n",
       "      <td>NaN</td>\n",
       "      <td>68.0</td>\n",
       "      <td>2.0</td>\n",
       "      <td>1.0</td>\n",
       "      <td>20160422</td>\n",
       "      <td>NaN</td>\n",
       "      <td>NaN</td>\n",
       "      <td>O</td>\n",
       "      <td>NaN</td>\n",
       "      <td>NaN</td>\n",
       "      <td>NaN</td>\n",
       "      <td>1948.0</td>\n",
       "      <td>10212016</td>\n",
       "      <td>NaN</td>\n",
       "      <td>NaN</td>\n",
       "      <td>AA</td>\n",
       "      <td>9.425292e+10</td>\n",
       "      <td>02179</td>\n",
       "      <td>B2</td>\n",
       "    </tr>\n",
       "  </tbody>\n",
       "</table>\n",
       "</div>"
      ],
      "text/plain": [
       "     Unnamed: 0      cicid   i94yr  i94mon  i94cit  i94res i94port  arrdate  \\\n",
       "36        98732   216657.0  2016.0     4.0   696.0   696.0     FTL  20545.0   \n",
       "79      2937355  5957654.0  2016.0     4.0   254.0   276.0     SAI  20556.0   \n",
       "82      3052309  1435383.0  2016.0     4.0   574.0   206.0     BLA  20552.0   \n",
       "100      899737  1843262.0  2016.0     4.0   245.0   245.0     CHI  20554.0   \n",
       "106     2068019  4231176.0  2016.0     4.0   586.0   586.0     NYC  20566.0   \n",
       "\n",
       "     i94mode i94addr  depdate  i94bir  i94visa  count  dtadfile visapost  \\\n",
       "36       1.0      FL      NaN    54.0      2.0    1.0  20160401      CRS   \n",
       "79       1.0      GU      NaN    20.0      2.0    1.0  20160610      NaN   \n",
       "82       3.0      NE      NaN    61.0      2.0    1.0  20160408      NaN   \n",
       "100      1.0      IN      NaN    60.0      2.0    1.0  20160410      BEJ   \n",
       "106      1.0      NJ      NaN    68.0      2.0    1.0  20160422      NaN   \n",
       "\n",
       "    occup entdepa entdepd  entdepu matflag  biryear   dtaddto gender  insnum  \\\n",
       "36    NaN       G     NaN      NaN     NaN   1962.0  09302016      F     NaN   \n",
       "79    NaN       A     NaN      NaN     NaN   1996.0  05262016      M  3993.0   \n",
       "82    NaN       Z     NaN      NaN     NaN   1955.0  08082016      F     NaN   \n",
       "100   NaN       G     NaN      NaN     NaN   1956.0  10092016      F     NaN   \n",
       "106   NaN       O     NaN      NaN     NaN   1948.0  10212016    NaN     NaN   \n",
       "\n",
       "    airline        admnum  fltno visatype  \n",
       "36       2D  9.251311e+10  00406       B2  \n",
       "79       7C  4.511468e+10  03404      GMT  \n",
       "82      NaN  8.773307e+10  01788       B2  \n",
       "100      AA  9.319157e+10  00186       B2  \n",
       "106      AA  9.425292e+10  02179       B2  "
      ]
     },
     "execution_count": 49,
     "metadata": {},
     "output_type": "execute_result"
    }
   ],
   "source": [
    "# matchflag is \n",
    "print(df_immi['matflag'].value_counts())\n",
    "temp = df_immi.copy()\n",
    "temp[temp['matflag'].isnull()].head()"
   ]
  },
  {
   "cell_type": "code",
   "execution_count": 50,
   "metadata": {},
   "outputs": [
    {
     "name": "stdout",
     "output_type": "stream",
     "text": [
      "(0, 29)\n"
     ]
    },
    {
     "data": {
      "text/plain": [
       "WT     443\n",
       "B2     356\n",
       "WB      91\n",
       "B1      61\n",
       "GMT     27\n",
       "F1      10\n",
       "CP       5\n",
       "F2       3\n",
       "E2       3\n",
       "M1       1\n",
       "Name: visatype, dtype: int64"
      ]
     },
     "execution_count": 50,
     "metadata": {},
     "output_type": "execute_result"
    }
   ],
   "source": [
    "# great piece of data when combined with other dimensions\n",
    "# will be taken for further analysis\n",
    "print(df_immi[df_immi.visatype.isnull()].shape)\n",
    "df_immi['visatype'].value_counts()"
   ]
  },
  {
   "cell_type": "code",
   "execution_count": 51,
   "metadata": {},
   "outputs": [
    {
     "data": {
      "text/plain": [
       "M    471\n",
       "F    386\n",
       "X      2\n",
       "Name: gender, dtype: int64"
      ]
     },
     "execution_count": 51,
     "metadata": {},
     "output_type": "execute_result"
    }
   ],
   "source": [
    "df_immi.gender.value_counts()"
   ]
  },
  {
   "cell_type": "markdown",
   "metadata": {},
   "source": [
    "#### US Cities Demographics"
   ]
  },
  {
   "cell_type": "markdown",
   "metadata": {},
   "source": [
    "#### TODOs\n",
    "* a female share on total population has to be calculated\n",
    "* no race analysis must be made, as North America is completely new to the company. Column Race and Count will be removed\n",
    "* group data by city, state, and state code\n",
    "* map demographics table to unzips in order to attain more valuable information\n",
    "* rename columns\n",
    "\n",
    "#### Issues\n",
    "* multiple column types must be set correctly \n",
    "* no easy way to map both tables. thereafter groupby was made, as mapping column city+state was defined"
   ]
  },
  {
   "cell_type": "code",
   "execution_count": 53,
   "metadata": {},
   "outputs": [],
   "source": [
    "raw_demog = pd.read_csv('input/us-cities-demographics.csv', delimiter=';')\n",
    "raw_uszips = pd.read_csv('input/uszips.csv')\n",
    "\n",
    "df_demog = raw_demog.copy()\n",
    "df_uszips = raw_uszips.copy()"
   ]
  },
  {
   "cell_type": "code",
   "execution_count": 54,
   "metadata": {},
   "outputs": [
    {
     "data": {
      "text/html": [
       "<div>\n",
       "<style scoped>\n",
       "    .dataframe tbody tr th:only-of-type {\n",
       "        vertical-align: middle;\n",
       "    }\n",
       "\n",
       "    .dataframe tbody tr th {\n",
       "        vertical-align: top;\n",
       "    }\n",
       "\n",
       "    .dataframe thead th {\n",
       "        text-align: right;\n",
       "    }\n",
       "</style>\n",
       "<table border=\"1\" class=\"dataframe\">\n",
       "  <thead>\n",
       "    <tr style=\"text-align: right;\">\n",
       "      <th></th>\n",
       "      <th>City</th>\n",
       "      <th>State</th>\n",
       "      <th>Median Age</th>\n",
       "      <th>Male Population</th>\n",
       "      <th>Female Population</th>\n",
       "      <th>Total Population</th>\n",
       "      <th>Number of Veterans</th>\n",
       "      <th>Foreign-born</th>\n",
       "      <th>Average Household Size</th>\n",
       "      <th>State Code</th>\n",
       "      <th>Race</th>\n",
       "      <th>Count</th>\n",
       "    </tr>\n",
       "  </thead>\n",
       "  <tbody>\n",
       "    <tr>\n",
       "      <th>0</th>\n",
       "      <td>Silver Spring</td>\n",
       "      <td>Maryland</td>\n",
       "      <td>33.8</td>\n",
       "      <td>40601.0</td>\n",
       "      <td>41862.0</td>\n",
       "      <td>82463</td>\n",
       "      <td>1562.0</td>\n",
       "      <td>30908.0</td>\n",
       "      <td>2.60</td>\n",
       "      <td>MD</td>\n",
       "      <td>Hispanic or Latino</td>\n",
       "      <td>25924</td>\n",
       "    </tr>\n",
       "    <tr>\n",
       "      <th>1</th>\n",
       "      <td>Quincy</td>\n",
       "      <td>Massachusetts</td>\n",
       "      <td>41.0</td>\n",
       "      <td>44129.0</td>\n",
       "      <td>49500.0</td>\n",
       "      <td>93629</td>\n",
       "      <td>4147.0</td>\n",
       "      <td>32935.0</td>\n",
       "      <td>2.39</td>\n",
       "      <td>MA</td>\n",
       "      <td>White</td>\n",
       "      <td>58723</td>\n",
       "    </tr>\n",
       "    <tr>\n",
       "      <th>2</th>\n",
       "      <td>Hoover</td>\n",
       "      <td>Alabama</td>\n",
       "      <td>38.5</td>\n",
       "      <td>38040.0</td>\n",
       "      <td>46799.0</td>\n",
       "      <td>84839</td>\n",
       "      <td>4819.0</td>\n",
       "      <td>8229.0</td>\n",
       "      <td>2.58</td>\n",
       "      <td>AL</td>\n",
       "      <td>Asian</td>\n",
       "      <td>4759</td>\n",
       "    </tr>\n",
       "  </tbody>\n",
       "</table>\n",
       "</div>"
      ],
      "text/plain": [
       "            City          State  Median Age  Male Population  \\\n",
       "0  Silver Spring       Maryland        33.8          40601.0   \n",
       "1         Quincy  Massachusetts        41.0          44129.0   \n",
       "2         Hoover        Alabama        38.5          38040.0   \n",
       "\n",
       "   Female Population  Total Population  Number of Veterans  Foreign-born  \\\n",
       "0            41862.0             82463              1562.0       30908.0   \n",
       "1            49500.0             93629              4147.0       32935.0   \n",
       "2            46799.0             84839              4819.0        8229.0   \n",
       "\n",
       "   Average Household Size State Code                Race  Count  \n",
       "0                    2.60         MD  Hispanic or Latino  25924  \n",
       "1                    2.39         MA               White  58723  \n",
       "2                    2.58         AL               Asian   4759  "
      ]
     },
     "execution_count": 54,
     "metadata": {},
     "output_type": "execute_result"
    }
   ],
   "source": [
    "df_demog.head(3)"
   ]
  },
  {
   "cell_type": "code",
   "execution_count": 55,
   "metadata": {},
   "outputs": [],
   "source": [
    "# Convert floats to ints\n",
    "cols_float_2_int = ['Male Population', 'Female Population', 'Total Population']\n",
    "\n",
    "for col in cols_float_2_int:\n",
    "    df_demog[col] = df_demog[col].replace(np.nan, 0)\n",
    "    df_demog[col] = df_demog[col].astype(int)"
   ]
  },
  {
   "cell_type": "code",
   "execution_count": 56,
   "metadata": {},
   "outputs": [],
   "source": [
    "# filter data by comparing sum of male and female population with the total population\n",
    "df_demog = df_demog[(df_demog['Male Population'] + df_demog['Female Population'] == df_demog['Total Population'])].copy()"
   ]
  },
  {
   "cell_type": "code",
   "execution_count": 57,
   "metadata": {},
   "outputs": [
    {
     "data": {
      "text/html": [
       "<div>\n",
       "<style scoped>\n",
       "    .dataframe tbody tr th:only-of-type {\n",
       "        vertical-align: middle;\n",
       "    }\n",
       "\n",
       "    .dataframe tbody tr th {\n",
       "        vertical-align: top;\n",
       "    }\n",
       "\n",
       "    .dataframe thead th {\n",
       "        text-align: right;\n",
       "    }\n",
       "</style>\n",
       "<table border=\"1\" class=\"dataframe\">\n",
       "  <thead>\n",
       "    <tr style=\"text-align: right;\">\n",
       "      <th></th>\n",
       "      <th>City</th>\n",
       "      <th>State</th>\n",
       "      <th>Median Age</th>\n",
       "      <th>Male Population</th>\n",
       "      <th>Female Population</th>\n",
       "      <th>Total Population</th>\n",
       "      <th>Number of Veterans</th>\n",
       "      <th>Foreign-born</th>\n",
       "      <th>Average Household Size</th>\n",
       "      <th>State Code</th>\n",
       "      <th>Race</th>\n",
       "      <th>Count</th>\n",
       "    </tr>\n",
       "  </thead>\n",
       "  <tbody>\n",
       "    <tr>\n",
       "      <th>0</th>\n",
       "      <td>Silver Spring</td>\n",
       "      <td>Maryland</td>\n",
       "      <td>33.8</td>\n",
       "      <td>40601</td>\n",
       "      <td>41862</td>\n",
       "      <td>82463</td>\n",
       "      <td>1562.0</td>\n",
       "      <td>30908.0</td>\n",
       "      <td>2.60</td>\n",
       "      <td>MD</td>\n",
       "      <td>Hispanic or Latino</td>\n",
       "      <td>25924</td>\n",
       "    </tr>\n",
       "    <tr>\n",
       "      <th>1</th>\n",
       "      <td>Quincy</td>\n",
       "      <td>Massachusetts</td>\n",
       "      <td>41.0</td>\n",
       "      <td>44129</td>\n",
       "      <td>49500</td>\n",
       "      <td>93629</td>\n",
       "      <td>4147.0</td>\n",
       "      <td>32935.0</td>\n",
       "      <td>2.39</td>\n",
       "      <td>MA</td>\n",
       "      <td>White</td>\n",
       "      <td>58723</td>\n",
       "    </tr>\n",
       "    <tr>\n",
       "      <th>2</th>\n",
       "      <td>Hoover</td>\n",
       "      <td>Alabama</td>\n",
       "      <td>38.5</td>\n",
       "      <td>38040</td>\n",
       "      <td>46799</td>\n",
       "      <td>84839</td>\n",
       "      <td>4819.0</td>\n",
       "      <td>8229.0</td>\n",
       "      <td>2.58</td>\n",
       "      <td>AL</td>\n",
       "      <td>Asian</td>\n",
       "      <td>4759</td>\n",
       "    </tr>\n",
       "  </tbody>\n",
       "</table>\n",
       "</div>"
      ],
      "text/plain": [
       "            City          State  Median Age  Male Population  \\\n",
       "0  Silver Spring       Maryland        33.8            40601   \n",
       "1         Quincy  Massachusetts        41.0            44129   \n",
       "2         Hoover        Alabama        38.5            38040   \n",
       "\n",
       "   Female Population  Total Population  Number of Veterans  Foreign-born  \\\n",
       "0              41862             82463              1562.0       30908.0   \n",
       "1              49500             93629              4147.0       32935.0   \n",
       "2              46799             84839              4819.0        8229.0   \n",
       "\n",
       "   Average Household Size State Code                Race  Count  \n",
       "0                    2.60         MD  Hispanic or Latino  25924  \n",
       "1                    2.39         MA               White  58723  \n",
       "2                    2.58         AL               Asian   4759  "
      ]
     },
     "execution_count": 57,
     "metadata": {},
     "output_type": "execute_result"
    }
   ],
   "source": [
    "df_demog.head(3)"
   ]
  },
  {
   "cell_type": "code",
   "execution_count": 58,
   "metadata": {},
   "outputs": [],
   "source": [
    "# define columns for further analysis\n",
    "cols_main = ['City','State','Median Age','Male Population','Female Population','Total Population','Average Household Size','State Code']\n",
    "df_demog_main = df_demog[cols_main]"
   ]
  },
  {
   "cell_type": "code",
   "execution_count": 59,
   "metadata": {},
   "outputs": [],
   "source": [
    "# group data by three columns and aggregate their values\n",
    "df_demog_agg = df_demog_main.groupby(['City', 'State', 'State Code']).agg({'Median Age':'mean', \n",
    "                                                            'Male Population':'sum', \n",
    "                                                            'Female Population':'sum',\n",
    "                                                            'Average Household Size':'mean'}).reset_index().copy()"
   ]
  },
  {
   "cell_type": "code",
   "execution_count": null,
   "metadata": {},
   "outputs": [],
   "source": []
  },
  {
   "cell_type": "code",
   "execution_count": 60,
   "metadata": {},
   "outputs": [],
   "source": [
    "# calculate total population\n",
    "df_demog_agg['popul_total'] = df_demog_agg['Male Population'] + df_demog_agg['Female Population']"
   ]
  },
  {
   "cell_type": "code",
   "execution_count": 61,
   "metadata": {},
   "outputs": [],
   "source": [
    "# calculate female share\n",
    "df_demog_agg['share_female'] = df_demog_agg['Female Population'] / df_demog_agg['popul_total']"
   ]
  },
  {
   "cell_type": "code",
   "execution_count": 62,
   "metadata": {},
   "outputs": [],
   "source": [
    "# define column to match with another dataframe\n",
    "df_demog_agg['matcher'] = df_demog_agg['City'] + '/' + df_demog_agg['State']"
   ]
  },
  {
   "cell_type": "code",
   "execution_count": 63,
   "metadata": {},
   "outputs": [],
   "source": [
    "# unzips holds multiple rows for many cities as county_fips numbers vary. \n",
    "temp_density_coor = df_uszips.groupby(['city', 'state_id', 'state_name']).agg({'density':'mean',\n",
    "                                                                               'lat':'mean',\n",
    "                                                                               'lng':'mean'}).reset_index().copy()"
   ]
  },
  {
   "cell_type": "code",
   "execution_count": 64,
   "metadata": {},
   "outputs": [],
   "source": [
    "temp_density_coor['matcher'] = temp_density_coor['city'] + '/' + temp_density_coor['state_name']"
   ]
  },
  {
   "cell_type": "code",
   "execution_count": 65,
   "metadata": {},
   "outputs": [],
   "source": [
    "df_merged = df_demog_agg.merge(temp_density_coor, how='left', on='matcher')"
   ]
  },
  {
   "cell_type": "code",
   "execution_count": 66,
   "metadata": {},
   "outputs": [],
   "source": [
    "# Convert floats to ints\n",
    "cols_float = ['Average Household Size', 'share_female', 'density']\n",
    "\n",
    "for col in cols_float:\n",
    "    df_merged[col] = df_merged[col].replace(np.nan, 0)"
   ]
  },
  {
   "cell_type": "code",
   "execution_count": 67,
   "metadata": {},
   "outputs": [],
   "source": [
    "df_merged['share_female'] = df_merged['share_female'].round(decimals=2)\n",
    "df_merged['density'] = df_merged['density'].round(decimals=2)"
   ]
  },
  {
   "cell_type": "code",
   "execution_count": 68,
   "metadata": {},
   "outputs": [],
   "source": [
    "# rename columns\n",
    "df_merged.rename(columns={'City':'city_name', \n",
    "                          'State':'state_name', \n",
    "                          'State Code':'state_code',\n",
    "                          'Median Age':'age_median',\n",
    "                          'Male Population':'popul_male',\n",
    "                          'Female Population':'popul_female',\n",
    "                          'Average Household Size':'household_size_ave',\n",
    "                          'density':'popul_density'}, inplace=True)"
   ]
  },
  {
   "cell_type": "markdown",
   "metadata": {},
   "source": [
    "#### I94_cit_codes and country_codes.csv"
   ]
  },
  {
   "cell_type": "markdown",
   "metadata": {},
   "source": [
    "#### TODOs\n",
    "* find out, how to map both dataframes\n",
    "\n",
    "#### Issues\n",
    "* there are misspeling in countries names"
   ]
  },
  {
   "cell_type": "code",
   "execution_count": 120,
   "metadata": {},
   "outputs": [],
   "source": [
    "raw_ccodes = pd.read_csv('input/country_codes.csv', converters={\"country_code\":str,\n",
    "                                                          \"region_code\":str})\n",
    "df_ccodes = raw_ccodes.copy()"
   ]
  },
  {
   "cell_type": "code",
   "execution_count": 121,
   "metadata": {},
   "outputs": [
    {
     "data": {
      "text/html": [
       "<div>\n",
       "<style scoped>\n",
       "    .dataframe tbody tr th:only-of-type {\n",
       "        vertical-align: middle;\n",
       "    }\n",
       "\n",
       "    .dataframe tbody tr th {\n",
       "        vertical-align: top;\n",
       "    }\n",
       "\n",
       "    .dataframe thead th {\n",
       "        text-align: right;\n",
       "    }\n",
       "</style>\n",
       "<table border=\"1\" class=\"dataframe\">\n",
       "  <thead>\n",
       "    <tr style=\"text-align: right;\">\n",
       "      <th></th>\n",
       "      <th>name</th>\n",
       "      <th>alpha_2</th>\n",
       "      <th>alpha_3</th>\n",
       "      <th>country_code</th>\n",
       "      <th>iso_3166_2</th>\n",
       "      <th>region</th>\n",
       "      <th>sub_region</th>\n",
       "      <th>intermediate_region</th>\n",
       "      <th>region_code</th>\n",
       "      <th>sub_region_code</th>\n",
       "      <th>intermediate_region_code</th>\n",
       "    </tr>\n",
       "  </thead>\n",
       "  <tbody>\n",
       "    <tr>\n",
       "      <th>0</th>\n",
       "      <td>Afghanistan</td>\n",
       "      <td>AF</td>\n",
       "      <td>AFG</td>\n",
       "      <td>004</td>\n",
       "      <td>ISO 3166-2:AF</td>\n",
       "      <td>Asia</td>\n",
       "      <td>Southern Asia</td>\n",
       "      <td>NaN</td>\n",
       "      <td>142</td>\n",
       "      <td>34.0</td>\n",
       "      <td>NaN</td>\n",
       "    </tr>\n",
       "    <tr>\n",
       "      <th>1</th>\n",
       "      <td>Åland Islands</td>\n",
       "      <td>AX</td>\n",
       "      <td>ALA</td>\n",
       "      <td>248</td>\n",
       "      <td>ISO 3166-2:AX</td>\n",
       "      <td>Europe</td>\n",
       "      <td>Northern Europe</td>\n",
       "      <td>NaN</td>\n",
       "      <td>150</td>\n",
       "      <td>154.0</td>\n",
       "      <td>NaN</td>\n",
       "    </tr>\n",
       "  </tbody>\n",
       "</table>\n",
       "</div>"
      ],
      "text/plain": [
       "            name alpha_2 alpha_3 country_code     iso_3166_2  region  \\\n",
       "0    Afghanistan      AF     AFG          004  ISO 3166-2:AF    Asia   \n",
       "1  Åland Islands      AX     ALA          248  ISO 3166-2:AX  Europe   \n",
       "\n",
       "        sub_region intermediate_region region_code  sub_region_code  \\\n",
       "0    Southern Asia                 NaN         142             34.0   \n",
       "1  Northern Europe                 NaN         150            154.0   \n",
       "\n",
       "   intermediate_region_code  \n",
       "0                       NaN  \n",
       "1                       NaN  "
      ]
     },
     "execution_count": 121,
     "metadata": {},
     "output_type": "execute_result"
    }
   ],
   "source": [
    "df_ccodes.head(2)"
   ]
  },
  {
   "cell_type": "code",
   "execution_count": 122,
   "metadata": {},
   "outputs": [
    {
     "name": "stdout",
     "output_type": "stream",
     "text": [
      "<class 'pandas.core.frame.DataFrame'>\n",
      "RangeIndex: 235 entries, 0 to 234\n",
      "Data columns (total 2 columns):\n",
      " #   Column            Non-Null Count  Dtype \n",
      "---  ------            --------------  ----- \n",
      " 0   I94_country_code  235 non-null    object\n",
      " 1   I94_country       235 non-null    object\n",
      "dtypes: object(2)\n",
      "memory usage: 3.8+ KB\n"
     ]
    }
   ],
   "source": [
    "I94_cit_codes.info()"
   ]
  },
  {
   "cell_type": "code",
   "execution_count": 123,
   "metadata": {},
   "outputs": [],
   "source": [
    "I94_cit_codes[\"I94_country_low\"] = I94_cit_codes[\"I94_country\"].apply(lambda x: x.lower())"
   ]
  },
  {
   "cell_type": "code",
   "execution_count": 124,
   "metadata": {},
   "outputs": [],
   "source": [
    "df_ccodes[\"name_low\"] = df_ccodes.name.apply(lambda x: x.lower())"
   ]
  },
  {
   "cell_type": "code",
   "execution_count": 125,
   "metadata": {},
   "outputs": [],
   "source": [
    "df_I94_merged = I94_cit_codes.merge(df_ccodes, how='left', left_on='I94_country_low', right_on='name_low')"
   ]
  },
  {
   "cell_type": "code",
   "execution_count": 126,
   "metadata": {},
   "outputs": [
    {
     "data": {
      "text/html": [
       "<div>\n",
       "<style scoped>\n",
       "    .dataframe tbody tr th:only-of-type {\n",
       "        vertical-align: middle;\n",
       "    }\n",
       "\n",
       "    .dataframe tbody tr th {\n",
       "        vertical-align: top;\n",
       "    }\n",
       "\n",
       "    .dataframe thead th {\n",
       "        text-align: right;\n",
       "    }\n",
       "</style>\n",
       "<table border=\"1\" class=\"dataframe\">\n",
       "  <thead>\n",
       "    <tr style=\"text-align: right;\">\n",
       "      <th></th>\n",
       "      <th>I94_country_code</th>\n",
       "      <th>I94_country</th>\n",
       "      <th>I94_country_low</th>\n",
       "      <th>name</th>\n",
       "      <th>alpha_2</th>\n",
       "      <th>alpha_3</th>\n",
       "      <th>country_code</th>\n",
       "      <th>iso_3166_2</th>\n",
       "      <th>region</th>\n",
       "      <th>sub_region</th>\n",
       "      <th>intermediate_region</th>\n",
       "      <th>region_code</th>\n",
       "      <th>sub_region_code</th>\n",
       "      <th>intermediate_region_code</th>\n",
       "      <th>name_low</th>\n",
       "    </tr>\n",
       "  </thead>\n",
       "  <tbody>\n",
       "    <tr>\n",
       "      <th>0</th>\n",
       "      <td>236</td>\n",
       "      <td>AFGHANISTAN</td>\n",
       "      <td>afghanistan</td>\n",
       "      <td>Afghanistan</td>\n",
       "      <td>AF</td>\n",
       "      <td>AFG</td>\n",
       "      <td>004</td>\n",
       "      <td>ISO 3166-2:AF</td>\n",
       "      <td>Asia</td>\n",
       "      <td>Southern Asia</td>\n",
       "      <td>NaN</td>\n",
       "      <td>142</td>\n",
       "      <td>34.0</td>\n",
       "      <td>NaN</td>\n",
       "      <td>afghanistan</td>\n",
       "    </tr>\n",
       "    <tr>\n",
       "      <th>1</th>\n",
       "      <td>101</td>\n",
       "      <td>ALBANIA</td>\n",
       "      <td>albania</td>\n",
       "      <td>Albania</td>\n",
       "      <td>AL</td>\n",
       "      <td>ALB</td>\n",
       "      <td>008</td>\n",
       "      <td>ISO 3166-2:AL</td>\n",
       "      <td>Europe</td>\n",
       "      <td>Southern Europe</td>\n",
       "      <td>NaN</td>\n",
       "      <td>150</td>\n",
       "      <td>39.0</td>\n",
       "      <td>NaN</td>\n",
       "      <td>albania</td>\n",
       "    </tr>\n",
       "    <tr>\n",
       "      <th>2</th>\n",
       "      <td>316</td>\n",
       "      <td>ALGERIA</td>\n",
       "      <td>algeria</td>\n",
       "      <td>Algeria</td>\n",
       "      <td>DZ</td>\n",
       "      <td>DZA</td>\n",
       "      <td>012</td>\n",
       "      <td>ISO 3166-2:DZ</td>\n",
       "      <td>Africa</td>\n",
       "      <td>Northern Africa</td>\n",
       "      <td>NaN</td>\n",
       "      <td>002</td>\n",
       "      <td>15.0</td>\n",
       "      <td>NaN</td>\n",
       "      <td>algeria</td>\n",
       "    </tr>\n",
       "    <tr>\n",
       "      <th>3</th>\n",
       "      <td>102</td>\n",
       "      <td>ANDORRA</td>\n",
       "      <td>andorra</td>\n",
       "      <td>Andorra</td>\n",
       "      <td>AD</td>\n",
       "      <td>AND</td>\n",
       "      <td>020</td>\n",
       "      <td>ISO 3166-2:AD</td>\n",
       "      <td>Europe</td>\n",
       "      <td>Southern Europe</td>\n",
       "      <td>NaN</td>\n",
       "      <td>150</td>\n",
       "      <td>39.0</td>\n",
       "      <td>NaN</td>\n",
       "      <td>andorra</td>\n",
       "    </tr>\n",
       "    <tr>\n",
       "      <th>4</th>\n",
       "      <td>324</td>\n",
       "      <td>ANGOLA</td>\n",
       "      <td>angola</td>\n",
       "      <td>Angola</td>\n",
       "      <td>AO</td>\n",
       "      <td>AGO</td>\n",
       "      <td>024</td>\n",
       "      <td>ISO 3166-2:AO</td>\n",
       "      <td>Africa</td>\n",
       "      <td>Sub-Saharan Africa</td>\n",
       "      <td>Middle Africa</td>\n",
       "      <td>002</td>\n",
       "      <td>202.0</td>\n",
       "      <td>17.0</td>\n",
       "      <td>angola</td>\n",
       "    </tr>\n",
       "  </tbody>\n",
       "</table>\n",
       "</div>"
      ],
      "text/plain": [
       "  I94_country_code  I94_country I94_country_low         name alpha_2 alpha_3  \\\n",
       "0              236  AFGHANISTAN     afghanistan  Afghanistan      AF     AFG   \n",
       "1              101      ALBANIA         albania      Albania      AL     ALB   \n",
       "2              316      ALGERIA         algeria      Algeria      DZ     DZA   \n",
       "3              102      ANDORRA         andorra      Andorra      AD     AND   \n",
       "4              324       ANGOLA          angola       Angola      AO     AGO   \n",
       "\n",
       "  country_code     iso_3166_2  region          sub_region intermediate_region  \\\n",
       "0          004  ISO 3166-2:AF    Asia       Southern Asia                 NaN   \n",
       "1          008  ISO 3166-2:AL  Europe     Southern Europe                 NaN   \n",
       "2          012  ISO 3166-2:DZ  Africa     Northern Africa                 NaN   \n",
       "3          020  ISO 3166-2:AD  Europe     Southern Europe                 NaN   \n",
       "4          024  ISO 3166-2:AO  Africa  Sub-Saharan Africa       Middle Africa   \n",
       "\n",
       "  region_code  sub_region_code  intermediate_region_code     name_low  \n",
       "0         142             34.0                       NaN  afghanistan  \n",
       "1         150             39.0                       NaN      albania  \n",
       "2         002             15.0                       NaN      algeria  \n",
       "3         150             39.0                       NaN      andorra  \n",
       "4         002            202.0                      17.0       angola  "
      ]
     },
     "execution_count": 126,
     "metadata": {},
     "output_type": "execute_result"
    }
   ],
   "source": [
    "df_I94_merged.head()"
   ]
  },
  {
   "cell_type": "code",
   "execution_count": 127,
   "metadata": {},
   "outputs": [
    {
     "data": {
      "text/html": [
       "<div>\n",
       "<style scoped>\n",
       "    .dataframe tbody tr th:only-of-type {\n",
       "        vertical-align: middle;\n",
       "    }\n",
       "\n",
       "    .dataframe tbody tr th {\n",
       "        vertical-align: top;\n",
       "    }\n",
       "\n",
       "    .dataframe thead th {\n",
       "        text-align: right;\n",
       "    }\n",
       "</style>\n",
       "<table border=\"1\" class=\"dataframe\">\n",
       "  <thead>\n",
       "    <tr style=\"text-align: right;\">\n",
       "      <th></th>\n",
       "      <th>I94_country_code</th>\n",
       "      <th>I94_country</th>\n",
       "      <th>I94_country_low</th>\n",
       "      <th>name</th>\n",
       "      <th>alpha_2</th>\n",
       "      <th>alpha_3</th>\n",
       "      <th>country_code</th>\n",
       "      <th>iso_3166_2</th>\n",
       "      <th>region</th>\n",
       "      <th>sub_region</th>\n",
       "      <th>intermediate_region</th>\n",
       "      <th>region_code</th>\n",
       "      <th>sub_region_code</th>\n",
       "      <th>intermediate_region_code</th>\n",
       "      <th>name_low</th>\n",
       "    </tr>\n",
       "  </thead>\n",
       "  <tbody>\n",
       "    <tr>\n",
       "      <th>0</th>\n",
       "      <td>236</td>\n",
       "      <td>AFGHANISTAN</td>\n",
       "      <td>afghanistan</td>\n",
       "      <td>Afghanistan</td>\n",
       "      <td>AF</td>\n",
       "      <td>AFG</td>\n",
       "      <td>004</td>\n",
       "      <td>ISO 3166-2:AF</td>\n",
       "      <td>Asia</td>\n",
       "      <td>Southern Asia</td>\n",
       "      <td>NaN</td>\n",
       "      <td>142</td>\n",
       "      <td>34.0</td>\n",
       "      <td>NaN</td>\n",
       "      <td>afghanistan</td>\n",
       "    </tr>\n",
       "    <tr>\n",
       "      <th>1</th>\n",
       "      <td>101</td>\n",
       "      <td>ALBANIA</td>\n",
       "      <td>albania</td>\n",
       "      <td>Albania</td>\n",
       "      <td>AL</td>\n",
       "      <td>ALB</td>\n",
       "      <td>008</td>\n",
       "      <td>ISO 3166-2:AL</td>\n",
       "      <td>Europe</td>\n",
       "      <td>Southern Europe</td>\n",
       "      <td>NaN</td>\n",
       "      <td>150</td>\n",
       "      <td>39.0</td>\n",
       "      <td>NaN</td>\n",
       "      <td>albania</td>\n",
       "    </tr>\n",
       "  </tbody>\n",
       "</table>\n",
       "</div>"
      ],
      "text/plain": [
       "  I94_country_code  I94_country I94_country_low         name alpha_2 alpha_3  \\\n",
       "0              236  AFGHANISTAN     afghanistan  Afghanistan      AF     AFG   \n",
       "1              101      ALBANIA         albania      Albania      AL     ALB   \n",
       "\n",
       "  country_code     iso_3166_2  region       sub_region intermediate_region  \\\n",
       "0          004  ISO 3166-2:AF    Asia    Southern Asia                 NaN   \n",
       "1          008  ISO 3166-2:AL  Europe  Southern Europe                 NaN   \n",
       "\n",
       "  region_code  sub_region_code  intermediate_region_code     name_low  \n",
       "0         142             34.0                       NaN  afghanistan  \n",
       "1         150             39.0                       NaN      albania  "
      ]
     },
     "execution_count": 127,
     "metadata": {},
     "output_type": "execute_result"
    }
   ],
   "source": [
    "df_I94_merged[df_I94_merged.name.notna()].head(2)"
   ]
  },
  {
   "cell_type": "code",
   "execution_count": 128,
   "metadata": {},
   "outputs": [],
   "source": [
    "drop_ = ['I94_country', 'I94_country_low', 'intermediate_region', 'intermediate_region_code', 'name_low']\n",
    "df_I94_merged.drop(drop_, inplace = True, axis = 1)"
   ]
  },
  {
   "cell_type": "code",
   "execution_count": 129,
   "metadata": {},
   "outputs": [],
   "source": [
    "df_I94_merged.rename(columns={\"name\":\"county_name\",\n",
    "                              \"alpha_2\":\"country_alpha_2\",\n",
    "                              \"alpha_3\":\"country_alpha_3\",\n",
    "                              \"iso_3166_2\":\"country_iso_3166_2\",\n",
    "                              \"region\":\"country_region\",\n",
    "                              \"sub_region\":\"country_sub_region\",\n",
    "                              \"region_code\":\"country_region_code\",\n",
    "                              \"sub_region_code\":\"country_sub_region_code\"}, inplace=True)"
   ]
  },
  {
   "cell_type": "code",
   "execution_count": 130,
   "metadata": {},
   "outputs": [],
   "source": [
    "import numpy as np\n",
    "df_I94_merged[\"country_sub_region_code\"] = df_I94_merged[\"country_sub_region_code\"].replace(np.nan, 0)\n",
    "df_I94_merged[\"country_sub_region_code\"] = df_I94_merged[\"country_sub_region_code\"].astype(int)"
   ]
  },
  {
   "cell_type": "code",
   "execution_count": 131,
   "metadata": {},
   "outputs": [
    {
     "data": {
      "text/html": [
       "<div>\n",
       "<style scoped>\n",
       "    .dataframe tbody tr th:only-of-type {\n",
       "        vertical-align: middle;\n",
       "    }\n",
       "\n",
       "    .dataframe tbody tr th {\n",
       "        vertical-align: top;\n",
       "    }\n",
       "\n",
       "    .dataframe thead th {\n",
       "        text-align: right;\n",
       "    }\n",
       "</style>\n",
       "<table border=\"1\" class=\"dataframe\">\n",
       "  <thead>\n",
       "    <tr style=\"text-align: right;\">\n",
       "      <th></th>\n",
       "      <th>I94_country_code</th>\n",
       "      <th>county_name</th>\n",
       "      <th>country_alpha_2</th>\n",
       "      <th>country_alpha_3</th>\n",
       "      <th>country_code</th>\n",
       "      <th>country_iso_3166_2</th>\n",
       "      <th>country_region</th>\n",
       "      <th>country_sub_region</th>\n",
       "      <th>country_region_code</th>\n",
       "      <th>country_sub_region_code</th>\n",
       "    </tr>\n",
       "  </thead>\n",
       "  <tbody>\n",
       "    <tr>\n",
       "      <th>0</th>\n",
       "      <td>236</td>\n",
       "      <td>Afghanistan</td>\n",
       "      <td>AF</td>\n",
       "      <td>AFG</td>\n",
       "      <td>004</td>\n",
       "      <td>ISO 3166-2:AF</td>\n",
       "      <td>Asia</td>\n",
       "      <td>Southern Asia</td>\n",
       "      <td>142</td>\n",
       "      <td>34</td>\n",
       "    </tr>\n",
       "    <tr>\n",
       "      <th>1</th>\n",
       "      <td>101</td>\n",
       "      <td>Albania</td>\n",
       "      <td>AL</td>\n",
       "      <td>ALB</td>\n",
       "      <td>008</td>\n",
       "      <td>ISO 3166-2:AL</td>\n",
       "      <td>Europe</td>\n",
       "      <td>Southern Europe</td>\n",
       "      <td>150</td>\n",
       "      <td>39</td>\n",
       "    </tr>\n",
       "    <tr>\n",
       "      <th>2</th>\n",
       "      <td>316</td>\n",
       "      <td>Algeria</td>\n",
       "      <td>DZ</td>\n",
       "      <td>DZA</td>\n",
       "      <td>012</td>\n",
       "      <td>ISO 3166-2:DZ</td>\n",
       "      <td>Africa</td>\n",
       "      <td>Northern Africa</td>\n",
       "      <td>002</td>\n",
       "      <td>15</td>\n",
       "    </tr>\n",
       "  </tbody>\n",
       "</table>\n",
       "</div>"
      ],
      "text/plain": [
       "  I94_country_code  county_name country_alpha_2 country_alpha_3 country_code  \\\n",
       "0              236  Afghanistan              AF             AFG          004   \n",
       "1              101      Albania              AL             ALB          008   \n",
       "2              316      Algeria              DZ             DZA          012   \n",
       "\n",
       "  country_iso_3166_2 country_region country_sub_region country_region_code  \\\n",
       "0      ISO 3166-2:AF           Asia      Southern Asia                 142   \n",
       "1      ISO 3166-2:AL         Europe    Southern Europe                 150   \n",
       "2      ISO 3166-2:DZ         Africa    Northern Africa                 002   \n",
       "\n",
       "   country_sub_region_code  \n",
       "0                       34  \n",
       "1                       39  \n",
       "2                       15  "
      ]
     },
     "execution_count": 131,
     "metadata": {},
     "output_type": "execute_result"
    }
   ],
   "source": [
    "df_I94_merged.head(3)"
   ]
  },
  {
   "cell_type": "markdown",
   "metadata": {},
   "source": [
    "### Step 3: Define the Data Model\n",
    "#### 3.1 Conceptual Data Model\n",
    "This section provides information on what data model was chosen, why and what steps are required in order to load transformed data to a Data Warehouse\n",
    "\n",
    "As mentioned earlier, main consumers of the data are representitives of a few different departments of \"A sweet Thing\" company. While considering general database complexity level, one has to keep in mind, that the stakeholders are no data professionals, have different needs in regard to queries, and are likely to expect support from Data Engineer, if query complexity grows.\n",
    "\n",
    "Based on this knowledge a star schema was chosen. Simple as it is, it is likely to satisfy even most demanding users. \n",
    "\n",
    "Picture below shows tables produces, as well as how these tables can be joined. In the middle is the fact table, surrounded by four dimension tables. \n",
    "\n",
    "<img src=\"images/model_data_warehouse.png\">\n",
    "\n",
    "#### 3.2 Mapping Out Data Pipelines\n",
    "Value from data can only be achieved by working with it thoroughly. Each dataset is likely to be unique, has it's own flows, and critical information. Data manipulation is a very consuming part of each data project, as it has to be done carefully. \n",
    "\n",
    "Each table mentioned in the picture above consists of multiple datasets, combined together. This notebook provides detailed information on what had to be done in order to, on the one hand, keep as much data as possible, while, on the other hand, removing / replacing / transforming as much as needed.\n",
    "\n",
    "Generated dataframes in .csv are saved in ./output/, whereas the main data is kept safe in ./output_gzip/df_immigrant.gzip"
   ]
  },
  {
   "cell_type": "markdown",
   "metadata": {},
   "source": [
    "### Step 4: Run Pipelines to Model the Data \n",
    "#### 4.1 Create the data model\n",
    "In order to load data to the Data Warehouse three further scripts were written:\n",
    "* ```create_tables.py``` -> holds methods to create / drop database\n",
    "* ```sql_queries.py``` -> holds drop / create / insert queries\n",
    "* ```etl.py``` -> holds two methods to upload data from .csv files and .gzip files into Data Warehouse"
   ]
  },
  {
   "cell_type": "markdown",
   "metadata": {},
   "source": [
    "#### 4.2 Data Quality Checks\n",
    "Explain the data quality checks you'll perform to ensure the pipeline ran as expected. These could include:\n",
    " * Integrity constraints on the relational database (e.g., unique key, data type, etc.)\n",
    " * Unit tests for the scripts to ensure they are doing the right thing\n",
    " * Source/Count checks to ensure completeness"
   ]
  },
  {
   "cell_type": "markdown",
   "metadata": {},
   "source": [
    "#### Source/Count checks to ensure completeness\n",
    "Data quality checks are implemented on two separate places of the pipeline:\n",
    "1. in ```process_input.py``` -> after each file is being cleaned\n",
    "2. in ```etl.py``` -> after uploading dataframes to Data Warehouse\n",
    "\n",
    "Unit tests for the scripts to ensure they are doing the right thing:\n",
    "```unit_test.ipynb``` -> after data was uploaded to the Data Warehouse this script eveluates, if particular values from processed data files can be found in the right format in a Data Warahouse table"
   ]
  },
  {
   "cell_type": "markdown",
   "metadata": {},
   "source": [
    "#### 4.3 Data dictionary \n",
    "Data dictionary for the data model above can be found in the project documentation (filename = 'data_dict.md')"
   ]
  },
  {
   "cell_type": "markdown",
   "metadata": {},
   "source": [
    "#### Step 5: Complete Project Write Up\n",
    "#### Tools used\n",
    "* Python: Python is number one programming language to perform data analysis these days: many different libraries make it easy and quick to perform data analysis, also on a big scale \n",
    "* Pandas: Pandas is one of main libraries to crunch data, and is unavoidable when it comes to small to medium datasets\n",
    "* Spark: Spark (Pyspark library) is best choice when it comes to large datasets\n",
    "* Postgresql: Postgresql is a great Data Warehouse option\n",
    "#### Tools for better accessibility:\n",
    "* AWS S3: S3 can be used to store processed data.  \n",
    "* AWS Redshift: Redshift is a Data Warehouse, which can be accessed from anywhere. This makes it a perfect choice for those who wants to share a database with more than one location\n",
    "#### Data updates\n",
    "As mentioned in the very beginning, the purpose of this Data Project was to gain insights about who immigrate to US and where to exactly. Depending on what next goals might be, one can define how often an update should be made.\n",
    "\n",
    "From the perspective of the predefined goals it is necessary to update (append new data) tables every 3-5 Months. This way Stakeholders can see changes in immigrants behaviour and act accordingly.\n",
    "#### Scenarios:\n",
    "##### The data was increased by 100x.\n",
    "Around 35 Million rows of data was processed during this project. It was done in a dedicated Udacity workspace and took almost 2 hours. 100x data increase can potentially, even if only minimally, harm business. In order to to secure efficient data processing, alternative places, such as scalable AWS Ressources (also counterparts), should be considered.\n",
    "AWS Ressources like:\n",
    "* Amazon S3 -> data storage\n",
    "* Amazon EMR -> uses Apache Spark, Apache Hive, Presto and other open-source frameworks. This Ressource is able to help in analyzing vast amounts of data\n",
    "* Amazon Redshift -> being a petabyte-scale data warehouse service, Redshift can then be used as a data warehouse for processed data \n",
    "\n",
    "##### The data populates a dashboard that must be updated on a daily basis by 7am every day.\n",
    "In order to update data frequently, furthermore at 7am, it must be automated properly. Depending on the input and the complexity of data wragling one has at least two options to choose from (sorted by complexity):\n",
    "* CRON: as long as scripts are simple enough and all the exceptions are in right places\n",
    "* Airflow: if pipeline is complex and constists of multiple processes that have to be performed as a DAG\n",
    "* Amazon Livy (in combination with Airflow and Spark): helps to submit multiple Spark jobs in parallel on an EMR cluster\n",
    "\n",
    "##### The database needed to be accessed by 100+ people.\n",
    "A good way to handle this amount of connections is to use Redshift. The downfall by this alternative are the costs, which can become significant with time and increased data amount.\n",
    "\n",
    "Another solution would be to copy (on a regular basis) data from Data Warehouse to a NoSQL server, for example Apache Cassandra or MongoDB. These servers can easily handle multiple connections. They however have no the same level of flexibility and complexity when building queries."
   ]
  },
  {
   "cell_type": "code",
   "execution_count": null,
   "metadata": {},
   "outputs": [],
   "source": []
  }
 ],
 "metadata": {
  "kernelspec": {
   "display_name": "Python 3",
   "language": "python",
   "name": "python3"
  },
  "language_info": {
   "codemirror_mode": {
    "name": "ipython",
    "version": 3
   },
   "file_extension": ".py",
   "mimetype": "text/x-python",
   "name": "python",
   "nbconvert_exporter": "python",
   "pygments_lexer": "ipython3",
   "version": "3.8.10"
  }
 },
 "nbformat": 4,
 "nbformat_minor": 4
}
